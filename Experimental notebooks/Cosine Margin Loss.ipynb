{
 "cells": [
  {
   "cell_type": "code",
   "execution_count": 1,
   "id": "ad5d49bc-c298-42d5-86c1-68ebf79ced6c",
   "metadata": {},
   "outputs": [],
   "source": [
    "import pandas as pd\n",
    "import numpy as np\n",
    "import torch\n",
    "import torch.nn as nn"
   ]
  },
  {
   "cell_type": "code",
   "execution_count": 19,
   "id": "fa860036-cb5c-4834-a444-6b53fa9c05db",
   "metadata": {},
   "outputs": [],
   "source": [
    "def hypershperical_cosine_margin_loss(emb1, emb2, s=1.0, m=0.5):\n",
    "    emb1 = emb1 / emb1.norm(dim=1)[:, None]\n",
    "    emb2 = emb2 / emb2.norm(dim=1)[:, None]    \n",
    "    c = torch.sum(emb1 * emb2, dim=-1)\n",
    "    c -= m\n",
    "    return torch.exp(s*c)"
   ]
  },
  {
   "cell_type": "code",
   "execution_count": 23,
   "id": "a0f5c479-95f1-4ca7-bb44-4af910705a19",
   "metadata": {},
   "outputs": [],
   "source": [
    "a = torch.tensor([[1, 1, 1, 1],\n",
    "                 [1, 0, 0, 0]]).float()\n",
    "\n",
    "p = torch.tensor([[2, 1, 3, 1],\n",
    "                 [0, 0, 0, 1]]).float()\n",
    "\n",
    "\n",
    "n = torch.tensor([[-2, 1, 0, 1],\n",
    "                 [0, 4, 5, 1]]).float()"
   ]
  },
  {
   "cell_type": "code",
   "execution_count": 24,
   "id": "5b6b7da3-a450-47c2-9688-136308b8c7df",
   "metadata": {},
   "outputs": [
    {
     "data": {
      "text/plain": [
       "tensor([1.4973, 0.6065])"
      ]
     },
     "execution_count": 24,
     "metadata": {},
     "output_type": "execute_result"
    }
   ],
   "source": [
    "hypershperical_cosine_margin_loss(a, p)"
   ]
  },
  {
   "cell_type": "code",
   "execution_count": 25,
   "id": "81470990-72af-4d8b-adf9-d763b4219057",
   "metadata": {},
   "outputs": [],
   "source": [
    "def cosine_margin_triplet_loss(emb_anchor, emb_pos, emb_neg, s=1.0, m=0.5):\n",
    "    d_pos = hypershperical_cosine_margin_loss(emb_anchor, emb_pos, s=s, m=m)\n",
    "    d_neg = hypershperical_cosine_margin_loss(emb_anchor, emb_neg, s=s, m=0.0)    \n",
    "    \n",
    "    return -1* torch.log(d_pos/(d_pos+d_neg))"
   ]
  },
  {
   "cell_type": "code",
   "execution_count": 26,
   "id": "0c2fa4df-8044-42d8-838c-1d7e775c941d",
   "metadata": {},
   "outputs": [
    {
     "data": {
      "text/plain": [
       "tensor([0.5115, 0.9741])"
      ]
     },
     "execution_count": 26,
     "metadata": {},
     "output_type": "execute_result"
    }
   ],
   "source": [
    "cosine_margin_triplet_loss(a, p, n)"
   ]
  },
  {
   "cell_type": "code",
   "execution_count": null,
   "id": "d1182f32-9a88-406f-9d8a-57bb31f48e0e",
   "metadata": {},
   "outputs": [],
   "source": [
    "def CustomCMT_Loss(nn.Module):\n",
    "    def __init__(self, s=1.0, m=0.5):\n",
    "        self.s = s\n",
    "        self.m = m\n",
    "        \n",
    "    def forward(self, embeddings, labels):\n",
    "        "
   ]
  }
 ],
 "metadata": {
  "kernelspec": {
   "display_name": "Python 3 (ipykernel)",
   "language": "python",
   "name": "python3"
  },
  "language_info": {
   "codemirror_mode": {
    "name": "ipython",
    "version": 3
   },
   "file_extension": ".py",
   "mimetype": "text/x-python",
   "name": "python",
   "nbconvert_exporter": "python",
   "pygments_lexer": "ipython3",
   "version": "3.10.0"
  }
 },
 "nbformat": 4,
 "nbformat_minor": 5
}
