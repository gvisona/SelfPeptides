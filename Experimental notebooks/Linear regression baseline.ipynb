{
 "cells": [
  {
   "cell_type": "code",
   "execution_count": 2,
   "id": "37d65456-881b-4846-be54-ac2d91f1c536",
   "metadata": {},
   "outputs": [],
   "source": [
    "import pandas as pd\n",
    "import numpy as np\n",
    "import h5py\n",
    "\n",
    "from selfpeptide.utils.data_utils import Self_NonSelf_PeptideDataset"
   ]
  },
  {
   "cell_type": "code",
   "execution_count": 3,
   "id": "3f693076-2516-48cc-a510-ec8b9bab178a",
   "metadata": {},
   "outputs": [],
   "source": [
    "hdf5_file = \"../processed_data/pre_tokenized_peptides_dataset.hdf5\"\n",
    "dset = Self_NonSelf_PeptideDataset(hdf5_file, gen_size=500000, val_size=0)"
   ]
  },
  {
   "cell_type": "code",
   "execution_count": 4,
   "id": "ceef8d7f-41e7-48de-b369-b90d1b5e4d0d",
   "metadata": {},
   "outputs": [
    {
     "data": {
      "text/plain": [
       "tensor([[ 1, 20,  2,  ..., 22, 22, 22],\n",
       "        [ 8,  9,  7,  ..., 20,  0,  8],\n",
       "        [16, 11,  7,  ..., 15,  1, 11],\n",
       "        ...,\n",
       "        [12, 15,  5,  ..., 12, 22, 22],\n",
       "        [12,  9,  9,  ..., 22, 22, 22],\n",
       "        [ 5, 18, 16,  ..., 20, 22, 22]])"
      ]
     },
     "execution_count": 4,
     "metadata": {},
     "output_type": "execute_result"
    }
   ],
   "source": [
    "dset.peptides"
   ]
  },
  {
   "cell_type": "code",
   "execution_count": null,
   "id": "87128df6-5674-4bd9-9eeb-7e41d4736f03",
   "metadata": {},
   "outputs": [],
   "source": []
  }
 ],
 "metadata": {
  "kernelspec": {
   "display_name": "Python 3 (ipykernel)",
   "language": "python",
   "name": "python3"
  },
  "language_info": {
   "codemirror_mode": {
    "name": "ipython",
    "version": 3
   },
   "file_extension": ".py",
   "mimetype": "text/x-python",
   "name": "python",
   "nbconvert_exporter": "python",
   "pygments_lexer": "ipython3",
   "version": "3.10.0"
  }
 },
 "nbformat": 4,
 "nbformat_minor": 5
}
