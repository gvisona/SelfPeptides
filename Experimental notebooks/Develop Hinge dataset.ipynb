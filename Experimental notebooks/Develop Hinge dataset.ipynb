{
 "cells": [
  {
   "cell_type": "code",
   "execution_count": 2,
   "id": "e8e2d1c2-203a-419b-b1f7-d973a4818360",
   "metadata": {},
   "outputs": [],
   "source": [
    "import numpy as np\n",
    "import h5py\n",
    "from tqdm import tqdm\n",
    "import os\n",
    "import torch\n",
    "from torch.utils.data import Dataset, DataLoader\n",
    "from selfpeptide.utils.constants import *\n",
    "\n",
    "import time"
   ]
  },
  {
   "cell_type": "code",
   "execution_count": 23,
   "id": "35e57edc-3765-4d18-b1ad-ef58d9a86e3d",
   "metadata": {},
   "outputs": [],
   "source": [
    "class Self_NonSelf_PeptideDataset(Dataset):\n",
    "    def __init__(self, hdf5_dataset_fname, gen_size=1000, \n",
    "                 val_size=0,\n",
    "                 negative_label=-1):\n",
    "        self.hdf5_dataset_fname = hdf5_dataset_fname\n",
    "        self.gen_size = gen_size\n",
    "        self.val_size = val_size//2\n",
    "        self.negative_label = negative_label        \n",
    "\n",
    "        if not os.path.exists(self.hdf5_dataset_fname):\n",
    "            raise FileNotFoundError(\"Specify a valid HDF5 file for the dataset\")\n",
    "        self._get_n_peptides()\n",
    "        \n",
    "        self.idx_self = self.val_size\n",
    "        self.idx_nonself = self.val_size\n",
    "    \n",
    "        self._load_peptides(gen_size)\n",
    "        \n",
    "    def _get_n_peptides(self):\n",
    "        with h5py.File(self.hdf5_dataset_fname, 'r') as f:\n",
    "            self.n_self_peptides = len(f[\"reference_human_peptides\"])\n",
    "            self.n_nonself_peptides = len(f[\"nonself_peptides\"])\n",
    "\n",
    "                    \n",
    "    def _load_peptides(self, n_peptides):\n",
    "        peptides = torch.zeros((n_peptides, MAX_PEPTIDE_LEN)).long()\n",
    "        labels = torch.ones(n_peptides).long()\n",
    "        \n",
    "\n",
    "        with h5py.File(self.hdf5_dataset_fname, 'r') as f:\n",
    "            peptides[::2, :] = torch.from_numpy(f[\"reference_human_peptides\"][self.idx_self:self.idx_self+n_peptides//2])\n",
    "            peptides[1::2, :] = torch.from_numpy(f[\"nonself_peptides\"][self.idx_nonself:self.idx_nonself+n_peptides//2])\n",
    "            \n",
    "        labels[1::2] = self.negative_label\n",
    "        \n",
    "        self.peptides = peptides.long()\n",
    "        self.labels = labels.long()\n",
    "        \n",
    "        self.idx_self += n_peptides//2\n",
    "        self.idx_nonself += n_peptides//2\n",
    "        \n",
    "        \n",
    "    def refresh_data(self):\n",
    "        if self.n_self_peptides-self.idx_self<self.gen_size:\n",
    "            self.idx_self = self.val_size\n",
    "        if self.n_nonself_peptides-self.idx_nonself<self.gen_size:\n",
    "            self.idx_nonself = self.val_size\n",
    "        self._load_peptides(self.gen_size)\n",
    "    \n",
    "    def __len__(self):\n",
    "        return len(self.peptides)\n",
    "    \n",
    "    def __getitem__(self, idx):\n",
    "        return self.peptides[idx], self.labels[idx]"
   ]
  },
  {
   "cell_type": "code",
   "execution_count": 30,
   "id": "3f5bfc29-a180-4b4d-a31c-54a4dec19d58",
   "metadata": {},
   "outputs": [],
   "source": [
    "hdf5_file = \"../processed_data/pre_tokenized_peptides_dataset.hdf5\"\n",
    "dset = Self_NonSelf_PeptideDataset(hdf5_file, gen_size=10000, val_size=20)"
   ]
  },
  {
   "cell_type": "code",
   "execution_count": 31,
   "id": "691333c1-5958-447f-ad07-c08bd11b2faa",
   "metadata": {},
   "outputs": [
    {
     "data": {
      "text/plain": [
       "(tensor([10,  2, 20, 17, 17,  5,  0, 14, 16,  4, 22, 22]), tensor(1))"
      ]
     },
     "execution_count": 31,
     "metadata": {},
     "output_type": "execute_result"
    }
   ],
   "source": [
    "dset[0]"
   ]
  },
  {
   "cell_type": "code",
   "execution_count": 19,
   "id": "bf0812a6-c3d5-4ab8-89fe-2cc78e417c43",
   "metadata": {},
   "outputs": [],
   "source": [
    "dloader = DataLoader(dset, batch_size=4)"
   ]
  },
  {
   "cell_type": "code",
   "execution_count": 22,
   "id": "6433fb2d-ab05-4873-be85-09be7c39f872",
   "metadata": {},
   "outputs": [
    {
     "data": {
      "text/plain": [
       "[tensor([[13, 15, 16,  9,  7,  0, 17, 12, 22, 22, 22, 22],\n",
       "         [17,  2, 15,  6,  9,  7, 14,  8, 22, 22, 22, 22],\n",
       "         [17,  2, 17,  3,  9,  7,  2,  8, 15, 16, 11, 14],\n",
       "         [ 2, 17,  8,  1, 15, 15,  1,  3,  5,  9, 22, 22]]),\n",
       " tensor([ 1, -1,  1, -1])]"
      ]
     },
     "execution_count": 22,
     "metadata": {},
     "output_type": "execute_result"
    }
   ],
   "source": [
    "next(iter(dloader))"
   ]
  },
  {
   "cell_type": "code",
   "execution_count": 21,
   "id": "739786b5-f7fc-4b45-a2cb-a58120142cdf",
   "metadata": {},
   "outputs": [],
   "source": [
    "dset.refresh_data()"
   ]
  },
  {
   "cell_type": "code",
   "execution_count": 29,
   "id": "b62ac1fb-8bd6-43ff-b677-66b06382991d",
   "metadata": {},
   "outputs": [
    {
     "data": {
      "text/plain": [
       "(tensor([10,  2, 20, 17, 17,  5,  0, 14, 16,  4, 22, 22]), tensor(1))"
      ]
     },
     "execution_count": 29,
     "metadata": {},
     "output_type": "execute_result"
    }
   ],
   "source": [
    "dset[20]"
   ]
  },
  {
   "cell_type": "code",
   "execution_count": null,
   "id": "66b2e02b-1f90-4093-bb8b-acd478b24973",
   "metadata": {},
   "outputs": [],
   "source": []
  }
 ],
 "metadata": {
  "kernelspec": {
   "display_name": "Python 3 (ipykernel)",
   "language": "python",
   "name": "python3"
  },
  "language_info": {
   "codemirror_mode": {
    "name": "ipython",
    "version": 3
   },
   "file_extension": ".py",
   "mimetype": "text/x-python",
   "name": "python",
   "nbconvert_exporter": "python",
   "pygments_lexer": "ipython3",
   "version": "3.10.0"
  }
 },
 "nbformat": 4,
 "nbformat_minor": 5
}
