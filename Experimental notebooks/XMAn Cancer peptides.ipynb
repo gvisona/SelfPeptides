{
 "cells": [
  {
   "cell_type": "code",
   "execution_count": 1,
   "id": "4d6c2380-26ea-4b96-907b-071de4afee62",
   "metadata": {},
   "outputs": [],
   "source": [
    "import pandas as pd\n",
    "import os\n",
    "from tqdm.notebook import tqdm\n",
    "import json\n",
    "import numpy as np"
   ]
  },
  {
   "cell_type": "code",
   "execution_count": 2,
   "id": "69b50c73-cfd8-4734-b320-eaa3f77e337d",
   "metadata": {},
   "outputs": [
    {
     "data": {
      "application/vnd.jupyter.widget-view+json": {
       "model_id": "8860329a0f2047a592c6d2b261929a57",
       "version_major": 2,
       "version_minor": 0
      },
      "text/plain": [
       "0it [00:00, ?it/s]"
      ]
     },
     "metadata": {},
     "output_type": "display_data"
    },
    {
     "name": "stdout",
     "output_type": "stream",
     "text": [
      "872125\n"
     ]
    }
   ],
   "source": [
    "peptides = []\n",
    "fname = \"../data/XMAn/pr5004467_si_001.txt\"\n",
    "ix = 0\n",
    "\n",
    "cancer_proteome_ref = {}\n",
    "with open(fname, \"r\") as f:\n",
    "    label=None\n",
    "    prot_seq = \"\"\n",
    "    for line in tqdm(f):\n",
    "        if line.startswith(\">\"):\n",
    "            if label is not None:\n",
    "                cancer_proteome_ref[label+\"_\"+str(ix)] = prot_seq\n",
    "                ix += 1\n",
    "                prot_seq = \"\"\n",
    "            label = line.strip()\n",
    "            continue\n",
    "        else:\n",
    "            prot_seq += line.strip()\n",
    "            \n",
    "    cancer_proteome_ref[label] = prot_seq\n",
    "print(len(cancer_proteome_ref))"
   ]
  },
  {
   "cell_type": "code",
   "execution_count": 3,
   "id": "c33291c4-368f-4b16-9a54-fa774dc06dee",
   "metadata": {},
   "outputs": [],
   "source": [
    "def extract_peptides_from_protein_sequence(protein_seq, l=9):\n",
    "    if len(protein_seq)<l:\n",
    "        return []\n",
    "    peptides = []\n",
    "    for i in range(len(protein_seq)-l+1):\n",
    "        peptides.append(protein_seq[i:i+l])\n",
    "    return peptides"
   ]
  },
  {
   "cell_type": "code",
   "execution_count": 4,
   "id": "efabbbe0-008f-447d-88e6-632ae83ba023",
   "metadata": {},
   "outputs": [
    {
     "data": {
      "application/vnd.jupyter.widget-view+json": {
       "model_id": "d1aca3be00314da8abf0855c5b9acbc5",
       "version_major": 2,
       "version_minor": 0
      },
      "text/plain": [
       "  0%|          | 0/5 [00:00<?, ?it/s]"
      ]
     },
     "metadata": {},
     "output_type": "display_data"
    },
    {
     "data": {
      "application/vnd.jupyter.widget-view+json": {
       "model_id": "b6f8f302c4f3485b926e1adef06360bf",
       "version_major": 2,
       "version_minor": 0
      },
      "text/plain": [
       "  0%|          | 0/872125 [00:00<?, ?it/s]"
      ]
     },
     "metadata": {},
     "output_type": "display_data"
    },
    {
     "data": {
      "application/vnd.jupyter.widget-view+json": {
       "model_id": "3cb314003d424b70b46816b1263cd688",
       "version_major": 2,
       "version_minor": 0
      },
      "text/plain": [
       "  0%|          | 0/872125 [00:00<?, ?it/s]"
      ]
     },
     "metadata": {},
     "output_type": "display_data"
    },
    {
     "data": {
      "application/vnd.jupyter.widget-view+json": {
       "model_id": "72db7db6c24746e1bff02db5d9fc1856",
       "version_major": 2,
       "version_minor": 0
      },
      "text/plain": [
       "  0%|          | 0/872125 [00:00<?, ?it/s]"
      ]
     },
     "metadata": {},
     "output_type": "display_data"
    },
    {
     "data": {
      "application/vnd.jupyter.widget-view+json": {
       "model_id": "806c952555ba4e48a6299312262c24a7",
       "version_major": 2,
       "version_minor": 0
      },
      "text/plain": [
       "  0%|          | 0/872125 [00:00<?, ?it/s]"
      ]
     },
     "metadata": {},
     "output_type": "display_data"
    },
    {
     "data": {
      "application/vnd.jupyter.widget-view+json": {
       "model_id": "53ec64cab75b46969bb39d86785a057c",
       "version_major": 2,
       "version_minor": 0
      },
      "text/plain": [
       "  0%|          | 0/872125 [00:00<?, ?it/s]"
      ]
     },
     "metadata": {},
     "output_type": "display_data"
    },
    {
     "data": {
      "text/plain": [
       "208884438"
      ]
     },
     "execution_count": 4,
     "metadata": {},
     "output_type": "execute_result"
    }
   ],
   "source": [
    "human_cancer_peptides = []\n",
    "for l in tqdm(range(8, 13)):\n",
    "    for prot_seq in tqdm(list(cancer_proteome_ref.values())):\n",
    "        peptides = extract_peptides_from_prot(prot_seq, l)\n",
    "        human_cancer_peptides.extend(peptides)\n",
    "len(human_cancer_peptides)"
   ]
  },
  {
   "cell_type": "code",
   "execution_count": 5,
   "id": "fc108733-ed6f-4b37-9717-0b5b79763368",
   "metadata": {},
   "outputs": [
    {
     "data": {
      "text/plain": [
       "52208587"
      ]
     },
     "execution_count": 5,
     "metadata": {},
     "output_type": "execute_result"
    }
   ],
   "source": [
    "with open(\"../processed_data/UniProt/human_peptides.json\", \"r\") as f:\n",
    "    reference_human_peptides = json.load(f)\n",
    "reference_human_peptides = set(reference_human_peptides) \n",
    "len(reference_human_peptides)"
   ]
  },
  {
   "cell_type": "code",
   "execution_count": 6,
   "id": "78c8881f-f77b-41b9-8401-4b81f460c9ac",
   "metadata": {},
   "outputs": [
    {
     "data": {
      "application/vnd.jupyter.widget-view+json": {
       "model_id": "125f254027204ef485a4f7f61a0053d6",
       "version_major": 2,
       "version_minor": 0
      },
      "text/plain": [
       "  0%|          | 0/208884438 [00:00<?, ?it/s]"
      ]
     },
     "metadata": {},
     "output_type": "display_data"
    },
    {
     "data": {
      "text/plain": [
       "42498820"
      ]
     },
     "execution_count": 6,
     "metadata": {},
     "output_type": "execute_result"
    }
   ],
   "source": [
    "filtered_cancer_peptides = []\n",
    "for p in tqdm(human_cancer_peptides):\n",
    "    if p not in reference_human_peptides:\n",
    "        filtered_cancer_peptides.append(p)\n",
    "len(filtered_cancer_peptides)"
   ]
  },
  {
   "cell_type": "code",
   "execution_count": 7,
   "id": "79ff302e-68e0-4ee1-a8d5-ecba80d98ca2",
   "metadata": {},
   "outputs": [
    {
     "data": {
      "text/plain": [
       "39702919"
      ]
     },
     "execution_count": 7,
     "metadata": {},
     "output_type": "execute_result"
    }
   ],
   "source": [
    "filtered_cancer_peptides_set = set(filtered_cancer_peptides)\n",
    "len(filtered_cancer_peptides_set)"
   ]
  },
  {
   "cell_type": "code",
   "execution_count": 8,
   "id": "864a494e-006f-4eaf-b1b0-c70822f42e92",
   "metadata": {},
   "outputs": [],
   "source": [
    "with open(\"../processed_data/XMAn_filtered_peptides.json\", \"w\") as f:\n",
    "    json.dump(list(filtered_cancer_peptides_set), f, indent=2)"
   ]
  },
  {
   "cell_type": "code",
   "execution_count": null,
   "id": "7f8fb493-a8a8-442c-82d9-90bdee66fbaa",
   "metadata": {},
   "outputs": [],
   "source": []
  }
 ],
 "metadata": {
  "kernelspec": {
   "display_name": "Python 3 (ipykernel)",
   "language": "python",
   "name": "python3"
  },
  "language_info": {
   "codemirror_mode": {
    "name": "ipython",
    "version": 3
   },
   "file_extension": ".py",
   "mimetype": "text/x-python",
   "name": "python",
   "nbconvert_exporter": "python",
   "pygments_lexer": "ipython3",
   "version": "3.10.0"
  }
 },
 "nbformat": 4,
 "nbformat_minor": 5
}
