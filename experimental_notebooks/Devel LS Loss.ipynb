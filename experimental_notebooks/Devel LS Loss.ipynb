{
 "cells": [
  {
   "cell_type": "code",
   "execution_count": 1,
   "id": "f83c3157-672a-4df4-8877-d7bbbaf6c12c",
   "metadata": {},
   "outputs": [],
   "source": [
    "import torch\n",
    "import torch.nn as nn\n"
   ]
  },
  {
   "cell_type": "code",
   "execution_count": 40,
   "id": "8d6dbd9e-88d1-4872-8852-721be0c46681",
   "metadata": {},
   "outputs": [],
   "source": [
    "class LS_CELoss(nn.Module):\n",
    "    def __init__(self, ls_alpha=0.1, class_weights=[1.0, 1.0], device=\"cpu\"):\n",
    "        super().__init__()\n",
    "        self.ls_alpha = ls_alpha\n",
    "        self.ce_loss = nn.CrossEntropyLoss(reduction=\"none\")\n",
    "        self.class_weights = torch.tensor(class_weights).to(device)\n",
    "        \n",
    "    def forward(self, predicted_pos_logits, class_targets):\n",
    "        expanded_logits = torch.vstack([-predicted_pos_logits, predicted_pos_logits]).transpose(0, 1)\n",
    "        targets_probs = torch.ones_like(expanded_logits)*self.ls_alpha/2\n",
    "        targets_probs[torch.arange(len(targets_probs)), targets] += (1-self.ls_alpha)\n",
    "        weights = torch.gather(self.class_weights, 0, targets.long())\n",
    "        loss = self.ce_loss(expanded_logits, targets_probs)\n",
    "        loss = torch.mean(loss * weights)\n",
    "        return loss"
   ]
  },
  {
   "cell_type": "code",
   "execution_count": 41,
   "id": "99a64f96-9363-4b13-873c-7d082f7e836f",
   "metadata": {},
   "outputs": [],
   "source": [
    "logits = torch.tensor([0.1, 2.2, 1.0, -1.0, -0.003])\n",
    "targets = torch.tensor([1, 1, 1, 0, 0])"
   ]
  },
  {
   "cell_type": "code",
   "execution_count": 42,
   "id": "bcb12f8a-eedd-4f5c-9f42-36da00455ed3",
   "metadata": {},
   "outputs": [],
   "source": [
    "ls_alpha=0.1"
   ]
  },
  {
   "cell_type": "code",
   "execution_count": 43,
   "id": "e0fee376-674a-49c4-a52f-d3b286683ddd",
   "metadata": {},
   "outputs": [
    {
     "data": {
      "text/plain": [
       "tensor(0.3969)"
      ]
     },
     "execution_count": 43,
     "metadata": {},
     "output_type": "execute_result"
    }
   ],
   "source": [
    "ls_loss = LS_CELoss()\n",
    "ls_loss(logits, targets)"
   ]
  },
  {
   "cell_type": "code",
   "execution_count": 14,
   "id": "ce0ab3a6-84c2-4882-b5eb-c75ff0e4c381",
   "metadata": {},
   "outputs": [],
   "source": [
    "expanded_logits = torch.vstack([-logits, logits]).transpose(0, 1)"
   ]
  },
  {
   "cell_type": "code",
   "execution_count": 15,
   "id": "f268e13b-7bd0-43c3-9fb0-3c96f9075bf3",
   "metadata": {},
   "outputs": [
    {
     "data": {
      "text/plain": [
       "tensor([[-0.1000,  0.1000],\n",
       "        [-2.2000,  2.2000],\n",
       "        [-1.0000,  1.0000],\n",
       "        [ 1.0000, -1.0000],\n",
       "        [ 0.0030, -0.0030]])"
      ]
     },
     "execution_count": 15,
     "metadata": {},
     "output_type": "execute_result"
    }
   ],
   "source": [
    "expanded_logits"
   ]
  },
  {
   "cell_type": "code",
   "execution_count": 22,
   "id": "ab70317d-ad34-4c74-83c9-84a2a65c5e9c",
   "metadata": {},
   "outputs": [
    {
     "data": {
      "text/plain": [
       "tensor([[0.0500, 0.9500],\n",
       "        [0.0500, 0.9500],\n",
       "        [0.0500, 0.9500],\n",
       "        [0.9500, 0.0500],\n",
       "        [0.9500, 0.0500]])"
      ]
     },
     "execution_count": 22,
     "metadata": {},
     "output_type": "execute_result"
    }
   ],
   "source": [
    "targets_probs = torch.ones_like(expanded_logits)*ls_alpha/2\n",
    "targets_probs[torch.arange(len(targets_probs)), targets] += (1-ls_alpha)\n",
    "targets_probs"
   ]
  },
  {
   "cell_type": "code",
   "execution_count": 21,
   "id": "d58c1244-5269-475e-b2df-79f599d63db0",
   "metadata": {},
   "outputs": [
    {
     "data": {
      "text/plain": [
       "tensor([1, 1, 1, 0, 0])"
      ]
     },
     "execution_count": 21,
     "metadata": {},
     "output_type": "execute_result"
    }
   ],
   "source": [
    "targets"
   ]
  },
  {
   "cell_type": "code",
   "execution_count": null,
   "id": "60749059-c39f-4299-92d7-e3c6681a5873",
   "metadata": {},
   "outputs": [],
   "source": []
  }
 ],
 "metadata": {
  "kernelspec": {
   "display_name": "Python 3 (ipykernel)",
   "language": "python",
   "name": "python3"
  },
  "language_info": {
   "codemirror_mode": {
    "name": "ipython",
    "version": 3
   },
   "file_extension": ".py",
   "mimetype": "text/x-python",
   "name": "python",
   "nbconvert_exporter": "python",
   "pygments_lexer": "ipython3",
   "version": "3.10.0"
  }
 },
 "nbformat": 4,
 "nbformat_minor": 5
}
