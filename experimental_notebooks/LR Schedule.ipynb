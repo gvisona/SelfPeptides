{
 "cells": [
  {
   "cell_type": "code",
   "execution_count": 1,
   "id": "d5e31a5b-c091-4ee0-b8f9-eab0bb462d1b",
   "metadata": {},
   "outputs": [],
   "source": [
    "import numpy as np\n",
    "import matplotlib.pyplot as plt\n",
    "import seaborn as sns"
   ]
  },
  {
   "cell_type": "code",
   "execution_count": 9,
   "id": "868b2cd6-20c9-4d3f-bc4c-e8f631d763af",
   "metadata": {},
   "outputs": [],
   "source": [
    "def warmup_constant_lr_schedule(t, min_frac=0.001, total_iters=100, delay=0.0, ramp_up=0.3):\n",
    "    assert isinstance(total_iters, int)\n",
    "    if isinstance(ramp_up, float):\n",
    "        ramp_up_steps = total_iters*ramp_up\n",
    "    elif isinstance(ramp_up, int):\n",
    "        assert ramp_up<total_iters\n",
    "        ramp_up_steps = ramp_up\n",
    "    \n",
    "    if isinstance(delay, float):\n",
    "        delay_steps = total_iters*delay\n",
    "    elif isinstance(delay, int):\n",
    "        assert delay<total_iters\n",
    "        delay_steps = delay\n",
    "            \n",
    "    \n",
    "    if t<delay_steps:\n",
    "        return 0\n",
    "    elif t<=delay_steps+ramp_up_steps:\n",
    "        return min_frac + (t-delay_steps)*(1-min_frac)/ramp_up_steps\n",
    "    return 1.0"
   ]
  },
  {
   "cell_type": "code",
   "execution_count": 10,
   "id": "dc70f326-75c6-44fc-b8c9-32c8e3d70a7d",
   "metadata": {},
   "outputs": [],
   "source": [
    "def lr_lambda(s): return warmup_constant_lr_schedule(s, min_frac=0.1, total_iters=100,\n",
    "                                     ramp_up=0.1)"
   ]
  },
  {
   "cell_type": "code",
   "execution_count": 11,
   "id": "65fac826-cced-4466-ae85-beb289bafc3a",
   "metadata": {},
   "outputs": [],
   "source": [
    "xx = np.arange(100)\n",
    "yy = [lr_lambda(x) for x in xx]\n"
   ]
  },
  {
   "cell_type": "code",
   "execution_count": 12,
   "id": "25dd2c87-3649-478e-9b80-c2a20efe3579",
   "metadata": {},
   "outputs": [
    {
     "data": {
      "text/plain": [
       "[<matplotlib.lines.Line2D at 0x7f9a3bfbd780>]"
      ]
     },
     "execution_count": 12,
     "metadata": {},
     "output_type": "execute_result"
    },
    {
     "data": {
      "image/png": "[encoded data removed]",
      "text/plain": [
       "<Figure size 640x480 with 1 Axes>"
      ]
     },
     "metadata": {},
     "output_type": "display_data"
    }
   ],
   "source": [
    "fig, ax = plt.subplots()\n",
    "ax.plot(xx, yy)"
   ]
  },
  {
   "cell_type": "code",
   "execution_count": null,
   "id": "2bf9a5aa-c464-45cf-a0b4-c3c233dcb3e6",
   "metadata": {},
   "outputs": [],
   "source": []
  }
 ],
 "metadata": {
  "kernelspec": {
   "display_name": "Python 3 (ipykernel)",
   "language": "python",
   "name": "python3"
  },
  "language_info": {
   "codemirror_mode": {
    "name": "ipython",
    "version": 3
   },
   "file_extension": ".py",
   "mimetype": "text/x-python",
   "name": "python",
   "nbconvert_exporter": "python",
   "pygments_lexer": "ipython3",
   "version": "3.10.0"
  }
 },
 "nbformat": 4,
 "nbformat_minor": 5
}
