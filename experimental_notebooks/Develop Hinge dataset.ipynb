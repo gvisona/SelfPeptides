{
 "cells": [
  {
   "cell_type": "code",
   "execution_count": 17,
   "id": "e8e2d1c2-203a-419b-b1f7-d973a4818360",
   "metadata": {},
   "outputs": [],
   "source": [
    "import numpy as np\n",
    "import h5py\n",
    "from tqdm import tqdm\n",
    "import os\n",
    "import torch\n",
    "from torch.utils.data import Dataset, DataLoader\n",
    "from selfpeptide.utils.constants import *\n",
    "import torch.nn as nn\n",
    "import time"
   ]
  },
  {
   "cell_type": "code",
   "execution_count": 2,
   "id": "35e57edc-3765-4d18-b1ad-ef58d9a86e3d",
   "metadata": {},
   "outputs": [],
   "source": [
    "class Self_NonSelf_PeptideDataset(Dataset):\n",
    "    def __init__(self, hdf5_dataset_fname, gen_size=1000, \n",
    "                 val_size=0,\n",
    "                 negative_label=-1):\n",
    "        self.hdf5_dataset_fname = hdf5_dataset_fname\n",
    "        self.gen_size = gen_size\n",
    "        self.val_size = val_size//2\n",
    "        self.negative_label = negative_label        \n",
    "\n",
    "        if not os.path.exists(self.hdf5_dataset_fname):\n",
    "            raise FileNotFoundError(\"Specify a valid HDF5 file for the dataset\")\n",
    "        self._get_n_peptides()\n",
    "        \n",
    "        self.idx_self = self.val_size\n",
    "        self.idx_nonself = self.val_size\n",
    "    \n",
    "        self._load_peptides(gen_size)\n",
    "        \n",
    "    def _get_n_peptides(self):\n",
    "        with h5py.File(self.hdf5_dataset_fname, 'r') as f:\n",
    "            self.n_self_peptides = len(f[\"reference_human_peptides\"])\n",
    "            self.n_nonself_peptides = len(f[\"nonself_peptides\"])\n",
    "\n",
    "                    \n",
    "    def _load_peptides(self, n_peptides):\n",
    "        peptides = torch.zeros((n_peptides, MAX_PEPTIDE_LEN)).long()\n",
    "        labels = torch.ones(n_peptides).long()\n",
    "        \n",
    "\n",
    "        with h5py.File(self.hdf5_dataset_fname, 'r') as f:\n",
    "            peptides[::2, :] = torch.from_numpy(f[\"reference_human_peptides\"][self.idx_self:self.idx_self+n_peptides//2])\n",
    "            peptides[1::2, :] = torch.from_numpy(f[\"nonself_peptides\"][self.idx_nonself:self.idx_nonself+n_peptides//2])\n",
    "            \n",
    "        labels[1::2] = self.negative_label\n",
    "        \n",
    "        self.peptides = peptides.long()\n",
    "        self.labels = labels.long()\n",
    "        \n",
    "        self.idx_self += n_peptides//2\n",
    "        self.idx_nonself += n_peptides//2\n",
    "        \n",
    "        \n",
    "    def refresh_data(self):\n",
    "        if self.n_self_peptides-self.idx_self<self.gen_size:\n",
    "            self.idx_self = self.val_size\n",
    "        if self.n_nonself_peptides-self.idx_nonself<self.gen_size:\n",
    "            self.idx_nonself = self.val_size\n",
    "        self._load_peptides(self.gen_size)\n",
    "    \n",
    "    def __len__(self):\n",
    "        return len(self.peptides)\n",
    "    \n",
    "    def __getitem__(self, idx):\n",
    "        return self.peptides[idx], self.labels[idx]"
   ]
  },
  {
   "cell_type": "code",
   "execution_count": 3,
   "id": "3f5bfc29-a180-4b4d-a31c-54a4dec19d58",
   "metadata": {},
   "outputs": [],
   "source": [
    "hdf5_file = \"../processed_data/pre_tokenized_peptides_dataset.hdf5\"\n",
    "dset = Self_NonSelf_PeptideDataset(hdf5_file, gen_size=10000, val_size=20)"
   ]
  },
  {
   "cell_type": "code",
   "execution_count": 4,
   "id": "691333c1-5958-447f-ad07-c08bd11b2faa",
   "metadata": {},
   "outputs": [
    {
     "data": {
      "text/plain": [
       "(tensor([10,  2, 20, 17, 17,  5,  0, 14, 16,  4, 22, 22]), tensor(1))"
      ]
     },
     "execution_count": 4,
     "metadata": {},
     "output_type": "execute_result"
    }
   ],
   "source": [
    "dset[0]"
   ]
  },
  {
   "cell_type": "code",
   "execution_count": 5,
   "id": "bf0812a6-c3d5-4ab8-89fe-2cc78e417c43",
   "metadata": {},
   "outputs": [],
   "source": [
    "dloader = DataLoader(dset, batch_size=16)"
   ]
  },
  {
   "cell_type": "code",
   "execution_count": 6,
   "id": "6433fb2d-ab05-4873-be85-09be7c39f872",
   "metadata": {},
   "outputs": [],
   "source": [
    "batch = next(iter(dloader))"
   ]
  },
  {
   "cell_type": "code",
   "execution_count": 7,
   "id": "66b2e02b-1f90-4093-bb8b-acd478b24973",
   "metadata": {},
   "outputs": [],
   "source": [
    "peptides, labels = batch"
   ]
  },
  {
   "cell_type": "code",
   "execution_count": 8,
   "id": "77f9f4db-ad63-476b-9501-e535cdafa006",
   "metadata": {},
   "outputs": [
    {
     "data": {
      "text/plain": [
       "tensor([[10,  2, 20, 17, 17,  5,  0, 14, 16,  4, 22, 22],\n",
       "        [16,  2, 15,  0, 14,  7, 13,  5, 16, 17,  4, 17],\n",
       "        [12, 15, 12, 14, 17,  7,  7,  6, 11, 14,  1, 12],\n",
       "        [17, 12,  5, 14,  9,  9, 14, 12, 14, 22, 22, 22],\n",
       "        [ 2, 20,  5,  8, 13,  6,  4, 11,  2, 17, 22, 22],\n",
       "        [ 8, 11,  1,  2,  9,  2, 17,  0,  1, 14,  6,  7],\n",
       "        [ 3, 10,  7,  9, 17,  1,  2,  0, 20, 14,  8, 22],\n",
       "        [ 3,  9,  4, 16, 15,  3, 11,  9, 14, 22, 22, 22],\n",
       "        [ 5,  0, 14,  0, 13,  9,  9,  8, 15,  9, 14,  3],\n",
       "        [ 8, 17, 17, 10,  0,  9, 10, 20,  3,  3,  8, 22],\n",
       "        [ 5, 13,  9,  9,  5, 16,  0, 14,  3, 12, 11, 12],\n",
       "        [ 3, 14, 12, 20,  3,  1, 15, 13, 14,  5,  8, 12],\n",
       "        [12,  0,  3,  3, 13,  2, 12, 15, 12,  3, 22, 22],\n",
       "        [ 9, 15,  3,  5,  5,  7, 16, 13,  8,  5, 20,  3],\n",
       "        [17,  3, 13, 12,  8,  5,  3,  3,  9, 22, 22, 22],\n",
       "        [ 7,  9,  0,  4,  9, 17, 12,  9, 17,  0,  1, 22]])"
      ]
     },
     "execution_count": 8,
     "metadata": {},
     "output_type": "execute_result"
    }
   ],
   "source": [
    "peptides"
   ]
  },
  {
   "cell_type": "code",
   "execution_count": 9,
   "id": "4926cb9b-0cf8-488c-98ca-f38659934f57",
   "metadata": {},
   "outputs": [
    {
     "data": {
      "text/plain": [
       "tensor([ 1, -1,  1, -1,  1, -1,  1, -1,  1, -1,  1, -1,  1, -1,  1, -1])"
      ]
     },
     "execution_count": 9,
     "metadata": {},
     "output_type": "execute_result"
    }
   ],
   "source": [
    "labels"
   ]
  },
  {
   "cell_type": "code",
   "execution_count": 14,
   "id": "c935915a-2c1f-4dbc-8a10-ef4a48a8ea4f",
   "metadata": {},
   "outputs": [
    {
     "data": {
      "text/plain": [
       "tensor([ True, False,  True, False,  True, False,  True, False,  True, False,\n",
       "         True, False,  True, False,  True, False])"
      ]
     },
     "execution_count": 14,
     "metadata": {},
     "output_type": "execute_result"
    }
   ],
   "source": [
    "pos_ix = (labels==1)\n",
    "neg_ix = (labels==-1)\n",
    "pos_ix"
   ]
  },
  {
   "cell_type": "code",
   "execution_count": 15,
   "id": "a89d9da2-4ba9-42f9-a411-cf6d3d81bfe8",
   "metadata": {},
   "outputs": [
    {
     "data": {
      "text/plain": [
       "tensor([[10,  2, 20, 17, 17,  5,  0, 14, 16,  4, 22, 22],\n",
       "        [12, 15, 12, 14, 17,  7,  7,  6, 11, 14,  1, 12],\n",
       "        [ 2, 20,  5,  8, 13,  6,  4, 11,  2, 17, 22, 22],\n",
       "        [ 3, 10,  7,  9, 17,  1,  2,  0, 20, 14,  8, 22],\n",
       "        [ 5,  0, 14,  0, 13,  9,  9,  8, 15,  9, 14,  3],\n",
       "        [ 5, 13,  9,  9,  5, 16,  0, 14,  3, 12, 11, 12],\n",
       "        [12,  0,  3,  3, 13,  2, 12, 15, 12,  3, 22, 22],\n",
       "        [17,  3, 13, 12,  8,  5,  3,  3,  9, 22, 22, 22]])"
      ]
     },
     "execution_count": 15,
     "metadata": {},
     "output_type": "execute_result"
    }
   ],
   "source": [
    "peptides[pos_ix]"
   ]
  },
  {
   "cell_type": "code",
   "execution_count": 16,
   "id": "7cae1731-04f2-4da3-b820-4369735afa7c",
   "metadata": {},
   "outputs": [
    {
     "data": {
      "text/plain": [
       "tensor([[16,  2, 15,  0, 14,  7, 13,  5, 16, 17,  4, 17],\n",
       "        [17, 12,  5, 14,  9,  9, 14, 12, 14, 22, 22, 22],\n",
       "        [ 8, 11,  1,  2,  9,  2, 17,  0,  1, 14,  6,  7],\n",
       "        [ 3,  9,  4, 16, 15,  3, 11,  9, 14, 22, 22, 22],\n",
       "        [ 8, 17, 17, 10,  0,  9, 10, 20,  3,  3,  8, 22],\n",
       "        [ 3, 14, 12, 20,  3,  1, 15, 13, 14,  5,  8, 12],\n",
       "        [ 9, 15,  3,  5,  5,  7, 16, 13,  8,  5, 20,  3],\n",
       "        [ 7,  9,  0,  4,  9, 17, 12,  9, 17,  0,  1, 22]])"
      ]
     },
     "execution_count": 16,
     "metadata": {},
     "output_type": "execute_result"
    }
   ],
   "source": [
    "peptides[neg_ix]"
   ]
  },
  {
   "cell_type": "code",
   "execution_count": 18,
   "id": "a0996294-7738-463b-8bf0-2ce9503bcee9",
   "metadata": {},
   "outputs": [],
   "source": [
    "sim = nn.CosineSimilarity()"
   ]
  },
  {
   "cell_type": "code",
   "execution_count": 20,
   "id": "ed30166c-3773-46bf-959f-85d1e898f6fd",
   "metadata": {},
   "outputs": [
    {
     "data": {
      "text/plain": [
       "tensor([0.7500, 0.8391, 0.7359, 0.8883, 0.5887, 0.7336, 0.7778, 0.5810])"
      ]
     },
     "execution_count": 20,
     "metadata": {},
     "output_type": "execute_result"
    }
   ],
   "source": [
    "sim(peptides[pos_ix].float(), peptides[neg_ix].float())"
   ]
  },
  {
   "cell_type": "code",
   "execution_count": 64,
   "id": "e20547a0-7907-4840-bc4c-64ef3340f073",
   "metadata": {},
   "outputs": [],
   "source": [
    "def cosine_similarity_all_pairs(a, b, eps=1e-8):\n",
    "    \"\"\"\n",
    "    added eps for numerical stability\n",
    "    \"\"\"\n",
    "    a_n, b_n = a.norm(dim=1)[:, None], b.norm(dim=1)[:, None]\n",
    "    a_norm = a / torch.clamp(a_n, min=eps)\n",
    "    b_norm = b / torch.clamp(b_n, min=eps)\n",
    "    sim_mt = torch.mm(a_norm, b_norm.transpose(0, 1))\n",
    "    return sim_mt\n",
    "\n",
    "\n",
    "\n",
    "class CustomDistanceHingeLoss(nn.Module):\n",
    "    def __init__(self, margin=0.8, device=\"cpu\"):\n",
    "        super().__init__()\n",
    "        self.margin = margin\n",
    "        self.device = device\n",
    "        self.hinge_loss = nn.HingeEmbeddingLoss(margin=margin)\n",
    "    \n",
    "    def forward(self, embeddings, labels):\n",
    "        pos_ix = (labels==1)\n",
    "        neg_ix = (labels==-1)\n",
    "        \n",
    "        pos_embeddings = embeddings[pos_ix]\n",
    "        neg_embeddings = embeddings[neg_ix]        \n",
    "        \n",
    "        # Similarities Pos-Pos\n",
    "        pos_distance = 1 - cosine_similarity_all_pairs(pos_embeddings, pos_embeddings)\n",
    "        ixs = torch.triu_indices(*pos_distance.shape, offset=1)\n",
    "        pos_cos_distances = pos_distance[ixs[0], ixs[1]]\n",
    "        \n",
    "        \n",
    "        # Similarities Pos-Neg\n",
    "        neg_distance = 1 - cosine_similarity_all_pairs(pos_embeddings, neg_embeddings)\n",
    "        ixs = torch.triu_indices(*neg_distance.shape, offset=0)\n",
    "        neg_cos_distances = neg_distance[ixs[0], ixs[1]]\n",
    "        \n",
    "        cos_distances = torch.cat([neg_cos_distances, pos_cos_distances])\n",
    "        hinge_labels = torch.ones(len(neg_cos_distances)+len(pos_cos_distances), device=self.device)\n",
    "        hinge_labels[:len(neg_cos_distances)] = -1\n",
    "        loss = self.hinge_loss(cos_distances, hinge_labels)\n",
    "        return loss"
   ]
  },
  {
   "cell_type": "code",
   "execution_count": 55,
   "id": "6439656c-c33c-4fc0-bde2-cc5326a36d1b",
   "metadata": {},
   "outputs": [],
   "source": [
    "distance = 1 - cosine_similarity_all_pairs(peptides[pos_ix].float(), peptides[pos_ix].float())"
   ]
  },
  {
   "cell_type": "code",
   "execution_count": 56,
   "id": "3fd64c72-8ae8-44ee-963e-22d6130b68ab",
   "metadata": {},
   "outputs": [
    {
     "data": {
      "text/plain": [
       "tensor([[0.0000e+00, 2.2815e-01, 2.3377e-01, 1.8987e-01, 1.9783e-01, 2.3078e-01,\n",
       "         1.4403e-01, 1.4610e-01],\n",
       "        [2.2815e-01, 1.1921e-07, 2.3462e-01, 1.4739e-01, 2.8076e-01, 2.0262e-01,\n",
       "         3.6034e-01, 2.2079e-01],\n",
       "        [2.3377e-01, 2.3462e-01, 0.0000e+00, 2.0740e-01, 3.5977e-01, 1.2431e-01,\n",
       "         2.3306e-01, 1.7408e-01],\n",
       "        [1.8987e-01, 1.4739e-01, 2.0740e-01, 5.9605e-08, 2.9806e-01, 3.3031e-01,\n",
       "         2.7234e-01, 1.8936e-01],\n",
       "        [1.9783e-01, 2.8076e-01, 3.5977e-01, 2.9806e-01, 0.0000e+00, 3.1362e-01,\n",
       "         2.3439e-01, 2.6291e-01],\n",
       "        [2.3078e-01, 2.0262e-01, 1.2431e-01, 3.3031e-01, 3.1362e-01, 1.1921e-07,\n",
       "         3.3884e-01, 2.2054e-01],\n",
       "        [1.4403e-01, 3.6034e-01, 2.3306e-01, 2.7234e-01, 2.3439e-01, 3.3884e-01,\n",
       "         5.9605e-08, 2.0270e-01],\n",
       "        [1.4610e-01, 2.2079e-01, 1.7408e-01, 1.8936e-01, 2.6291e-01, 2.2054e-01,\n",
       "         2.0270e-01, 1.1921e-07]])"
      ]
     },
     "execution_count": 56,
     "metadata": {},
     "output_type": "execute_result"
    }
   ],
   "source": [
    "distance"
   ]
  },
  {
   "cell_type": "code",
   "execution_count": 57,
   "id": "6f016bfa-2c6b-45d4-852c-25d852853d33",
   "metadata": {},
   "outputs": [
    {
     "data": {
      "text/plain": [
       "torch.Size([8, 8])"
      ]
     },
     "execution_count": 57,
     "metadata": {},
     "output_type": "execute_result"
    }
   ],
   "source": [
    "distance.shape"
   ]
  },
  {
   "cell_type": "code",
   "execution_count": 58,
   "id": "66ddf371-8243-437a-8d83-2a3c3c073fa2",
   "metadata": {},
   "outputs": [
    {
     "data": {
      "text/plain": [
       "tensor([[0, 0, 0, 0, 0, 0, 0, 0, 1, 1, 1, 1, 1, 1, 1, 2, 2, 2, 2, 2, 2, 3, 3, 3,\n",
       "         3, 3, 4, 4, 4, 4, 5, 5, 5, 6, 6, 7],\n",
       "        [0, 1, 2, 3, 4, 5, 6, 7, 1, 2, 3, 4, 5, 6, 7, 2, 3, 4, 5, 6, 7, 3, 4, 5,\n",
       "         6, 7, 4, 5, 6, 7, 5, 6, 7, 6, 7, 7]])"
      ]
     },
     "execution_count": 58,
     "metadata": {},
     "output_type": "execute_result"
    }
   ],
   "source": [
    "torch.triu_indices(*distance.shape)"
   ]
  },
  {
   "cell_type": "code",
   "execution_count": 59,
   "id": "a1b000e5-3418-4b28-ab42-47aa36b80692",
   "metadata": {},
   "outputs": [
    {
     "data": {
      "text/plain": [
       "tensor([0.2281, 0.2338, 0.1899, 0.1978, 0.2308, 0.1440, 0.1461, 0.2346, 0.1474,\n",
       "        0.2808, 0.2026, 0.3603, 0.2208, 0.2074, 0.3598, 0.1243, 0.2331, 0.1741,\n",
       "        0.2981, 0.3303, 0.2723, 0.1894, 0.3136, 0.2344, 0.2629, 0.3388, 0.2205,\n",
       "        0.2027])"
      ]
     },
     "execution_count": 59,
     "metadata": {},
     "output_type": "execute_result"
    }
   ],
   "source": [
    "ixs = torch.triu_indices(*distance.shape, offset=1)\n",
    "distance[ixs[0], ixs[1]]"
   ]
  },
  {
   "cell_type": "code",
   "execution_count": 60,
   "id": "6cf6ece4-5693-44ed-9216-828c7124d4a1",
   "metadata": {},
   "outputs": [
    {
     "data": {
      "text/plain": [
       "torch.Size([2, 28])"
      ]
     },
     "execution_count": 60,
     "metadata": {},
     "output_type": "execute_result"
    }
   ],
   "source": [
    "ixs.shape"
   ]
  },
  {
   "cell_type": "code",
   "execution_count": 65,
   "id": "726b1f48-ed8a-4664-93d9-8a8d585dfd69",
   "metadata": {},
   "outputs": [],
   "source": [
    "loss = CustomDistanceHingeLoss()"
   ]
  },
  {
   "cell_type": "code",
   "execution_count": 66,
   "id": "ffaa6150-8144-4975-b06b-92a3c5023f96",
   "metadata": {},
   "outputs": [
    {
     "data": {
      "text/plain": [
       "tensor(0.3972)"
      ]
     },
     "execution_count": 66,
     "metadata": {},
     "output_type": "execute_result"
    }
   ],
   "source": [
    "loss(peptides.float(), labels)"
   ]
  },
  {
   "cell_type": "code",
   "execution_count": 63,
   "id": "b60ebf25-62c0-42f5-907f-22a95e840690",
   "metadata": {},
   "outputs": [
    {
     "data": {
      "text/plain": [
       "tensor([ 1, -1,  1, -1,  1, -1,  1, -1,  1, -1,  1, -1,  1, -1,  1, -1])"
      ]
     },
     "execution_count": 63,
     "metadata": {},
     "output_type": "execute_result"
    }
   ],
   "source": [
    "labels"
   ]
  },
  {
   "cell_type": "code",
   "execution_count": 53,
   "id": "eebd17c3-83fa-44f3-aed2-e662e9cefea1",
   "metadata": {},
   "outputs": [
    {
     "data": {
      "text/plain": [
       "tensor([[10,  2, 20, 17, 17,  5,  0, 14, 16,  4, 22, 22],\n",
       "        [16,  2, 15,  0, 14,  7, 13,  5, 16, 17,  4, 17],\n",
       "        [12, 15, 12, 14, 17,  7,  7,  6, 11, 14,  1, 12],\n",
       "        [17, 12,  5, 14,  9,  9, 14, 12, 14, 22, 22, 22],\n",
       "        [ 2, 20,  5,  8, 13,  6,  4, 11,  2, 17, 22, 22],\n",
       "        [ 8, 11,  1,  2,  9,  2, 17,  0,  1, 14,  6,  7],\n",
       "        [ 3, 10,  7,  9, 17,  1,  2,  0, 20, 14,  8, 22],\n",
       "        [ 3,  9,  4, 16, 15,  3, 11,  9, 14, 22, 22, 22],\n",
       "        [ 5,  0, 14,  0, 13,  9,  9,  8, 15,  9, 14,  3],\n",
       "        [ 8, 17, 17, 10,  0,  9, 10, 20,  3,  3,  8, 22],\n",
       "        [ 5, 13,  9,  9,  5, 16,  0, 14,  3, 12, 11, 12],\n",
       "        [ 3, 14, 12, 20,  3,  1, 15, 13, 14,  5,  8, 12],\n",
       "        [12,  0,  3,  3, 13,  2, 12, 15, 12,  3, 22, 22],\n",
       "        [ 9, 15,  3,  5,  5,  7, 16, 13,  8,  5, 20,  3],\n",
       "        [17,  3, 13, 12,  8,  5,  3,  3,  9, 22, 22, 22],\n",
       "        [ 7,  9,  0,  4,  9, 17, 12,  9, 17,  0,  1, 22]])"
      ]
     },
     "execution_count": 53,
     "metadata": {},
     "output_type": "execute_result"
    }
   ],
   "source": [
    "peptides"
   ]
  },
  {
   "cell_type": "code",
   "execution_count": null,
   "id": "e427c338-f40f-4c36-8d99-9c5f10896306",
   "metadata": {},
   "outputs": [],
   "source": []
  }
 ],
 "metadata": {
  "kernelspec": {
   "display_name": "Python 3 (ipykernel)",
   "language": "python",
   "name": "python3"
  },
  "language_info": {
   "codemirror_mode": {
    "name": "ipython",
    "version": 3
   },
   "file_extension": ".py",
   "mimetype": "text/x-python",
   "name": "python",
   "nbconvert_exporter": "python",
   "pygments_lexer": "ipython3",
   "version": "3.10.0"
  }
 },
 "nbformat": 4,
 "nbformat_minor": 5
}
