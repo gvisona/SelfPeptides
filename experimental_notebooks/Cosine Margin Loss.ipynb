{
 "cells": [
  {
   "cell_type": "code",
   "execution_count": 1,
   "id": "ad5d49bc-c298-42d5-86c1-68ebf79ced6c",
   "metadata": {},
   "outputs": [],
   "source": [
    "import pandas as pd\n",
    "import numpy as np\n",
    "import torch\n",
    "import torch.nn as nn\n",
    "from torch.utils.data import DataLoader\n",
    "from selfpeptide.utils.data_utils import Self_NonSelf_PeptideDataset\n",
    "\n",
    "import matplotlib.pyplot as plt\n",
    "import seaborn as sns\n",
    "import math"
   ]
  },
  {
   "cell_type": "code",
   "execution_count": 50,
   "id": "fa860036-cb5c-4834-a444-6b53fa9c05db",
   "metadata": {},
   "outputs": [],
   "source": [
    "\n",
    "def hypershperical_cosine_margin_loss(emb1, emb2, s=1.0, m=0.5):\n",
    "    emb1 = emb1 / emb1.norm(dim=1)[:, None]\n",
    "    emb2 = emb2 / emb2.norm(dim=1)[:, None]    \n",
    "    c = torch.sum(emb1 * emb2, dim=-1)\n",
    "    c -= m\n",
    "    return torch.exp(s*c)"
   ]
  },
  {
   "cell_type": "code",
   "execution_count": 23,
   "id": "a0f5c479-95f1-4ca7-bb44-4af910705a19",
   "metadata": {},
   "outputs": [],
   "source": [
    "a = torch.tensor([[1, 1, 1, 1],\n",
    "                 [1, 0, 0, 0]]).float()\n",
    "\n",
    "p = torch.tensor([[2, 1, 3, 1],\n",
    "                 [0, 0, 0, 1]]).float()\n",
    "\n",
    "\n",
    "n = torch.tensor([[-2, 1, 0, 1],\n",
    "                 [0, 4, 5, 1]]).float()"
   ]
  },
  {
   "cell_type": "code",
   "execution_count": 24,
   "id": "5b6b7da3-a450-47c2-9688-136308b8c7df",
   "metadata": {},
   "outputs": [
    {
     "data": {
      "text/plain": [
       "tensor([1.4973, 0.6065])"
      ]
     },
     "execution_count": 24,
     "metadata": {},
     "output_type": "execute_result"
    }
   ],
   "source": [
    "hypershperical_cosine_margin_loss(a, p)"
   ]
  },
  {
   "cell_type": "code",
   "execution_count": 25,
   "id": "81470990-72af-4d8b-adf9-d763b4219057",
   "metadata": {},
   "outputs": [],
   "source": [
    "def cosine_margin_triplet_loss(emb_anchor, emb_pos, emb_neg, s=1.0, m=0.5):\n",
    "    d_pos = hypershperical_cosine_margin_loss(emb_anchor, emb_pos, s=s, m=m)\n",
    "    d_neg = hypershperical_cosine_margin_loss(emb_anchor, emb_neg, s=s, m=0.0)    \n",
    "    \n",
    "    return -1* torch.log(d_pos/(d_pos+d_neg))"
   ]
  },
  {
   "cell_type": "code",
   "execution_count": 26,
   "id": "0c2fa4df-8044-42d8-838c-1d7e775c941d",
   "metadata": {},
   "outputs": [
    {
     "data": {
      "text/plain": [
       "tensor([0.5115, 0.9741])"
      ]
     },
     "execution_count": 26,
     "metadata": {},
     "output_type": "execute_result"
    }
   ],
   "source": [
    "cosine_margin_triplet_loss(a, p, n)"
   ]
  },
  {
   "cell_type": "code",
   "execution_count": 27,
   "id": "a525bca0-68f3-4aed-b2d6-0de8ef985972",
   "metadata": {},
   "outputs": [
    {
     "data": {
      "text/plain": [
       "0.7953988301841436"
      ]
     },
     "execution_count": 27,
     "metadata": {},
     "output_type": "execute_result"
    }
   ],
   "source": [
    "np.arccos(0.7)"
   ]
  },
  {
   "cell_type": "code",
   "execution_count": 51,
   "id": "c49db39f-359d-4093-bee0-f46b4647a580",
   "metadata": {},
   "outputs": [],
   "source": [
    "hdf5_file = \"../processed_data/pre_tokenized_peptides_dataset.hdf5\"\n",
    "dset = Self_NonSelf_PeptideDataset(hdf5_file, gen_size=1000, val_size=20)\n",
    "dloader = DataLoader(dset, batch_size=8)\n",
    "batch = next(iter(dloader))\n",
    "\n",
    "peptides, labels = batch\n",
    "peptides = peptides.float()"
   ]
  },
  {
   "cell_type": "code",
   "execution_count": 62,
   "id": "b112845e-ef2e-47ab-b320-e855242e05ff",
   "metadata": {},
   "outputs": [
    {
     "data": {
      "text/plain": [
       "tensor([ 1, -1,  1, -1,  1, -1,  1])"
      ]
     },
     "execution_count": 62,
     "metadata": {},
     "output_type": "execute_result"
    }
   ],
   "source": [
    "peptides = peptides[:-1]\n",
    "labels = labels[:-1]\n",
    "labels"
   ]
  },
  {
   "cell_type": "code",
   "execution_count": 104,
   "id": "d1182f32-9a88-406f-9d8a-57bb31f48e0e",
   "metadata": {},
   "outputs": [],
   "source": [
    "# def hypershperical_cosine_margin_similarity(emb1, emb2, s=1.0, m=0.5):\n",
    "#     # Embs must be normalized\n",
    "#     # emb1 = emb1 / emb1.norm(dim=1)[:, None]\n",
    "#     # emb2 = emb2 / emb2.norm(dim=1)[:, None]    \n",
    "#     c = torch.sum(emb1 * emb2, dim=-1)\n",
    "#     c -= m\n",
    "#     return torch.exp(s*c)\n",
    "\n",
    "def hypershperical_cosine_margin_similarity(emb1, emb2, s=1.0, m=0.5):\n",
    "    # Embs must be normalized\n",
    "    # emb1 = emb1 / emb1.norm(dim=1)[:, None]\n",
    "    # emb2 = emb2 / emb2.norm(dim=1)[:, None]    \n",
    "    c = torch.mm(emb1, emb2.transpose(1, 0))\n",
    "    c -= m\n",
    "    return torch.exp(s*c)\n",
    "\n",
    "\n",
    "class CustomCMT_Loss(nn.Module):\n",
    "    def __init__(self, s=1.0, m=0.5):\n",
    "        super().__init__()\n",
    "        self.s = s\n",
    "        self.m = m\n",
    "        \n",
    "    def forward(self, embeddings, labels):\n",
    "        embeddings = embeddings / embeddings.norm(dim=1)[:, None]\n",
    "        \n",
    "        ix = (labels==1)\n",
    "        pos_embs = embeddings[ix]\n",
    "        neg_embg = embeddings[~ix]\n",
    "        \n",
    "        pos_sims = hypershperical_cosine_margin_similarity(pos_embs, pos_embs, s=self.s, m=self.m)\n",
    "        pos_sims -= (math.e * torch.eye(len(pos_sims), device=pos_sims.device))\n",
    "        neg_sims = hypershperical_cosine_margin_similarity(pos_embs, neg_embg, s=self.s, m=0.0)       \n",
    "        \n",
    "        easy_pos_sims, _ = torch.max(pos_sims, dim=1)\n",
    "        hard_neg_sims, _ = torch.max(neg_sims, dim=1)\n",
    "        \n",
    "        loss = -1* torch.log(easy_pos_sims/(easy_pos_sims+hard_neg_sims))\n",
    "        return torch.mean(loss)"
   ]
  },
  {
   "cell_type": "code",
   "execution_count": 111,
   "id": "b38303f6-b736-4f59-a288-b469b7f4826d",
   "metadata": {},
   "outputs": [
    {
     "data": {
      "text/plain": [
       "tensor(0.9220)"
      ]
     },
     "execution_count": 111,
     "metadata": {},
     "output_type": "execute_result"
    }
   ],
   "source": [
    "loss = CustomCMT_Loss(m=0.4)\n",
    "out = loss(peptides, labels)\n",
    "out"
   ]
  },
  {
   "cell_type": "code",
   "execution_count": 112,
   "id": "930ed92a-f12c-4741-b7c4-718ce484338f",
   "metadata": {},
   "outputs": [
    {
     "data": {
      "text/plain": [
       "tensor(0.9220)"
      ]
     },
     "execution_count": 112,
     "metadata": {},
     "output_type": "execute_result"
    }
   ],
   "source": [
    "out"
   ]
  },
  {
   "cell_type": "code",
   "execution_count": 116,
   "id": "98680fb1-f948-4c10-ab36-3e2e4511e68c",
   "metadata": {},
   "outputs": [
    {
     "data": {
      "text/plain": [
       "tensor(0.9220)"
      ]
     },
     "execution_count": 116,
     "metadata": {},
     "output_type": "execute_result"
    }
   ],
   "source": [
    "out"
   ]
  },
  {
   "cell_type": "code",
   "execution_count": 117,
   "id": "7d6c1ebc-1e54-4431-a39a-5567ea23532c",
   "metadata": {},
   "outputs": [],
   "source": [
    "amino_acids = sorted(['A',\n",
    " 'C',\n",
    " 'D',\n",
    " 'E',\n",
    " 'F',\n",
    " 'G',\n",
    " 'H',\n",
    " 'I',\n",
    " 'K',\n",
    " 'L',\n",
    " 'M',\n",
    " 'N',\n",
    " 'P',\n",
    " 'Q',\n",
    " 'R',\n",
    " 'S',\n",
    " 'T',\n",
    " 'V',\n",
    " 'W',\n",
    " 'X',\n",
    " 'Y',\n",
    " '-'])"
   ]
  },
  {
   "cell_type": "code",
   "execution_count": 118,
   "id": "9e5e4134-1ad0-4465-a4ca-d99a139c2930",
   "metadata": {},
   "outputs": [
    {
     "data": {
      "text/plain": [
       "22"
      ]
     },
     "execution_count": 118,
     "metadata": {},
     "output_type": "execute_result"
    }
   ],
   "source": [
    "len(amino_acids)"
   ]
  },
  {
   "cell_type": "code",
   "execution_count": 119,
   "id": "dbf5daa9-1f23-4813-b4a2-fe0f8f3f862c",
   "metadata": {},
   "outputs": [],
   "source": [
    "from selfpeptide.utils.processing_utils import get_vocabulary_tokens"
   ]
  },
  {
   "cell_type": "code",
   "execution_count": 126,
   "id": "79a1de75-3cd7-482b-ac60-8ea7a92a3e66",
   "metadata": {},
   "outputs": [
    {
     "data": {
      "text/plain": [
       "['A',\n",
       " 'C',\n",
       " 'D',\n",
       " 'E',\n",
       " 'F',\n",
       " 'G',\n",
       " 'H',\n",
       " 'I',\n",
       " 'K',\n",
       " 'L',\n",
       " 'M',\n",
       " 'N',\n",
       " 'P',\n",
       " 'Q',\n",
       " 'R',\n",
       " 'S',\n",
       " 'T',\n",
       " 'V',\n",
       " 'W',\n",
       " 'X',\n",
       " 'Y',\n",
       " '-',\n",
       " '*']"
      ]
     },
     "execution_count": 126,
     "metadata": {},
     "output_type": "execute_result"
    }
   ],
   "source": [
    "vocab = get_vocabulary_tokens()\n",
    "vocab"
   ]
  },
  {
   "cell_type": "code",
   "execution_count": 124,
   "id": "97bcf995-6cc7-4b96-a503-9d742072318d",
   "metadata": {},
   "outputs": [
    {
     "data": {
      "text/plain": [
       "[]"
      ]
     },
     "execution_count": 124,
     "metadata": {},
     "output_type": "execute_result"
    }
   ],
   "source": [
    "[aa for aa in amino_acids if aa not in vocab]"
   ]
  },
  {
   "cell_type": "code",
   "execution_count": 3,
   "id": "267c4c52-e07d-44c7-8824-c0d9454d53d1",
   "metadata": {},
   "outputs": [],
   "source": [
    "   \n",
    "\n",
    "def hypershperical_cosine_margin_similarity(emb1, emb2, s=1.0, m=0.5):\n",
    "    # Embs must be normalized\n",
    "    # emb1 = emb1 / emb1.norm(dim=1)[:, None]\n",
    "    # emb2 = emb2 / emb2.norm(dim=1)[:, None]    \n",
    "    c = torch.mm(emb1, emb2.transpose(1, 0))\n",
    "    c -= m\n",
    "    return torch.exp(s*c)\n",
    "\n",
    "\n",
    "class CustomCMT_Loss(nn.Module):\n",
    "    def __init__(self, s=1.0, m=0.5):\n",
    "        super().__init__()\n",
    "        self.s = s\n",
    "        self.m = m\n",
    "        \n",
    "        \n",
    "    def forward(self, embeddings, labels):\n",
    "        emb_norm = embeddings.norm(dim=1)\n",
    "        l2_weight = 0.01\n",
    "        \n",
    "        embeddings = embeddings / embeddings.norm(dim=1)[:, None]\n",
    "        \n",
    "        ix = (labels==1)\n",
    "        pos_embs = embeddings[ix]\n",
    "        neg_embg = embeddings[~ix]\n",
    "        \n",
    "        pos_sims = hypershperical_cosine_margin_similarity(pos_embs, pos_embs, s=self.s, m=self.m)\n",
    "        # pos_sims -= (math.e * torch.eye(len(pos_sims), device=pos_sims.device))\n",
    "        neg_sims = hypershperical_cosine_margin_similarity(pos_embs, neg_embg, s=self.s, m=0.0)       \n",
    "        \n",
    "        easy_pos_sims, _ = torch.max(pos_sims - (math.e * torch.eye(len(pos_sims), device=pos_sims.device)), dim=1)\n",
    "        hard_neg_sims, _ = torch.max(neg_sims, dim=1)\n",
    "        \n",
    "        cmt_loss = torch.mean(-1* torch.log(easy_pos_sims/(easy_pos_sims+hard_neg_sims)))\n",
    "        \n",
    "        hypersphere_reg = torch.mean(torch.square(emb_norm-self.s))\n",
    "        loss = cmt_loss #+ l2_weight*hypersphere_reg\n",
    "        \n",
    "        logs = {\"loss\": loss.item(), \"cmt_loss\": cmt_loss.item(), 'hypersphere_reg': hypersphere_reg}\n",
    "        return loss, logs"
   ]
  },
  {
   "cell_type": "code",
   "execution_count": 66,
   "id": "7be039e1-f0f2-4a8d-a873-b73f3c7255da",
   "metadata": {},
   "outputs": [
    {
     "data": {
      "text/plain": [
       "tensor([[ 1.0000e+00,  0.0000e+00,  2.0000e+00,  0.0000e+00,  3.0000e+00],\n",
       "        [ 1.0000e-03, -4.0000e+00, -3.0000e-02, -2.0000e+00, -1.0000e-04],\n",
       "        [ 1.0000e-01,  4.0000e-01,  3.0000e-01,  8.0000e-01,  9.0000e-01],\n",
       "        [ 2.0000e-01,  0.0000e+00,  0.0000e+00,  0.0000e+00,  1.0000e-02]])"
      ]
     },
     "execution_count": 66,
     "metadata": {},
     "output_type": "execute_result"
    }
   ],
   "source": [
    "embs = torch.tensor([\n",
    "    [1.0, 0, 2.0, 0, 3.0],\n",
    "    [0.001, -4.0, -0.03, -2, -0.0001],\n",
    "    [0.1, 0.4, 0.3, 0.8, 0.9],\n",
    "    [0.2, 0, 0, 0, 0.01]\n",
    "])\n",
    "embs"
   ]
  },
  {
   "cell_type": "code",
   "execution_count": 67,
   "id": "0cc36d5e-f474-44c5-8feb-bdd8af36e95e",
   "metadata": {},
   "outputs": [
    {
     "data": {
      "text/plain": [
       "tensor([[ 2.6726e-01,  0.0000e+00,  5.3452e-01,  0.0000e+00,  8.0178e-01],\n",
       "        [ 2.2360e-04, -8.9441e-01, -6.7081e-03, -4.4720e-01, -2.2360e-05],\n",
       "        [ 7.6472e-02,  3.0589e-01,  2.2942e-01,  6.1178e-01,  6.8825e-01],\n",
       "        [ 9.9875e-01,  0.0000e+00,  0.0000e+00,  0.0000e+00,  4.9938e-02]])"
      ]
     },
     "execution_count": 67,
     "metadata": {},
     "output_type": "execute_result"
    }
   ],
   "source": [
    "embeddings = embs / torch.clamp(embs.norm(dim=1)[:, None], min=1e-8)\n",
    "embeddings"
   ]
  },
  {
   "cell_type": "code",
   "execution_count": 68,
   "id": "fbc4081d-a909-4c27-8813-3b1b02c424ac",
   "metadata": {},
   "outputs": [
    {
     "data": {
      "text/plain": [
       "tensor([ 1, -1,  1, -1])"
      ]
     },
     "execution_count": 68,
     "metadata": {},
     "output_type": "execute_result"
    }
   ],
   "source": [
    "labels = torch.tensor([1, -1, 1, -1])\n",
    "labels"
   ]
  },
  {
   "cell_type": "code",
   "execution_count": 87,
   "id": "0ac0d88f-7ad6-46e5-963b-9b7011100b25",
   "metadata": {},
   "outputs": [],
   "source": [
    "ix = (labels==1)\n",
    "pos_embs = embeddings[ix]\n",
    "neg_embs = embeddings[~ix]"
   ]
  },
  {
   "cell_type": "code",
   "execution_count": 70,
   "id": "d29160f2-b5d2-464c-8e8e-2771b5cecd64",
   "metadata": {},
   "outputs": [
    {
     "data": {
      "text/plain": [
       "tensor([[0.2673, 0.0000, 0.5345, 0.0000, 0.8018],\n",
       "        [0.0765, 0.3059, 0.2294, 0.6118, 0.6882]])"
      ]
     },
     "execution_count": 70,
     "metadata": {},
     "output_type": "execute_result"
    }
   ],
   "source": [
    "pos_embs"
   ]
  },
  {
   "cell_type": "code",
   "execution_count": 86,
   "id": "cadf3dca-e956-43a4-9050-ab10428d0139",
   "metadata": {},
   "outputs": [
    {
     "data": {
      "text/plain": [
       "tensor([[ 2.2360e-04, -8.9441e-01, -6.7081e-03, -4.4720e-01, -2.2360e-05],\n",
       "        [ 9.9875e-01,  0.0000e+00,  0.0000e+00,  0.0000e+00,  4.9938e-02]])"
      ]
     },
     "execution_count": 86,
     "metadata": {},
     "output_type": "execute_result"
    }
   ],
   "source": [
    "neg_embg"
   ]
  },
  {
   "cell_type": "code",
   "execution_count": 76,
   "id": "9275fce8-0bf4-418e-b02c-ec2ccbe2df7d",
   "metadata": {},
   "outputs": [],
   "source": [
    "pos_sims = hypershperical_cosine_margin_similarity(pos_embs, pos_embs, s=1.0, m=0.0)\n",
    "        # pos_sims -= (math.e * torch.eye(len(pos_sims), device=pos_sims.device))\n",
    "neg_sims = hypershperical_cosine_margin_similarity(pos_embs, neg_embg, s=1.0, m=0.0)       "
   ]
  },
  {
   "cell_type": "code",
   "execution_count": 77,
   "id": "597d110b-b425-4f6c-891d-2073ed8c9731",
   "metadata": {},
   "outputs": [
    {
     "data": {
      "text/plain": [
       "tensor([[2.7183, 2.0035],\n",
       "        [2.0035, 2.7183]])"
      ]
     },
     "execution_count": 77,
     "metadata": {},
     "output_type": "execute_result"
    }
   ],
   "source": [
    "pos_sims"
   ]
  },
  {
   "cell_type": "code",
   "execution_count": 78,
   "id": "c71289ab-bb18-49c8-a17c-ca616eb5440e",
   "metadata": {},
   "outputs": [
    {
     "data": {
      "text/plain": [
       "tensor([[0.9965, 1.3593],\n",
       "        [0.5777, 1.1171]])"
      ]
     },
     "execution_count": 78,
     "metadata": {},
     "output_type": "execute_result"
    }
   ],
   "source": [
    "neg_sims"
   ]
  },
  {
   "cell_type": "code",
   "execution_count": 79,
   "id": "53bab0a8-6ce7-4e27-80fe-873d2885a84b",
   "metadata": {},
   "outputs": [
    {
     "data": {
      "text/plain": [
       "tensor([2.0035, 2.0035])"
      ]
     },
     "execution_count": 79,
     "metadata": {},
     "output_type": "execute_result"
    }
   ],
   "source": [
    "easy_pos_sims, _ = torch.max(pos_sims - (math.e * torch.eye(len(pos_sims), device=pos_sims.device)), dim=1)\n",
    "easy_pos_sims"
   ]
  },
  {
   "cell_type": "code",
   "execution_count": 80,
   "id": "c57c3914-984e-4fac-a199-8be329efdbc0",
   "metadata": {},
   "outputs": [
    {
     "data": {
      "text/plain": [
       "tensor([1.3593, 1.1171])"
      ]
     },
     "execution_count": 80,
     "metadata": {},
     "output_type": "execute_result"
    }
   ],
   "source": [
    "hard_neg_sims, _ = torch.max(neg_sims, dim=1)\n",
    "hard_neg_sims"
   ]
  },
  {
   "cell_type": "code",
   "execution_count": 81,
   "id": "2414b23a-32a2-4f4f-a78f-9648fa7eccd0",
   "metadata": {},
   "outputs": [],
   "source": [
    "aa = easy_pos_sims/(easy_pos_sims+hard_neg_sims)"
   ]
  },
  {
   "cell_type": "code",
   "execution_count": 82,
   "id": "3109714a-5c2e-4628-95bf-ac6ffe2ef48c",
   "metadata": {},
   "outputs": [
    {
     "data": {
      "text/plain": [
       "tensor([-0.5179, -0.4431])"
      ]
     },
     "execution_count": 82,
     "metadata": {},
     "output_type": "execute_result"
    }
   ],
   "source": [
    "torch.log(easy_pos_sims/(easy_pos_sims+hard_neg_sims))"
   ]
  },
  {
   "cell_type": "code",
   "execution_count": 83,
   "id": "ad99be71-e523-4d49-af57-b55ad0c3a7d2",
   "metadata": {},
   "outputs": [
    {
     "data": {
      "text/plain": [
       "tensor(0.4805)"
      ]
     },
     "execution_count": 83,
     "metadata": {},
     "output_type": "execute_result"
    }
   ],
   "source": [
    "torch.mean(-1*torch.log(aa))"
   ]
  },
  {
   "cell_type": "code",
   "execution_count": 84,
   "id": "17e4d454-9aba-47df-872e-49b19e8c75c2",
   "metadata": {},
   "outputs": [
    {
     "data": {
      "text/plain": [
       "tensor(-0.0035)"
      ]
     },
     "execution_count": 84,
     "metadata": {},
     "output_type": "execute_result"
    }
   ],
   "source": [
    "torch.dot(embeddings[0], embeddings[1])"
   ]
  },
  {
   "cell_type": "code",
   "execution_count": 88,
   "id": "bc6d136e-38d3-417e-b063-fae5178c7709",
   "metadata": {},
   "outputs": [
    {
     "data": {
      "text/plain": [
       "tensor([[-0.0035,  0.3070],\n",
       "        [-0.5487,  0.1107]])"
      ]
     },
     "execution_count": 88,
     "metadata": {},
     "output_type": "execute_result"
    }
   ],
   "source": [
    "torch.mm(pos_embs, neg_embs.transpose(1, 0))"
   ]
  },
  {
   "cell_type": "code",
   "execution_count": null,
   "id": "8d765785-264b-4798-8fba-2c3ec65a7d18",
   "metadata": {},
   "outputs": [],
   "source": []
  }
 ],
 "metadata": {
  "kernelspec": {
   "display_name": "Python 3 (ipykernel)",
   "language": "python",
   "name": "python3"
  },
  "language_info": {
   "codemirror_mode": {
    "name": "ipython",
    "version": 3
   },
   "file_extension": ".py",
   "mimetype": "text/x-python",
   "name": "python",
   "nbconvert_exporter": "python",
   "pygments_lexer": "ipython3",
   "version": "3.10.0"
  }
 },
 "nbformat": 4,
 "nbformat_minor": 5
}
