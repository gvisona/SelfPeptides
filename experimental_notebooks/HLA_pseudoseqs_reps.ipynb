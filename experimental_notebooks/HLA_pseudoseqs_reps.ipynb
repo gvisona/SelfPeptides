{
 "cells": [
  {
   "cell_type": "code",
   "execution_count": 1,
   "id": "b7a229aa-f316-48a3-b5ca-e9f9b162c716",
   "metadata": {},
   "outputs": [],
   "source": [
    "import numpy as np\n",
    "import pandas as pd\n",
    "import json\n",
    "import os"
   ]
  },
  {
   "cell_type": "code",
   "execution_count": 2,
   "id": "d7dbdb4d-d90c-4efc-937f-368cda3d4db1",
   "metadata": {},
   "outputs": [
    {
     "data": {
      "text/html": [
       "<div>\n",
       "<style scoped>\n",
       "    .dataframe tbody tr th:only-of-type {\n",
       "        vertical-align: middle;\n",
       "    }\n",
       "\n",
       "    .dataframe tbody tr th {\n",
       "        vertical-align: top;\n",
       "    }\n",
       "\n",
       "    .dataframe thead th {\n",
       "        text-align: right;\n",
       "    }\n",
       "</style>\n",
       "<table border=\"1\" class=\"dataframe\">\n",
       "  <thead>\n",
       "    <tr style=\"text-align: right;\">\n",
       "      <th></th>\n",
       "      <th>HLA</th>\n",
       "      <th>sequence</th>\n",
       "    </tr>\n",
       "  </thead>\n",
       "  <tbody>\n",
       "    <tr>\n",
       "      <th>0</th>\n",
       "      <td>HLA-A01:01</td>\n",
       "      <td>YFAMYQENMAHTDANTLYIIYRDYTWVARVYRGY</td>\n",
       "    </tr>\n",
       "    <tr>\n",
       "      <th>1</th>\n",
       "      <td>HLA-A01:02</td>\n",
       "      <td>YSAMYQENMAHTDANTLYIIYRDYTWVARVYRGY</td>\n",
       "    </tr>\n",
       "    <tr>\n",
       "      <th>2</th>\n",
       "      <td>HLA-A01:03</td>\n",
       "      <td>YFAMYQENMAHTDANTLYIMYRDYTWVARVYRGY</td>\n",
       "    </tr>\n",
       "    <tr>\n",
       "      <th>3</th>\n",
       "      <td>HLA-A01:06</td>\n",
       "      <td>YFAMYQENMAHTDANTLYIIYRDYTWVALAYRGY</td>\n",
       "    </tr>\n",
       "    <tr>\n",
       "      <th>4</th>\n",
       "      <td>HLA-A01:07</td>\n",
       "      <td>YFAMYQENVAHTDENTLYIIYRDYTWVARVYRGY</td>\n",
       "    </tr>\n",
       "    <tr>\n",
       "      <th>...</th>\n",
       "      <td>...</td>\n",
       "      <td>...</td>\n",
       "    </tr>\n",
       "    <tr>\n",
       "      <th>3717</th>\n",
       "      <td>BoLA-6:01501</td>\n",
       "      <td>YYTKYREISENWYEANLYLLYTFYSMADQNYRGY</td>\n",
       "    </tr>\n",
       "    <tr>\n",
       "      <th>3718</th>\n",
       "      <td>BoLA-6:01502</td>\n",
       "      <td>YYTKYREISENWYEANLYLQFTFYSMADQNYRGY</td>\n",
       "    </tr>\n",
       "    <tr>\n",
       "      <th>3719</th>\n",
       "      <td>BoLA-6:03401</td>\n",
       "      <td>YHTKYREISENVYGSNLYLLYTFYSMADRNYRGY</td>\n",
       "    </tr>\n",
       "    <tr>\n",
       "      <th>3720</th>\n",
       "      <td>BoLA-6:04001</td>\n",
       "      <td>YSEMYEERAGIVFVNTLYLWCWFYSMAAGKYTWY</td>\n",
       "    </tr>\n",
       "    <tr>\n",
       "      <th>3721</th>\n",
       "      <td>BoLA-6:04101</td>\n",
       "      <td>YHTKYREISENWYEATLYLEYEYYSMAAFNYRSY</td>\n",
       "    </tr>\n",
       "  </tbody>\n",
       "</table>\n",
       "<p>3722 rows × 2 columns</p>\n",
       "</div>"
      ],
      "text/plain": [
       "               HLA                            sequence\n",
       "0       HLA-A01:01  YFAMYQENMAHTDANTLYIIYRDYTWVARVYRGY\n",
       "1       HLA-A01:02  YSAMYQENMAHTDANTLYIIYRDYTWVARVYRGY\n",
       "2       HLA-A01:03  YFAMYQENMAHTDANTLYIMYRDYTWVARVYRGY\n",
       "3       HLA-A01:06  YFAMYQENMAHTDANTLYIIYRDYTWVALAYRGY\n",
       "4       HLA-A01:07  YFAMYQENVAHTDENTLYIIYRDYTWVARVYRGY\n",
       "...            ...                                 ...\n",
       "3717  BoLA-6:01501  YYTKYREISENWYEANLYLLYTFYSMADQNYRGY\n",
       "3718  BoLA-6:01502  YYTKYREISENWYEANLYLQFTFYSMADQNYRGY\n",
       "3719  BoLA-6:03401  YHTKYREISENVYGSNLYLLYTFYSMADRNYRGY\n",
       "3720  BoLA-6:04001  YSEMYEERAGIVFVNTLYLWCWFYSMAAGKYTWY\n",
       "3721  BoLA-6:04101  YHTKYREISENWYEATLYLEYEYYSMAAFNYRSY\n",
       "\n",
       "[3722 rows x 2 columns]"
      ]
     },
     "execution_count": 2,
     "metadata": {},
     "output_type": "execute_result"
    }
   ],
   "source": [
    "ps_df = pd.read_csv(\"../data/NetMHCpan_pseudoseq/MHC_pseudo.dat\", sep='\\t')\n",
    "ps_df"
   ]
  },
  {
   "cell_type": "code",
   "execution_count": 4,
   "id": "772d40b9-52f5-42a6-8465-6e2e120d0abc",
   "metadata": {},
   "outputs": [
    {
     "data": {
      "text/plain": [
       "(3722, 1024)"
      ]
     },
     "execution_count": 4,
     "metadata": {},
     "output_type": "execute_result"
    }
   ],
   "source": [
    "embeddings = np.load(\"../processed_data/HLA_embeddings/hla_pseudoseqs_ProtT5_embeddings.npy\")\n",
    "embeddings.shape"
   ]
  },
  {
   "cell_type": "code",
   "execution_count": 5,
   "id": "4ed45674-bec1-4096-b1fb-c8f343232033",
   "metadata": {},
   "outputs": [],
   "source": [
    "nonunique_seq2idx = {s: i for i, s in enumerate(ps_df[\"sequence\"])}"
   ]
  },
  {
   "cell_type": "code",
   "execution_count": 6,
   "id": "e2bcb3ef-9515-4899-aa33-e2e14e5b141c",
   "metadata": {},
   "outputs": [
    {
     "data": {
      "text/plain": [
       "['CCAMYAMDAKARLTGTIFLWLWNYTWSEQNYKWH',\n",
       " 'CFAMYQENVAQTDVDTLYIIYRDYTWAELAYTWY',\n",
       " 'CSAMYEEKVAHTDENIAYLMFHYYTWAVLAYTGY',\n",
       " 'CSAMYEEKVAHTDENIAYLMFHYYTWAVQAYTGY']"
      ]
     },
     "execution_count": 6,
     "metadata": {},
     "output_type": "execute_result"
    }
   ],
   "source": [
    "hla_protein_pseudosequences = sorted(ps_df[\"sequence\"].unique())\n",
    "hla_protein_pseudosequences[:4]"
   ]
  },
  {
   "cell_type": "code",
   "execution_count": 7,
   "id": "aa336bd7-d4a2-4feb-a471-95fe64c1a476",
   "metadata": {},
   "outputs": [
    {
     "data": {
      "text/plain": [
       "2113"
      ]
     },
     "execution_count": 7,
     "metadata": {},
     "output_type": "execute_result"
    }
   ],
   "source": [
    "len(hla_protein_pseudosequences)"
   ]
  },
  {
   "cell_type": "code",
   "execution_count": 8,
   "id": "d3f29d5e-0822-4586-aa30-bb866c765801",
   "metadata": {},
   "outputs": [],
   "source": [
    "seq2idx = {s: i for i, s in enumerate(hla_protein_pseudosequences)}\n",
    "idx2seq = {i: s for s, i in seq2idx.items()}"
   ]
  },
  {
   "cell_type": "code",
   "execution_count": 9,
   "id": "4c860737-76fc-4ed6-ba39-b0b31f9eb808",
   "metadata": {},
   "outputs": [
    {
     "data": {
      "text/plain": [
       "(2113, 1024)"
      ]
     },
     "execution_count": 9,
     "metadata": {},
     "output_type": "execute_result"
    }
   ],
   "source": [
    "pseudosequence_embeddings = []\n",
    "for i in range(len(idx2seq)):\n",
    "    seq = idx2seq[i]\n",
    "    emb_idx = nonunique_seq2idx[seq]\n",
    "    pseudosequence_embeddings.append(embeddings[emb_idx])\n",
    "pseudosequence_embeddings = np.vstack(pseudosequence_embeddings)\n",
    "pseudosequence_embeddings.shape\n",
    "    "
   ]
  },
  {
   "cell_type": "code",
   "execution_count": 10,
   "id": "d9560001-c601-467c-ad0e-d854d633c5a7",
   "metadata": {},
   "outputs": [],
   "source": [
    "np.save(\"../processed_data/HLA_embeddings/HLA_pseudoseqs_T5/hla_pseudoseqs_T5_embeddings.npy\", pseudosequence_embeddings)"
   ]
  },
  {
   "cell_type": "code",
   "execution_count": 11,
   "id": "2a4cdd1b-a6d5-4216-92a2-037c17772b6d",
   "metadata": {},
   "outputs": [],
   "source": [
    "with open(\"../processed_data/HLA_embeddings/HLA_pseudoseqs_T5/pseudosequence2idx.json\", \"w\") as f:\n",
    "    json.dump(seq2idx, f, indent=2)"
   ]
  },
  {
   "cell_type": "code",
   "execution_count": 12,
   "id": "21502f1f-abf9-4a69-898e-65868bd8aee6",
   "metadata": {},
   "outputs": [],
   "source": [
    "ps_df.to_csv(\"../processed_data/HLA_embeddings/HLA_pseudoseqs_T5/hla_pseudoseq_mapping.csv\", index=False)"
   ]
  },
  {
   "cell_type": "code",
   "execution_count": null,
   "id": "1d6eb5d1-7dda-411c-93dd-1b1ac0bc0398",
   "metadata": {},
   "outputs": [],
   "source": []
  }
 ],
 "metadata": {
  "kernelspec": {
   "display_name": "Python 3 (ipykernel)",
   "language": "python",
   "name": "python3"
  },
  "language_info": {
   "codemirror_mode": {
    "name": "ipython",
    "version": 3
   },
   "file_extension": ".py",
   "mimetype": "text/x-python",
   "name": "python",
   "nbconvert_exporter": "python",
   "pygments_lexer": "ipython3",
   "version": "3.10.0"
  }
 },
 "nbformat": 4,
 "nbformat_minor": 5
}
