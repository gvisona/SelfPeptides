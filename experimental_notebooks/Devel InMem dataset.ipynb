{
 "cells": [
  {
   "cell_type": "code",
   "execution_count": 1,
   "id": "4b582d76-129c-492f-b421-8b164e75576e",
   "metadata": {},
   "outputs": [],
   "source": [
    "import pandas as pd\n",
    "import numpy as np\n",
    "import h5py\n",
    "import torch\n",
    "from torch.utils.data import Dataset, DataLoader\n",
    "from tqdm.notebook import tqdm\n",
    "from sklearn.model_selection import train_test_split"
   ]
  },
  {
   "cell_type": "code",
   "execution_count": 2,
   "id": "69f7b9f8-85f2-4380-9ba6-d03cec86fb6a",
   "metadata": {},
   "outputs": [],
   "source": [
    "data_file = \"../processed_data/Self_nonSelf/pre_tokenized_peptides_dataset.hdf5\""
   ]
  },
  {
   "cell_type": "code",
   "execution_count": 3,
   "id": "adcc7bb3-72be-431a-acf4-4c85fb090897",
   "metadata": {},
   "outputs": [
    {
     "name": "stdout",
     "output_type": "stream",
     "text": [
      "<KeysViewHDF5 ['nonself_peptides', 'reference_human_peptides']>\n",
      "<HDF5 dataset \"reference_human_peptides\": shape (52208587, 12), type \"|u1\">\n",
      "<HDF5 dataset \"nonself_peptides\": shape (790551832, 12), type \"|u1\">\n"
     ]
    }
   ],
   "source": [
    "with h5py.File(data_file, \"r\") as f:\n",
    "    print(f.keys())\n",
    "    print(f['reference_human_peptides'])\n",
    "    print(f['nonself_peptides'])\n",
    "    self_peptides = f['reference_human_peptides'][:20]\n",
    "    nonself_peptides = f['nonself_peptides'][:100]    "
   ]
  },
  {
   "cell_type": "code",
   "execution_count": 4,
   "id": "e552cece-3b4f-4939-b5ff-c0a3d5f56771",
   "metadata": {},
   "outputs": [
    {
     "data": {
      "text/plain": [
       "array([[ 0,  2, 16, ..., 17, 14, 22],\n",
       "       [ 0,  8, 15, ..., 12,  0,  9],\n",
       "       [ 0, 12, 12, ..., 22, 22, 22],\n",
       "       ...,\n",
       "       [20,  3, 13, ..., 22, 22, 22],\n",
       "       [20, 15,  4, ...,  7,  9, 22],\n",
       "       [20, 20,  3, ..., 14, 22, 22]], dtype=uint8)"
      ]
     },
     "execution_count": 4,
     "metadata": {},
     "output_type": "execute_result"
    }
   ],
   "source": [
    "np.unique(nonself_peptides, axis=0)"
   ]
  },
  {
   "cell_type": "code",
   "execution_count": 7,
   "id": "0c7a1816-d76a-46fc-8de8-561bc78dd680",
   "metadata": {},
   "outputs": [
    {
     "ename": "TypeError",
     "evalue": "sequence item 0: expected str instance, numpy.uint8 found",
     "output_type": "error",
     "traceback": [
      "\u001b[0;31m---------------------------------------------------------------------------\u001b[0m",
      "\u001b[0;31mTypeError\u001b[0m                                 Traceback (most recent call last)",
      "Cell \u001b[0;32mIn[7], line 1\u001b[0m\n\u001b[0;32m----> 1\u001b[0m \u001b[38;5;124;43m'\u001b[39;49m\u001b[38;5;124;43m'\u001b[39;49m\u001b[38;5;241;43m.\u001b[39;49m\u001b[43mjoin\u001b[49m\u001b[43m(\u001b[49m\u001b[43mnonself_peptides\u001b[49m\u001b[43m[\u001b[49m\u001b[38;5;241;43m0\u001b[39;49m\u001b[43m]\u001b[49m\u001b[43m)\u001b[49m\n",
      "\u001b[0;31mTypeError\u001b[0m: sequence item 0: expected str instance, numpy.uint8 found"
     ]
    }
   ],
   "source": [
    "nonself_peptides[0]"
   ]
  },
  {
   "cell_type": "code",
   "execution_count": null,
   "id": "a40edb71-c480-4030-afa5-2d3af6e21d71",
   "metadata": {},
   "outputs": [],
   "source": [
    "ixs = [2, 10, 11, 5]\n",
    "mat[ixs]"
   ]
  },
  {
   "cell_type": "code",
   "execution_count": null,
   "id": "a3036184-24f7-4161-9820-b182b2a23d83",
   "metadata": {},
   "outputs": [],
   "source": [
    "ixs = np.array(ixs)"
   ]
  },
  {
   "cell_type": "code",
   "execution_count": null,
   "id": "b9871a40-5477-4077-94eb-2ab6c03bf0c9",
   "metadata": {},
   "outputs": [],
   "source": [
    "mat[ixs]"
   ]
  },
  {
   "cell_type": "code",
   "execution_count": null,
   "id": "4c9b1f35-d9ac-4271-bfb7-e9771a33aa80",
   "metadata": {},
   "outputs": [],
   "source": [
    "val_size = 10000\n",
    "# train_pos, val_pos = train_test_split("
   ]
  },
  {
   "cell_type": "code",
   "execution_count": null,
   "id": "c995ea27-24ea-4484-97a7-70c4555d840c",
   "metadata": {},
   "outputs": [],
   "source": [
    "np.random.shuffle(nonself_peptides)"
   ]
  },
  {
   "cell_type": "code",
   "execution_count": null,
   "id": "7f11059c-1328-409f-ac63-8185278e8cd2",
   "metadata": {},
   "outputs": [],
   "source": [
    "train_pos, val_pos = train_test_split(self_peptides, test_size=val_size)"
   ]
  },
  {
   "cell_type": "code",
   "execution_count": null,
   "id": "d6c41841-1afe-4178-8675-3b312c4f6cfe",
   "metadata": {},
   "outputs": [],
   "source": [
    "train_pos.shape"
   ]
  },
  {
   "cell_type": "code",
   "execution_count": null,
   "id": "1b6b5140-2646-4618-9119-d42bc6b21bea",
   "metadata": {},
   "outputs": [],
   "source": [
    "val_pos.shape"
   ]
  },
  {
   "cell_type": "code",
   "execution_count": null,
   "id": "9c2306ba-186b-4b48-89ff-b3f7e4e597f2",
   "metadata": {},
   "outputs": [],
   "source": [
    "train_neg, val_neg = train_test_split(nonself_peptides, test_size=val_size)"
   ]
  },
  {
   "cell_type": "code",
   "execution_count": null,
   "id": "d73804fb-245b-415e-8ca3-4ef61445fa17",
   "metadata": {},
   "outputs": [],
   "source": [
    "def split_pretokenized_data(h5py_file, holdout_sizes=[], random_state=None):\n",
    "    with h5py.File(h5py_file, \"r\") as f:\n",
    "        print(\"Loading data\")\n",
    "        self_peptides = f['reference_human_peptides'][:]\n",
    "        nonself_peptides = np.unique(f['nonself_peptides'], axis=0)    \n",
    "        print(\"Removed {} duplicates\".format(len(f['nonself_peptides'])-len(nonself_peptides)))\n",
    "    print(self_peptides.shape)\n",
    "    if isinstance(holdout_sizes, (int, float)):\n",
    "        holdout_sizes = [holdout_sizes]\n",
    "        \n",
    "    print(\"Shuffling data\")\n",
    "    np.random.seed(random_state)\n",
    "    np.random.shuffle(self_peptides)\n",
    "    np.random.shuffle(nonself_peptides)\n",
    "    \n",
    "    print(\"Splitting data\")\n",
    "    peptides_sets = []\n",
    "    for s in tqdm(holdout_sizes):\n",
    "        holdout_pos, self_peptides = np.split(self_peptides, [s//2])\n",
    "        holdout_neg, nonself_peptides = np.split(nonself_peptides, [s//2])      \n",
    "        peptides_sets.append((holdout_pos, holdout_neg))\n",
    "\n",
    "    peptides_sets.append((self_peptides, nonself_peptides))\n",
    "    \n",
    "    return peptides_sets\n",
    "        "
   ]
  },
  {
   "cell_type": "code",
   "execution_count": null,
   "id": "a2c58451-7815-4c68-bd7b-e978f196a7be",
   "metadata": {},
   "outputs": [],
   "source": [
    "results = split_pretokenized_data(data_file, holdout_sizes=[5000, 10000], random_state=42)"
   ]
  },
  {
   "cell_type": "code",
   "execution_count": null,
   "id": "a5b85907-c857-489f-9252-792acfe45d83",
   "metadata": {},
   "outputs": [],
   "source": [
    "val_set, ref_set, train_set = results"
   ]
  },
  {
   "cell_type": "code",
   "execution_count": null,
   "id": "0f0ee42d-08b1-4da4-af4a-3fd678c9248a",
   "metadata": {},
   "outputs": [],
   "source": [
    "val_set"
   ]
  },
  {
   "cell_type": "code",
   "execution_count": null,
   "id": "161af2da-edbf-42d4-b08b-41fe6effcb73",
   "metadata": {},
   "outputs": [],
   "source": [
    "train_set[0].shape"
   ]
  },
  {
   "cell_type": "code",
   "execution_count": null,
   "id": "7714dfb0-4de5-433c-8344-5e99fe98b3d8",
   "metadata": {},
   "outputs": [],
   "source": [
    "train_set[1].shape"
   ]
  },
  {
   "cell_type": "code",
   "execution_count": null,
   "id": "ac62d44e-9688-4e2c-b3b6-4b0435efb262",
   "metadata": {},
   "outputs": [],
   "source": [
    "class PreSplit_Self_NonSelf_PeptideDataset(Dataset):\n",
    "    def __init__(self, pos_class_data, neg_class_data,\n",
    "                 negative_label=-1):\n",
    "        self.pos_class_data = pos_class_data\n",
    "        self.neg_class_data = neg_class_data\n",
    "        self.negative_label = negative_label        \n",
    "        \n",
    "        self.n_negative_samples = len(neg_class_data)\n",
    "        self.n_positive_samples = len(pos_class_data)\n",
    "        self.labels = [negative_label, 1]\n",
    "\n",
    "    def __len__(self):\n",
    "        return len(self.pos_class_data) + len(self.neg_class_data)\n",
    "    \n",
    "    def __getitem__(self, idx):\n",
    "        mod_idx = idx//2\n",
    "        sample_class = idx % 2\n",
    "        if sample_class==0:\n",
    "            mod_idx = mod_idx % self.n_negative_samples\n",
    "            peptide = self.neg_class_data[mod_idx]\n",
    "        elif sample_class==1:\n",
    "            mod_idx = mod_idx % self.n_positive_samples\n",
    "            peptide = self.pos_class_data[mod_idx]\n",
    "        return peptide, self.labels[sample_class]\n",
    "    "
   ]
  },
  {
   "cell_type": "code",
   "execution_count": null,
   "id": "4d02e71b-b9e4-4f47-9303-cd56506fd6b2",
   "metadata": {},
   "outputs": [],
   "source": [
    "dset = PreSplit_Self_NonSelf_PeptideDataset(*train_set)"
   ]
  },
  {
   "cell_type": "code",
   "execution_count": null,
   "id": "2c385861-8c5c-48bc-be97-85e953d77dc9",
   "metadata": {},
   "outputs": [],
   "source": [
    "dset[2]"
   ]
  },
  {
   "cell_type": "code",
   "execution_count": null,
   "id": "15c75c64-953d-4b27-8036-8b3be4955bc4",
   "metadata": {},
   "outputs": [],
   "source": [
    "dloader = DataLoader(dset, batch_size=4)\n",
    "\n",
    "batch = next(iter(dloader))"
   ]
  },
  {
   "cell_type": "code",
   "execution_count": null,
   "id": "c76fe49c-7051-4760-9313-e2895c7d5f15",
   "metadata": {},
   "outputs": [],
   "source": [
    "batch"
   ]
  },
  {
   "cell_type": "code",
   "execution_count": null,
   "id": "b56a8c00-9543-4e65-83a3-540751d440ca",
   "metadata": {},
   "outputs": [],
   "source": [
    "400000*32*4"
   ]
  },
  {
   "cell_type": "code",
   "execution_count": null,
   "id": "ce02176c-5287-40a5-b914-77e20220322e",
   "metadata": {},
   "outputs": [],
   "source": []
  }
 ],
 "metadata": {
  "kernelspec": {
   "display_name": "Python 3 (ipykernel)",
   "language": "python",
   "name": "python3"
  },
  "language_info": {
   "codemirror_mode": {
    "name": "ipython",
    "version": 3
   },
   "file_extension": ".py",
   "mimetype": "text/x-python",
   "name": "python",
   "nbconvert_exporter": "python",
   "pygments_lexer": "ipython3",
   "version": "3.10.0"
  }
 },
 "nbformat": 4,
 "nbformat_minor": 5
}
