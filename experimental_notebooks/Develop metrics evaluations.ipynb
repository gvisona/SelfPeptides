{
 "cells": [
  {
   "cell_type": "code",
   "execution_count": 61,
   "id": "94fba3f7-156b-4916-8ebc-3894d47da22c",
   "metadata": {},
   "outputs": [],
   "source": [
    "import numpy as np\n",
    "from sklearn.metrics import r2_score, median_absolute_error, mean_absolute_error\n",
    "from scipy.stats import wasserstein_distance\n",
    "\n",
    "import matplotlib.pyplot as plt\n",
    "import seaborn as sns\n",
    "from selfpeptide.utils.beta_distr_utils import *"
   ]
  },
  {
   "cell_type": "code",
   "execution_count": 2,
   "id": "233877bc-c783-4fae-8f6c-6011f1857ecf",
   "metadata": {},
   "outputs": [],
   "source": [
    "\n",
    "def eval_regression_metrics(targets, predictions):\n",
    "    if isinstance(targets, list):\n",
    "        targets = np.array(targets)\n",
    "    if isinstance(predictions, list):\n",
    "        predictions = np.array(predictions)\n",
    "    metrics = {}\n",
    "    metrics[\"PearsonR\"] = np.corrcoef(targets, predictions)[0,1]\n",
    "    metrics[\"R^2\"] = r2_score(targets, predictions)\n",
    "    metrics[\"RMSE\"] = np.sqrt(np.mean(np.square(predictions - targets)))\n",
    "    metrics[\"MAE\"] = mean_absolute_error(targets, predictions)\n",
    "    metrics[\"MdAE\"] = median_absolute_error(targets, predictions)\n",
    "\n",
    "    return metrics\n"
   ]
  },
  {
   "cell_type": "code",
   "execution_count": 3,
   "id": "270718b2-de3d-4759-b69b-cdc322672fee",
   "metadata": {},
   "outputs": [
    {
     "data": {
      "text/plain": [
       "{'PearsonR': 0.7852146739982895,\n",
       " 'R^2': 0.5713871395425918,\n",
       " 'RMSE': 0.20342074623793907,\n",
       " 'MAE': 0.166,\n",
       " 'MdAE': 0.10000000000000003}"
      ]
     },
     "execution_count": 3,
     "metadata": {},
     "output_type": "execute_result"
    }
   ],
   "source": [
    "targets = [0.4, 0.2, 0.98, 0.75,0.2]\n",
    "predictions = [0.3, 0.1, 0.6, 0.8, 0.4]\n",
    "\n",
    "eval_regression_metrics(targets, predictions)"
   ]
  },
  {
   "cell_type": "code",
   "execution_count": 4,
   "id": "1dbbec36-be91-418f-8f0d-128be28a8a6b",
   "metadata": {},
   "outputs": [
    {
     "data": {
      "text/plain": [
       "0.61656208426224"
      ]
     },
     "execution_count": 4,
     "metadata": {},
     "output_type": "execute_result"
    }
   ],
   "source": [
    "(0.7852146739982895)**2"
   ]
  },
  {
   "cell_type": "code",
   "execution_count": 86,
   "id": "33481379-5c96-4818-9fff-8cc024f1854f",
   "metadata": {},
   "outputs": [],
   "source": [
    "def eval_beta_metrics(target_means, target_precisions, pred_means, pred_precisions, n_samples=1000):\n",
    "    if isinstance(target_means, list):\n",
    "        target_means = np.array(target_means)\n",
    "    if isinstance(target_precisions, list):\n",
    "        target_precisions = np.array(target_precisions)\n",
    "    if isinstance(pred_means, list):\n",
    "        pred_means = np.array(pred_means)\n",
    "    if isinstance(pred_precisions, list):\n",
    "        pred_precisions = np.array(pred_precisions)\n",
    "    target_alphas, target_betas, target_vars, target_modes = beta_distr_params_from_mean_precision(target_means, target_precisions)\n",
    "    pred_alphas, pred_betas, pred_vars, pred_modes = beta_distr_params_from_mean_precision(pred_means, pred_precisions)\n",
    "    \n",
    "    pred_samples = []\n",
    "    for s in range(n_samples):\n",
    "        pred_samples.append(np.random.beta(pred_alphas, pred_betas))\n",
    "    pred_samples = np.vstack(pred_samples)\n",
    "    \n",
    "    target_samples = []\n",
    "    for s in range(n_samples):\n",
    "        target_samples.append(np.random.beta(target_alphas, target_betas))\n",
    "    target_samples = np.vstack(target_samples)\n",
    "    \n",
    "    metrics = {}\n",
    "    metrics[\"Forward_KL\"] = torch.mean(beta_kl_divergence(target_alphas, target_betas, pred_alphas, pred_betas)).item()\n",
    "    metrics[\"Reverse_KL\"] = torch.mean(beta_kl_divergence(pred_alphas, pred_betas, target_alphas, target_betas)).item()\n",
    "    metrics[\"Bhattacharyya_Distance\"] = torch.mean(beta_chernoff_distance(pred_alphas, pred_betas, target_alphas, target_betas, lbd=0.5)).item()\n",
    "    \n",
    "    metrics[\"WeightedMRS\"] = np.mean(np.square(target_means - pred_means)/pred_vars)\n",
    "    \n",
    "    wds = [wasserstein_distance(pred_samples[:,i], target_samples[:,i]) for i in range(pred_samples.shape[-1])]\n",
    "    metrics[\"WassersteinDistance\"] = np.mean(wds)\n",
    "    return metrics"
   ]
  },
  {
   "cell_type": "code",
   "execution_count": 98,
   "id": "19f9dfa8-76b6-4831-939b-6d67921b51c6",
   "metadata": {},
   "outputs": [
    {
     "data": {
      "text/plain": [
       "{'Forward_KL': 6.031155520114391,\n",
       " 'Reverse_KL': 5.627128505813163,\n",
       " 'Bhattacharyya_Distance': 1.0516661935003042,\n",
       " 'WeightedMRS': 40.37061653274814,\n",
       " 'WassersteinDistance': 0.4703222410609197}"
      ]
     },
     "execution_count": 98,
     "metadata": {},
     "output_type": "execute_result"
    }
   ],
   "source": [
    "pred_means =[0.9070, 0.3524, 0.3729, 0.7325, 0.6505, 0.8319, 0.9680, 0.9367, 0.4457,\n",
    "        0.9586]\n",
    "pred_precisions = [ 7.4825,  4.8193,  5.5152,  5.1689,  4.8091,  7.1383,  4.3311,  5.7508,\n",
    "         3.7293, 13.8320]\n",
    "\n",
    "target_means = [0.3333, 0.1667, 0.8333, 0.2500, 0.2500, 0.5000, 0.2500, 0.3333, 0.2500,\n",
    "         0.2000]\n",
    "\n",
    "target_precisions = [3., 6., 6., 4., 4., 4., 4., 3., 4., 5.]\n",
    "\n",
    "metrics = eval_beta_metrics(target_means, target_precisions, pred_means, pred_precisions)\n",
    "metrics"
   ]
  },
  {
   "cell_type": "code",
   "execution_count": 70,
   "id": "969e6d34-ca4c-43aa-a41e-d3c98c7016e9",
   "metadata": {},
   "outputs": [],
   "source": [
    "pred_alphas, pred_betas, pred_vars, pred_modes = beta_distr_params_from_mean_precision(pred_means, pred_precisions)\n",
    "n_samples=200\n",
    "pred_samples = []\n",
    "for s in range(n_samples):\n",
    "    pred_samples.append(np.random.beta(pred_alphas, pred_betas))\n",
    "pred_samples = np.vstack(pred_samples)"
   ]
  },
  {
   "cell_type": "code",
   "execution_count": 71,
   "id": "1321c4ef-cf25-4d0c-963d-3e440345b65b",
   "metadata": {},
   "outputs": [
    {
     "data": {
      "text/plain": [
       "array([[0.97834703, 0.49012252, 0.718611  , ..., 0.74473967, 0.29515488,\n",
       "        0.99016592],\n",
       "       [0.98854621, 0.5142035 , 0.74046566, ..., 0.98614833, 0.77871444,\n",
       "        0.99869347],\n",
       "       [0.92376854, 0.33906873, 0.45763618, ..., 0.8727254 , 0.56460602,\n",
       "        0.97601619],\n",
       "       ...,\n",
       "       [0.9994239 , 0.34574752, 0.3347849 , ..., 0.98542648, 0.51066924,\n",
       "        0.84199471],\n",
       "       [0.69385364, 0.27325256, 0.71073032, ..., 0.93311014, 0.4677301 ,\n",
       "        0.99914969],\n",
       "       [0.99858404, 0.29281776, 0.53508655, ..., 0.96292212, 0.12068095,\n",
       "        0.93909103]])"
      ]
     },
     "execution_count": 71,
     "metadata": {},
     "output_type": "execute_result"
    }
   ],
   "source": [
    "pred_samples"
   ]
  },
  {
   "cell_type": "code",
   "execution_count": 59,
   "id": "bff068b0-6f3f-4dbc-b30a-982b57d6fb5c",
   "metadata": {},
   "outputs": [
    {
     "data": {
      "text/plain": [
       "array([[4.59192669e-01, 9.68031711e-01, 9.94892908e-01],\n",
       "       [1.02904125e-01, 8.23460266e-01, 9.85203376e-01],\n",
       "       [1.64637670e-01, 9.78703659e-01, 9.85527456e-01],\n",
       "       [4.33397338e-01, 8.79416280e-01, 9.75174851e-01],\n",
       "       [6.72804964e-01, 9.19222403e-01, 9.77147178e-01],\n",
       "       [5.39672944e-01, 9.55210447e-01, 9.96376355e-01],\n",
       "       [8.20435585e-01, 9.58541925e-01, 9.90626601e-01],\n",
       "       [7.46803233e-03, 9.39056095e-01, 9.86267983e-01],\n",
       "       [2.80604566e-01, 9.89305244e-01, 9.80696368e-01],\n",
       "       [4.14330643e-01, 9.25542434e-01, 9.88750950e-01],\n",
       "       [6.91925926e-01, 9.31718355e-01, 9.65653119e-01],\n",
       "       [2.98314426e-02, 8.83445532e-01, 9.85719162e-01],\n",
       "       [5.55591391e-01, 9.78114273e-01, 9.91710422e-01],\n",
       "       [8.30785899e-01, 8.42689191e-01, 9.80548716e-01],\n",
       "       [5.13605043e-01, 9.67493854e-01, 9.86941963e-01],\n",
       "       [8.04199396e-01, 7.98742181e-01, 9.79105864e-01],\n",
       "       [4.49065349e-01, 9.04505978e-01, 9.80844463e-01],\n",
       "       [5.45634344e-01, 9.48542289e-01, 9.74052209e-01],\n",
       "       [3.75055331e-01, 8.22072546e-01, 9.99745358e-01],\n",
       "       [7.49641402e-01, 7.64989849e-01, 9.73879457e-01],\n",
       "       [3.51251792e-02, 9.79114049e-01, 9.92611842e-01],\n",
       "       [5.50170412e-01, 8.67158198e-01, 9.90369265e-01],\n",
       "       [1.15023548e-01, 9.43247384e-01, 9.65903989e-01],\n",
       "       [1.30831540e-01, 9.41755165e-01, 9.41881934e-01],\n",
       "       [5.98292275e-01, 8.20351736e-01, 9.92405129e-01],\n",
       "       [4.19174803e-01, 8.37391735e-01, 9.80161413e-01],\n",
       "       [4.18825767e-01, 9.71845108e-01, 9.74210046e-01],\n",
       "       [6.98404997e-02, 8.79421569e-01, 9.75542898e-01],\n",
       "       [2.93668139e-01, 9.56291792e-01, 9.42934477e-01],\n",
       "       [4.94095278e-01, 7.74976178e-01, 9.78025328e-01],\n",
       "       [8.69052126e-01, 8.43205447e-01, 9.78434739e-01],\n",
       "       [7.52725527e-02, 9.29115834e-01, 9.98807268e-01],\n",
       "       [8.77086752e-02, 9.55332484e-01, 9.81163011e-01],\n",
       "       [1.17587191e-01, 9.25353800e-01, 9.69463224e-01],\n",
       "       [7.41122060e-02, 9.84428082e-01, 9.91321760e-01],\n",
       "       [3.93441470e-01, 9.26375542e-01, 9.53350130e-01],\n",
       "       [3.32509741e-01, 9.18647644e-01, 9.94395970e-01],\n",
       "       [3.89859242e-01, 9.44741696e-01, 9.91958761e-01],\n",
       "       [1.61941652e-01, 9.02755195e-01, 9.83623348e-01],\n",
       "       [7.34584470e-01, 7.75208958e-01, 9.65673821e-01],\n",
       "       [1.29163529e-01, 7.15828744e-01, 9.74429254e-01],\n",
       "       [1.37453361e-01, 9.49294423e-01, 9.95563358e-01],\n",
       "       [3.43445895e-01, 9.15003257e-01, 9.91969598e-01],\n",
       "       [4.94239200e-01, 7.70405690e-01, 9.89160374e-01],\n",
       "       [8.04397713e-01, 8.50294636e-01, 9.87440107e-01],\n",
       "       [2.70752998e-01, 9.63093097e-01, 9.49403050e-01],\n",
       "       [2.93648781e-01, 9.73631156e-01, 9.79679315e-01],\n",
       "       [3.56832986e-01, 9.29498748e-01, 9.60386406e-01],\n",
       "       [7.53550106e-01, 8.48501080e-01, 9.92501950e-01],\n",
       "       [2.48122772e-01, 7.14372515e-01, 9.99551373e-01],\n",
       "       [2.92390348e-01, 9.70224970e-01, 9.57503587e-01],\n",
       "       [7.84406866e-02, 8.64007998e-01, 9.78297393e-01],\n",
       "       [4.19975537e-02, 9.23144276e-01, 9.91536151e-01],\n",
       "       [4.10242262e-01, 9.68234743e-01, 9.85278751e-01],\n",
       "       [3.73656721e-01, 9.55462757e-01, 9.61803567e-01],\n",
       "       [5.83768124e-01, 8.53784712e-01, 9.79152574e-01],\n",
       "       [1.89710876e-01, 8.68120170e-01, 9.80366302e-01],\n",
       "       [3.22170233e-01, 9.15230506e-01, 9.86389059e-01],\n",
       "       [4.12719585e-02, 9.71276065e-01, 9.48193909e-01],\n",
       "       [2.95900079e-01, 9.31725205e-01, 9.55212456e-01],\n",
       "       [5.63324989e-02, 9.35747383e-01, 9.95015898e-01],\n",
       "       [5.63958144e-02, 9.79999994e-01, 9.85737580e-01],\n",
       "       [1.03548058e-01, 9.04539917e-01, 9.78803030e-01],\n",
       "       [7.79317718e-01, 9.40246595e-01, 9.95746647e-01],\n",
       "       [7.91619158e-02, 9.33493246e-01, 9.90121305e-01],\n",
       "       [8.16929688e-01, 9.77768444e-01, 9.79454788e-01],\n",
       "       [1.98813989e-01, 9.44338890e-01, 9.89092220e-01],\n",
       "       [3.56203477e-01, 9.43857150e-01, 9.79470111e-01],\n",
       "       [3.69851041e-01, 9.37127536e-01, 9.71340516e-01],\n",
       "       [6.87262163e-02, 9.14478055e-01, 9.87339840e-01],\n",
       "       [4.98261161e-01, 8.74117964e-01, 9.44602755e-01],\n",
       "       [8.52344305e-02, 9.47962610e-01, 9.72939338e-01],\n",
       "       [4.11679769e-01, 8.81228078e-01, 9.86975987e-01],\n",
       "       [3.98170357e-01, 7.05817570e-01, 9.85875313e-01],\n",
       "       [4.22134457e-01, 8.41414092e-01, 9.88948102e-01],\n",
       "       [3.00261785e-02, 8.74486538e-01, 9.81380070e-01],\n",
       "       [8.26476678e-02, 7.77684508e-01, 9.93961206e-01],\n",
       "       [1.47726418e-01, 9.54160118e-01, 9.78624741e-01],\n",
       "       [3.34037995e-01, 8.89654064e-01, 9.74962706e-01],\n",
       "       [7.81572002e-04, 9.38291546e-01, 9.79712737e-01],\n",
       "       [3.75834248e-01, 9.51929045e-01, 9.87284390e-01],\n",
       "       [6.95521110e-02, 9.77308345e-01, 9.80096446e-01],\n",
       "       [2.47370179e-01, 9.71774227e-01, 9.81286640e-01],\n",
       "       [8.35397666e-01, 8.60794873e-01, 9.91742793e-01],\n",
       "       [3.09226255e-02, 9.96059187e-01, 9.94140319e-01],\n",
       "       [1.54604024e-01, 8.10909418e-01, 9.84919069e-01],\n",
       "       [8.52676696e-01, 9.14511485e-01, 9.63087728e-01],\n",
       "       [2.51930576e-02, 9.03735867e-01, 9.65285915e-01],\n",
       "       [4.78122040e-01, 8.79928047e-01, 9.75628033e-01],\n",
       "       [9.49753325e-02, 7.69312132e-01, 9.75622809e-01],\n",
       "       [6.78244946e-01, 9.12096837e-01, 9.82785474e-01],\n",
       "       [4.28562231e-01, 9.18347983e-01, 9.90450290e-01],\n",
       "       [1.78818398e-02, 7.81225085e-01, 9.76910499e-01],\n",
       "       [2.57385887e-01, 9.00203292e-01, 9.84306339e-01],\n",
       "       [1.72229189e-01, 9.20448968e-01, 9.68651311e-01],\n",
       "       [3.29724862e-01, 9.57713530e-01, 9.98827675e-01],\n",
       "       [3.79478873e-01, 8.57942028e-01, 9.77348608e-01],\n",
       "       [5.96149706e-01, 8.68072900e-01, 9.46819724e-01],\n",
       "       [8.39947635e-02, 8.11031461e-01, 9.80525452e-01],\n",
       "       [5.94812824e-01, 9.32239800e-01, 9.66001236e-01],\n",
       "       [5.53277066e-01, 8.85449991e-01, 9.71617539e-01],\n",
       "       [6.44044736e-01, 9.28628010e-01, 9.79268328e-01],\n",
       "       [7.37153365e-02, 9.47561352e-01, 9.85830520e-01],\n",
       "       [4.84330385e-01, 9.76291943e-01, 9.86721870e-01],\n",
       "       [1.08476773e-01, 9.23827639e-01, 9.89500479e-01],\n",
       "       [1.16153820e-01, 9.53010600e-01, 9.88900782e-01],\n",
       "       [3.15541631e-02, 8.19779341e-01, 9.78255631e-01],\n",
       "       [3.77729524e-01, 8.66637316e-01, 9.85932860e-01],\n",
       "       [2.02600364e-01, 7.81753431e-01, 9.80553901e-01],\n",
       "       [1.25783267e-01, 9.29634502e-01, 9.80710864e-01],\n",
       "       [8.14274722e-01, 7.78952057e-01, 9.74543702e-01],\n",
       "       [3.91239643e-01, 9.31213299e-01, 9.73586659e-01],\n",
       "       [9.88070318e-02, 9.62188713e-01, 9.92243359e-01],\n",
       "       [8.30926638e-02, 8.86217868e-01, 9.81737962e-01],\n",
       "       [4.53291088e-02, 9.21918129e-01, 9.89910070e-01],\n",
       "       [5.25300380e-02, 9.76546480e-01, 9.97421180e-01],\n",
       "       [2.58709276e-01, 9.33091872e-01, 9.80011063e-01],\n",
       "       [2.32735736e-01, 8.48665892e-01, 9.49149973e-01],\n",
       "       [1.97529412e-01, 9.67246528e-01, 9.24881359e-01],\n",
       "       [4.03050115e-02, 8.99156956e-01, 9.65333947e-01],\n",
       "       [3.44102359e-01, 8.86726844e-01, 9.86902161e-01],\n",
       "       [6.74419126e-01, 9.62197829e-01, 9.65457733e-01],\n",
       "       [2.98919766e-01, 8.26876168e-01, 9.55059991e-01],\n",
       "       [5.59219980e-01, 8.06944697e-01, 9.89651136e-01],\n",
       "       [9.55447006e-01, 8.87784327e-01, 9.86575661e-01],\n",
       "       [5.56939295e-01, 7.80491782e-01, 9.75351295e-01],\n",
       "       [6.44321010e-02, 9.52893755e-01, 9.76715941e-01],\n",
       "       [5.84611615e-02, 9.26236573e-01, 9.88066687e-01],\n",
       "       [7.23459673e-01, 9.20979185e-01, 9.90678167e-01],\n",
       "       [7.26563796e-01, 8.22813954e-01, 9.82929732e-01],\n",
       "       [1.87088215e-02, 9.39698692e-01, 9.74968510e-01],\n",
       "       [7.37643861e-01, 9.52425770e-01, 9.86911380e-01],\n",
       "       [1.27478883e-01, 7.86442642e-01, 9.70349194e-01],\n",
       "       [4.14197919e-01, 9.26597245e-01, 9.94663694e-01],\n",
       "       [1.43361007e-01, 7.60864055e-01, 9.77860975e-01],\n",
       "       [2.49943477e-01, 9.32140706e-01, 9.76422093e-01],\n",
       "       [3.86874641e-01, 9.01422652e-01, 9.85266564e-01],\n",
       "       [7.42857123e-02, 9.63894317e-01, 9.57841709e-01],\n",
       "       [2.81466394e-01, 9.73671154e-01, 9.85652745e-01],\n",
       "       [7.40181291e-01, 8.82621550e-01, 9.92582077e-01],\n",
       "       [7.38592516e-01, 9.26507534e-01, 9.84043223e-01],\n",
       "       [3.34360986e-01, 8.34526903e-01, 9.45744318e-01],\n",
       "       [5.21665659e-01, 8.08452830e-01, 9.80652483e-01],\n",
       "       [4.02742046e-02, 9.36328398e-01, 9.61727516e-01],\n",
       "       [9.27652181e-02, 9.49001606e-01, 9.71846933e-01],\n",
       "       [2.40957970e-01, 9.39595840e-01, 9.69135530e-01],\n",
       "       [5.41802565e-01, 8.71036780e-01, 9.82705130e-01],\n",
       "       [1.92327051e-01, 9.50088654e-01, 9.65211506e-01],\n",
       "       [6.28100459e-01, 9.24572866e-01, 9.55416234e-01],\n",
       "       [3.47340130e-01, 8.64726205e-01, 9.96115396e-01],\n",
       "       [7.11985116e-01, 9.87546287e-01, 9.79477446e-01],\n",
       "       [2.12490712e-01, 9.59192426e-01, 9.88961581e-01],\n",
       "       [1.83840854e-01, 8.57624373e-01, 9.64680803e-01],\n",
       "       [5.63748280e-01, 9.73940482e-01, 9.93037448e-01],\n",
       "       [1.61885988e-01, 7.88026237e-01, 9.90451051e-01],\n",
       "       [3.41437300e-01, 7.78759269e-01, 9.92544078e-01],\n",
       "       [5.08392157e-02, 9.03689837e-01, 9.82653859e-01],\n",
       "       [3.49981612e-01, 8.47494080e-01, 9.92269118e-01],\n",
       "       [8.11676864e-02, 8.80232598e-01, 9.79642288e-01],\n",
       "       [2.96546153e-01, 9.24583541e-01, 9.97171256e-01],\n",
       "       [2.14243251e-01, 8.33826416e-01, 9.77809776e-01],\n",
       "       [6.22348433e-01, 8.89327113e-01, 9.58542952e-01],\n",
       "       [6.34991329e-01, 9.34092489e-01, 9.87461004e-01],\n",
       "       [1.15194048e-01, 9.81743279e-01, 9.81990999e-01],\n",
       "       [2.14417038e-01, 8.53688785e-01, 9.70949367e-01],\n",
       "       [4.28925072e-01, 8.59885486e-01, 9.62715931e-01],\n",
       "       [6.46709406e-01, 9.37421455e-01, 9.93744046e-01],\n",
       "       [1.22112677e-01, 8.90350122e-01, 9.86641684e-01],\n",
       "       [2.70092744e-01, 8.90717087e-01, 9.83321180e-01],\n",
       "       [9.58022701e-01, 9.10792459e-01, 9.96386338e-01],\n",
       "       [4.24902994e-01, 9.90953982e-01, 9.72763558e-01],\n",
       "       [5.11339436e-01, 8.19833376e-01, 9.93893595e-01],\n",
       "       [1.64202658e-01, 9.26673177e-01, 9.92463514e-01],\n",
       "       [3.89301391e-01, 9.62144490e-01, 9.77870449e-01],\n",
       "       [2.22683067e-01, 9.82437176e-01, 9.71949127e-01],\n",
       "       [2.29710983e-01, 8.79711088e-01, 9.68944470e-01],\n",
       "       [5.65747177e-02, 9.35735188e-01, 9.78697622e-01],\n",
       "       [1.62575449e-01, 9.50007718e-01, 9.90730427e-01],\n",
       "       [1.52288152e-01, 9.07572971e-01, 9.57395070e-01],\n",
       "       [3.38377384e-02, 8.71191474e-01, 9.97403272e-01],\n",
       "       [4.66947094e-01, 8.60549366e-01, 9.85523108e-01],\n",
       "       [1.66837390e-01, 8.67071336e-01, 9.76874556e-01],\n",
       "       [2.46069063e-01, 9.31134614e-01, 9.73989942e-01],\n",
       "       [1.35054252e-01, 9.20923001e-01, 9.73926119e-01],\n",
       "       [1.40085170e-01, 8.25867071e-01, 9.86042803e-01],\n",
       "       [6.41259497e-02, 7.61733484e-01, 9.69765771e-01],\n",
       "       [1.93068729e-01, 8.17012826e-01, 9.94686607e-01],\n",
       "       [3.20456323e-01, 9.44084076e-01, 9.91476290e-01],\n",
       "       [1.24942132e-01, 9.74143776e-01, 9.77500986e-01],\n",
       "       [5.76833858e-01, 9.41160843e-01, 9.61426933e-01],\n",
       "       [5.23439599e-01, 8.79166525e-01, 9.88379869e-01],\n",
       "       [1.54524055e-01, 8.44243590e-01, 9.99444372e-01],\n",
       "       [5.56957598e-01, 8.67735416e-01, 9.73562661e-01],\n",
       "       [3.51465591e-02, 7.22875918e-01, 9.89816986e-01],\n",
       "       [3.45906469e-01, 9.02107996e-01, 9.75429570e-01],\n",
       "       [1.71870746e-01, 8.99734964e-01, 9.89358136e-01],\n",
       "       [4.12607995e-01, 9.00902738e-01, 9.84954215e-01],\n",
       "       [3.76308699e-01, 8.94996514e-01, 9.54212913e-01],\n",
       "       [3.47627796e-02, 8.97347207e-01, 9.72879880e-01],\n",
       "       [8.08130371e-01, 9.21168403e-01, 9.86349213e-01]])"
      ]
     },
     "execution_count": 59,
     "metadata": {},
     "output_type": "execute_result"
    }
   ],
   "source": [
    "samples = []\n",
    "for i in range(200):\n",
    "    samples.append(np.random.beta([1, 20, 100], [2, 2, 2]))\n",
    "samples = np.vstack(samples)\n",
    "samples"
   ]
  },
  {
   "cell_type": "code",
   "execution_count": 60,
   "id": "28c4258d-65bb-45ea-9a43-402a19d69017",
   "metadata": {},
   "outputs": [
    {
     "data": {
      "image/png": "[encoded data removed]",
      "text/plain": [
       "<Figure size 1000x1000 with 1 Axes>"
      ]
     },
     "metadata": {},
     "output_type": "display_data"
    }
   ],
   "source": [
    "fig, ax  = plt.subplots(figsize=(10,10))\n",
    "for i in range(samples.shape[-1]):\n",
    "    sns.kdeplot(samples[:,i], ax=ax)\n",
    "plt.show()"
   ]
  },
  {
   "cell_type": "code",
   "execution_count": null,
   "id": "c70ef7a5-a8e4-450f-a7c7-113699bf2e63",
   "metadata": {},
   "outputs": [],
   "source": []
  }
 ],
 "metadata": {
  "kernelspec": {
   "display_name": "Python 3 (ipykernel)",
   "language": "python",
   "name": "python3"
  },
  "language_info": {
   "codemirror_mode": {
    "name": "ipython",
    "version": 3
   },
   "file_extension": ".py",
   "mimetype": "text/x-python",
   "name": "python",
   "nbconvert_exporter": "python",
   "pygments_lexer": "ipython3",
   "version": "3.10.0"
  }
 },
 "nbformat": 4,
 "nbformat_minor": 5
}
