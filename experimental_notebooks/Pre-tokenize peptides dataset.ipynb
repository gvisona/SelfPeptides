{
 "cells": [
  {
   "cell_type": "code",
   "execution_count": 1,
   "id": "22ff91a7-af18-4b2a-9112-9f752ae62b12",
   "metadata": {},
   "outputs": [],
   "source": [
    "import pandas as pd\n",
    "import numpy as np\n",
    "import h5py\n",
    "from tqdm.notebook import tqdm\n",
    "import torch\n",
    "from selfpeptide.utils.processing_utils import get_vocabulary_tokens\n",
    "from selfpeptide.utils.constants import *\n",
    "from selfpeptide.model.encoder import AA_Tokenizer"
   ]
  },
  {
   "cell_type": "code",
   "execution_count": 2,
   "id": "890c5e56-2bbc-476d-9a3a-12b9736b3939",
   "metadata": {},
   "outputs": [],
   "source": [
    "N_REF_PEPTIDES = 52208587\n",
    "N_OTHER_PEPTIDES = 790551832"
   ]
  },
  {
   "cell_type": "code",
   "execution_count": 3,
   "id": "88e521bb-61b1-433e-b77f-3731820d01b9",
   "metadata": {},
   "outputs": [
    {
     "name": "stdout",
     "output_type": "stream",
     "text": [
      "<KeysViewHDF5 ['bacterial_proteomes', 'human_proteome', 'viral_proteomes']>\n",
      "<KeysViewHDF5 ['human_cancer_peptides', 'reference_human_proteome']>\n"
     ]
    }
   ],
   "source": [
    "hdf5_ref_file = \"../processed_data/peptide_reference_dataset.hdf5\"\n",
    "with h5py.File(hdf5_ref_file, \"r\") as f:\n",
    "    print(f.keys())\n",
    "    print(f['human_proteome'].keys())   \n",
    "    viral_proteomes_ids = list(f['viral_proteomes'].keys())\n",
    "    bacterial_proteomes_ids = list(f['bacterial_proteomes'].keys())    "
   ]
  },
  {
   "cell_type": "code",
   "execution_count": 4,
   "id": "c8223fbe-7b26-4817-84fa-75bb884d3e4e",
   "metadata": {},
   "outputs": [],
   "source": [
    "vocab = get_vocabulary_tokens()\n",
    "tokenizer = AA_Tokenizer(vocab)"
   ]
  },
  {
   "cell_type": "code",
   "execution_count": 5,
   "id": "79af3f38-1dc8-44e8-a1e4-2cb621047145",
   "metadata": {},
   "outputs": [
    {
     "data": {
      "text/plain": [
       "12"
      ]
     },
     "execution_count": 5,
     "metadata": {},
     "output_type": "execute_result"
    }
   ],
   "source": [
    "MAX_PEPTIDE_LEN"
   ]
  },
  {
   "cell_type": "code",
   "execution_count": 6,
   "id": "f923b5a2-41c1-4207-8c1a-13d5f418adfd",
   "metadata": {},
   "outputs": [],
   "source": [
    "output_hdf5_file = \"../processed_data/pre_tokenized_peptides_dataset.hdf5\""
   ]
  },
  {
   "cell_type": "markdown",
   "id": "7968e31f-57a7-4839-afc0-9375e7dddfd3",
   "metadata": {},
   "source": [
    "# Tokenize Reference Human peptides"
   ]
  },
  {
   "cell_type": "code",
   "execution_count": 7,
   "id": "08667fe7-a93f-4a79-a672-8debe0d541e2",
   "metadata": {},
   "outputs": [
    {
     "data": {
      "application/vnd.jupyter.widget-view+json": {
       "model_id": "1dafad85c52745839604bec21dd7d322",
       "version_major": 2,
       "version_minor": 0
      },
      "text/plain": [
       "  0%|          | 0/12747 [00:00<?, ?it/s]"
      ]
     },
     "metadata": {},
     "output_type": "display_data"
    }
   ],
   "source": [
    "batch_size = 4096\n",
    "\n",
    "with h5py.File(output_hdf5_file, \"w\") as fout:\n",
    "    dset = fout.create_dataset(\"reference_human_peptides\", (N_REF_PEPTIDES, MAX_PEPTIDE_LEN), dtype=\"u1\", compression='gzip', chunks=True)\n",
    "    with h5py.File(hdf5_ref_file, \"r\") as f_ref:\n",
    "        for ix in tqdm(range(0, N_REF_PEPTIDES, batch_size)):\n",
    "            batch = f_ref['human_proteome']['reference_human_proteome'][ix:ix+batch_size]\n",
    "            batch = [p.decode() for p in batch]\n",
    "            tokens, padding_mask = tokenizer(batch)\n",
    "            dset[ix:ix+batch_size] = tokens.numpy()"
   ]
  },
  {
   "cell_type": "code",
   "execution_count": 8,
   "id": "a5fa11d3-949f-422e-b678-8d5309c74fe1",
   "metadata": {},
   "outputs": [
    {
     "data": {
      "application/vnd.jupyter.widget-view+json": {
       "model_id": "0aa4c1b3180e4b8390686fb86224de37",
       "version_major": 2,
       "version_minor": 0
      },
      "text/plain": [
       "  0%|          | 0/9694 [00:00<?, ?it/s]"
      ]
     },
     "metadata": {},
     "output_type": "display_data"
    },
    {
     "name": "stdout",
     "output_type": "stream",
     "text": [
      "39702919\n"
     ]
    },
    {
     "data": {
      "application/vnd.jupyter.widget-view+json": {
       "model_id": "94ad3a32a7344f9aaa62d8091fd0a5cc",
       "version_major": 2,
       "version_minor": 0
      },
      "text/plain": [
       "  0%|          | 0/195 [00:00<?, ?it/s]"
      ]
     },
     "metadata": {},
     "output_type": "display_data"
    },
    {
     "name": "stdout",
     "output_type": "stream",
     "text": [
      "58477888\n"
     ]
    },
    {
     "data": {
      "application/vnd.jupyter.widget-view+json": {
       "model_id": "e2226aefc33a417796ad6e2f6d8a8803",
       "version_major": 2,
       "version_minor": 0
      },
      "text/plain": [
       "  0%|          | 0/218 [00:00<?, ?it/s]"
      ]
     },
     "metadata": {},
     "output_type": "display_data"
    },
    {
     "name": "stdout",
     "output_type": "stream",
     "text": [
      "790551832\n"
     ]
    }
   ],
   "source": [
    "array_ix = 0\n",
    "with h5py.File(output_hdf5_file, \"r+\") as fout:\n",
    "    dset = fout.create_dataset(\"nonself_peptides\", (N_OTHER_PEPTIDES, MAX_PEPTIDE_LEN), dtype=\"u1\", compression='gzip', chunks=True)\n",
    "\n",
    "    with h5py.File(hdf5_ref_file, \"r\") as f_ref:\n",
    "        for ix in tqdm(range(0, len(f_ref['human_proteome']['human_cancer_peptides']), batch_size)):\n",
    "            batch = f_ref['human_proteome']['human_cancer_peptides'][ix:ix+batch_size]\n",
    "            batch_len = len(batch)\n",
    "            batch = [p.decode() for p in batch]\n",
    "            tokens, padding_mask = tokenizer(batch)\n",
    "            dset[array_ix:array_ix+batch_len] = tokens.numpy()\n",
    "            array_ix += batch_len\n",
    "            \n",
    "        print(array_ix)\n",
    "        group = f_ref['viral_proteomes']\n",
    "        for prot_id in tqdm(list(group.keys())):\n",
    "            for ix in range(0, len(group[prot_id]), batch_size):\n",
    "                batch = group[prot_id][ix:ix+batch_size]\n",
    "                batch_len = len(batch)\n",
    "                batch = [p.decode() for p in batch]\n",
    "                tokens, padding_mask = tokenizer(batch)\n",
    "                dset[array_ix:array_ix+batch_len] = tokens.numpy()\n",
    "                array_ix += batch_len\n",
    "                \n",
    "        print(array_ix)\n",
    "        group = f_ref['bacterial_proteomes']\n",
    "        for prot_id in tqdm(list(group.keys())):\n",
    "            for ix in range(0, len(group[prot_id]), batch_size):\n",
    "                batch = group[prot_id][ix:ix+batch_size]\n",
    "                batch_len = len(batch)\n",
    "                batch = [p.decode() for p in batch]\n",
    "                tokens, padding_mask = tokenizer(batch)\n",
    "                dset[array_ix:array_ix+batch_len] = tokens.numpy()\n",
    "                array_ix += batch_len\n",
    "\n",
    "print(array_ix)"
   ]
  },
  {
   "cell_type": "code",
   "execution_count": null,
   "id": "3b43d6a8-079d-424e-a784-efc724d8b8f4",
   "metadata": {},
   "outputs": [],
   "source": []
  },
  {
   "cell_type": "code",
   "execution_count": 13,
   "id": "d568e0c6-de91-4c07-8220-ede7a7626c7c",
   "metadata": {},
   "outputs": [
    {
     "name": "stdout",
     "output_type": "stream",
     "text": [
      "<KeysViewHDF5 ['nonself_peptides', 'reference_human_peptides']>\n",
      "(790551832, 12)\n",
      "(52208587, 12)\n",
      "[[ 9  6  8  3  8 16 14  8 22 22 22 22]\n",
      " [ 2  8 17  3  1  0 11 11  0  9  8 22]\n",
      " [12 14  2  3 14 14  4  8  0 22 22 22]\n",
      " [13  0 20 13 10 14 12 15  7  7 22 22]\n",
      " [ 4 15  9 20 12 16 15 17  6 22 22 22]\n",
      " [16  3  3  7  8 11  3  7 22 22 22 22]\n",
      " [12 15  0  9  2  0  7 14  3  3 16  5]\n",
      " [ 0  2 17 13 16  9 14  3 22 22 22 22]\n",
      " [13 13  5 16 17  5 12  9 16 15 22 22]\n",
      " [ 0 13 14  1  8  9  3  5  0  7 22 22]\n",
      " [ 3 13  3  3  3  7  9  5 15  2 22 22]\n",
      " [ 3 14 12 12  3  9 12  9  9 22 22 22]\n",
      " [ 8 11 18  5  0 17 17 14 15 12  3  5]\n",
      " [17 13  6  7  9 10 12  2  2  3  5  3]\n",
      " [15  5  9 11  1  5 16 13 22 22 22 22]\n",
      " [15 13 16  3 12  4 16  5  9  2 22 22]\n",
      " [14 11 12 17 14 17 15 17  8  3  8  5]\n",
      " [11 11 16 14 16 17  2  7 17 22 22 22]\n",
      " [14 13 12  9 13  0 16  4 22 22 22 22]\n",
      " [ 0  9 11  3 14  5 18  3 22 22 22 22]]\n",
      "[[13 16 11 10 11  0 11  3 17  7  0 11]\n",
      " [17  8  9 15  9 17  0  0 10  0 22 22]\n",
      " [17  3 14  9  0 20  3  9 10  2  0 22]\n",
      " [ 0  5  0 13 17  7 15 11  3 11 22 22]\n",
      " [ 9  7  3 17  2  2  2  5 11 22 22 22]\n",
      " [11  7 13  7 15 15 17 20  3  8  9 22]\n",
      " [ 0  2  7  4  8  8  2  9 12  4  9 22]\n",
      " [20 15 10  8 13  0  7  3  3  5  4 22]\n",
      " [11  8  0  7 16  5  8  9 12 13  7 15]\n",
      " [12 17  5 14  8  8 17  7 16 12 12 22]\n",
      " [14 14  3 11  3  7  9  2 22 22 22 22]\n",
      " [ 9 11  0  8 20 14  3  0  2 10  3 20]\n",
      " [ 9 17  4  9  9 18  5 11 22 22 22 22]\n",
      " [16 15  2 11  3  4 20  9  5 22 22 22]\n",
      " [ 3  2  2  7 11 15  8 10  2 11  7 22]\n",
      " [14  5 15 13  5  9  5 14 17 11 16 10]\n",
      " [ 9  9  0 17 12 16 16  8  7  2 22 22]\n",
      " [ 7 11 17 17  5  8  9 17  5 11 22 22]\n",
      " [ 9 20 17  5  9 17 17  0  9 13 17  8]\n",
      " [ 9  0 11  5 13  8 15  4  2  9  6 16]]\n"
     ]
    }
   ],
   "source": [
    "with h5py.File(output_hdf5_file, \"r\") as fout:\n",
    "    print(fout.keys())    \n",
    "    print(fout['nonself_peptides'].shape)\n",
    "    print(fout['reference_human_peptides'].shape)    \n",
    "    print(fout['reference_human_peptides'][-20:])        \n",
    "    print(fout['nonself_peptides'][-20:])        "
   ]
  },
  {
   "cell_type": "code",
   "execution_count": 14,
   "id": "c862a7fa-0ecc-44d1-b295-48b9232d29e3",
   "metadata": {},
   "outputs": [
    {
     "data": {
      "text/plain": [
       "{'A': 0,\n",
       " 'C': 1,\n",
       " 'D': 2,\n",
       " 'E': 3,\n",
       " 'F': 4,\n",
       " 'G': 5,\n",
       " 'H': 6,\n",
       " 'I': 7,\n",
       " 'K': 8,\n",
       " 'L': 9,\n",
       " 'M': 10,\n",
       " 'N': 11,\n",
       " 'P': 12,\n",
       " 'Q': 13,\n",
       " 'R': 14,\n",
       " 'S': 15,\n",
       " 'T': 16,\n",
       " 'V': 17,\n",
       " 'W': 18,\n",
       " 'X': 19,\n",
       " 'Y': 20,\n",
       " '-': 21,\n",
       " '*': 22}"
      ]
     },
     "execution_count": 14,
     "metadata": {},
     "output_type": "execute_result"
    }
   ],
   "source": [
    "tokenizer.token2idx"
   ]
  },
  {
   "cell_type": "code",
   "execution_count": 16,
   "id": "ac27cdad-048e-4d4a-b07b-87eb47556b42",
   "metadata": {},
   "outputs": [],
   "source": [
    "with h5py.File(output_hdf5_file, \"r+\") as fout:\n",
    "    fout.attrs.update(tokenizer.token2idx)"
   ]
  },
  {
   "cell_type": "code",
   "execution_count": 18,
   "id": "e9f427b4-ed73-4bfc-b6f5-3861647db74d",
   "metadata": {},
   "outputs": [
    {
     "name": "stdout",
     "output_type": "stream",
     "text": [
      "{'*': 22, '-': 21, 'A': 0, 'C': 1, 'D': 2, 'E': 3, 'F': 4, 'G': 5, 'H': 6, 'I': 7, 'K': 8, 'L': 9, 'M': 10, 'N': 11, 'P': 12, 'Q': 13, 'R': 14, 'S': 15, 'T': 16, 'V': 17, 'W': 18, 'X': 19, 'Y': 20}\n"
     ]
    }
   ],
   "source": [
    "with h5py.File(output_hdf5_file, \"r\") as fout:\n",
    "    print(dict(fout.attrs))"
   ]
  },
  {
   "cell_type": "code",
   "execution_count": null,
   "id": "35e7f9c8-680a-43ae-9d2e-79f001a23cc4",
   "metadata": {},
   "outputs": [],
   "source": []
  }
 ],
 "metadata": {
  "kernelspec": {
   "display_name": "Python 3 (ipykernel)",
   "language": "python",
   "name": "python3"
  },
  "language_info": {
   "codemirror_mode": {
    "name": "ipython",
    "version": 3
   },
   "file_extension": ".py",
   "mimetype": "text/x-python",
   "name": "python",
   "nbconvert_exporter": "python",
   "pygments_lexer": "ipython3",
   "version": "3.10.0"
  }
 },
 "nbformat": 4,
 "nbformat_minor": 5
}
