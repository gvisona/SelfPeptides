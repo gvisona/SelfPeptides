{
 "cells": [
  {
   "cell_type": "code",
   "execution_count": 9,
   "id": "3407a908-4754-4d5e-b355-bc8ef1c1cb58",
   "metadata": {},
   "outputs": [],
   "source": [
    "import pandas as pd\n",
    "import h5py\n",
    "import numpy as np\n",
    "import torch\n",
    "import matplotlib.pyplot as plt\n",
    "import seaborn as sns\n",
    "from selfpeptide.utils.model_utils import *\n",
    "from tqdm.notebook import tqdm\n",
    "from torch.utils.data import DataLoader\n",
    "from selfpeptide.utils.data_utils import PreTokenized_HumanPeptidesDataset"
   ]
  },
  {
   "cell_type": "code",
   "execution_count": 3,
   "id": "3b374813-4fb6-4e06-a05b-54dfbd86c20c",
   "metadata": {},
   "outputs": [],
   "source": [
    "sns_model = load_sns_model(\"/home/gvisona/Projects/SelfPeptides/trained_models/sns_model\")"
   ]
  },
  {
   "cell_type": "code",
   "execution_count": 7,
   "id": "e44a42e1-dfec-4ca1-9665-fc7ec6ea4ed1",
   "metadata": {},
   "outputs": [
    {
     "name": "stdout",
     "output_type": "stream",
     "text": [
      "Evaluating Cosine Centroid for Human Peptides\n"
     ]
    }
   ],
   "source": [
    "config = {\"immunogenicity_df\": \"/home/gvisona/Projects/SelfPeptides/processed_data/Immunogenicity/Processed_TCell_IEDB_Beta_noPrior.csv\",\n",
    "          \"pseudo_seq_file\": \"/home/gvisona/Projects/SelfPeptides/data/NetMHCpan_pseudoseq/MHC_pseudo.dat\",\n",
    "          \"dhlap_df\": \"/home/gvisona/Projects/SelfPeptides/processed_data/Immunogenicity/DHLAP_immunogenicity_data.csv\",\n",
    "          \"seed\": 0,\n",
    "          \"hla_filter\": None,\n",
    "          \"beta_prior\": \"uniform\",\n",
    "          \"hdf5_dataset\": \"/home/gvisona/Projects/SelfPeptides/processed_data/Self_nonSelf/pre_tokenized_peptides_dataset.hdf5\",\n",
    "          \"batch_size\": 16,\n",
    "          \"test_run\": False\n",
    "}\n",
    "\n",
    "\n",
    "print(\"Evaluating Cosine Centroid for Human Peptides\")\n",
    "p_dset = PreTokenized_HumanPeptidesDataset(\n",
    "    config[\"hdf5_dataset\"], test_run=config[\"test_run\"])\n",
    "p_loader = DataLoader(\n",
    "    p_dset, batch_size=config[\"batch_size\"], drop_last=False)\n"
   ]
  },
  {
   "cell_type": "code",
   "execution_count": 11,
   "id": "8b1eaa9b-1704-43de-9669-e0dbb470754d",
   "metadata": {},
   "outputs": [
    {
     "data": {
      "application/vnd.jupyter.widget-view+json": {
       "model_id": "aa66b8f9e9b647c3b01f721d1c8446a9",
       "version_major": 2,
       "version_minor": 0
      },
      "text/plain": [
       "0it [00:00, ?it/s]"
      ]
     },
     "metadata": {},
     "output_type": "display_data"
    },
    {
     "name": "stdout",
     "output_type": "stream",
     "text": [
      "Training complete!\n"
     ]
    }
   ],
   "source": [
    "device=\"cpu\"\n",
    "ref_human_peptides_vector = None\n",
    "n_peptides = len(p_dset)\n",
    "for ix, peptides in tqdm(enumerate(p_loader)):\n",
    "    if torch.is_tensor(peptides):\n",
    "        peptides = peptides.to(device)\n",
    "    projections, embeddings = sns_model(peptides)\n",
    "\n",
    "    projections = projections / projections.norm(dim=1)[:, None]\n",
    "    if ref_human_peptides_vector is None:\n",
    "        ref_human_peptides_vector = torch.sum(projections.detach(), dim=0)\n",
    "    else:\n",
    "        ref_human_peptides_vector += torch.sum(projections.detach(), dim=0)\n",
    "    break\n",
    "# ref_human_peptides_vector /= n_peptides\n",
    "# ref_human_peptides_vector = (ref_human_peptides_vector / \n",
    "#                             ref_human_peptides_vector.norm())\n",
    "# model.human_peptides_cosine_centroid = ref_human_peptides_vector\n",
    "# torch.save(model.state_dict(), checkpoint_path)\n"
   ]
  },
  {
   "cell_type": "code",
   "execution_count": 12,
   "id": "2d035acd-1bc4-4c19-9e19-ee9b4704549e",
   "metadata": {},
   "outputs": [
    {
     "data": {
      "text/plain": [
       "tensor([ 2.3808,  0.1968,  1.3967,  1.5287, -0.3774,  3.4352,  1.7573,  0.7584,\n",
       "        -0.4940,  0.4538,  0.9627, -0.0541,  0.1341, -4.5653,  2.5507, -5.5505,\n",
       "        -2.1186,  0.6783, -2.3996,  0.0415, -2.7242, -1.8089, -0.7070,  3.3590,\n",
       "         8.7504, -1.3897, -0.1217, -0.5307,  1.8615, -0.4715, -0.6142, -5.0446])"
      ]
     },
     "execution_count": 12,
     "metadata": {},
     "output_type": "execute_result"
    }
   ],
   "source": [
    "ref_human_peptides_vector"
   ]
  },
  {
   "cell_type": "code",
   "execution_count": null,
   "id": "ba66fdc1-1155-4202-8e79-bff2d30c0141",
   "metadata": {},
   "outputs": [],
   "source": []
  }
 ],
 "metadata": {
  "kernelspec": {
   "display_name": "Python 3 (ipykernel)",
   "language": "python",
   "name": "python3"
  },
  "language_info": {
   "codemirror_mode": {
    "name": "ipython",
    "version": 3
   },
   "file_extension": ".py",
   "mimetype": "text/x-python",
   "name": "python",
   "nbconvert_exporter": "python",
   "pygments_lexer": "ipython3",
   "version": "3.10.0"
  }
 },
 "nbformat": 4,
 "nbformat_minor": 5
}
