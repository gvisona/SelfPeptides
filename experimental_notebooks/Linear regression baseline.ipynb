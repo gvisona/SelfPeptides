{
 "cells": [
  {
   "cell_type": "code",
   "execution_count": 24,
   "id": "37d65456-881b-4846-be54-ac2d91f1c536",
   "metadata": {},
   "outputs": [],
   "source": [
    "import pandas as pd\n",
    "import numpy as np\n",
    "import h5py\n",
    "\n",
    "from selfpeptide.utils.data_utils import Self_NonSelf_PeptideDataset\n",
    "\n",
    "import torch\n",
    "import torch.nn.functional as F\n",
    "from sklearn.linear_model import LogisticRegression\n",
    "from sklearn.model_selection import StratifiedKFold\n",
    "from tqdm.notebook import tqdm\n",
    "from selfpeptide.utils.training_utils import eval_classification_metrics"
   ]
  },
  {
   "cell_type": "code",
   "execution_count": 26,
   "id": "3f693076-2516-48cc-a510-ec8b9bab178a",
   "metadata": {},
   "outputs": [],
   "source": [
    "N_SAMPLES = 50000\n",
    "hdf5_file = \"../processed_data/pre_tokenized_peptides_dataset.hdf5\"\n",
    "dset = Self_NonSelf_PeptideDataset(hdf5_file, gen_size=N_SAMPLES, val_size=0)"
   ]
  },
  {
   "cell_type": "code",
   "execution_count": 27,
   "id": "ceef8d7f-41e7-48de-b369-b90d1b5e4d0d",
   "metadata": {},
   "outputs": [],
   "source": [
    "data_matrix = dset.peptides\n",
    "labels = dset.labels.detach().numpy()"
   ]
  },
  {
   "cell_type": "code",
   "execution_count": 28,
   "id": "c1fe576c-7100-4c82-ae77-9e49b650b101",
   "metadata": {},
   "outputs": [
    {
     "data": {
      "text/plain": [
       "array([1., 0., 1., ..., 0., 1., 0.])"
      ]
     },
     "execution_count": 28,
     "metadata": {},
     "output_type": "execute_result"
    }
   ],
   "source": [
    "labels = (labels+1)/2\n",
    "labels"
   ]
  },
  {
   "cell_type": "code",
   "execution_count": 29,
   "id": "87128df6-5674-4bd9-9eeb-7e41d4736f03",
   "metadata": {},
   "outputs": [
    {
     "data": {
      "text/plain": [
       "tensor([[[0, 1, 0,  ..., 0, 0, 0],\n",
       "         [0, 0, 0,  ..., 1, 0, 0],\n",
       "         [0, 0, 1,  ..., 0, 0, 0],\n",
       "         ...,\n",
       "         [0, 0, 0,  ..., 0, 0, 1],\n",
       "         [0, 0, 0,  ..., 0, 0, 1],\n",
       "         [0, 0, 0,  ..., 0, 0, 1]],\n",
       "\n",
       "        [[0, 0, 0,  ..., 0, 0, 0],\n",
       "         [0, 0, 0,  ..., 0, 0, 0],\n",
       "         [0, 0, 0,  ..., 0, 0, 0],\n",
       "         ...,\n",
       "         [0, 0, 0,  ..., 1, 0, 0],\n",
       "         [1, 0, 0,  ..., 0, 0, 0],\n",
       "         [0, 0, 0,  ..., 0, 0, 0]],\n",
       "\n",
       "        [[0, 0, 0,  ..., 0, 0, 0],\n",
       "         [0, 0, 0,  ..., 0, 0, 0],\n",
       "         [0, 0, 0,  ..., 0, 0, 0],\n",
       "         ...,\n",
       "         [0, 0, 0,  ..., 0, 0, 0],\n",
       "         [0, 1, 0,  ..., 0, 0, 0],\n",
       "         [0, 0, 0,  ..., 0, 0, 0]],\n",
       "\n",
       "        ...,\n",
       "\n",
       "        [[0, 1, 0,  ..., 0, 0, 0],\n",
       "         [0, 0, 0,  ..., 0, 0, 0],\n",
       "         [0, 0, 0,  ..., 0, 0, 0],\n",
       "         ...,\n",
       "         [0, 0, 0,  ..., 0, 0, 0],\n",
       "         [0, 0, 0,  ..., 0, 0, 0],\n",
       "         [0, 0, 0,  ..., 0, 0, 0]],\n",
       "\n",
       "        [[0, 0, 0,  ..., 0, 0, 0],\n",
       "         [0, 0, 0,  ..., 0, 0, 0],\n",
       "         [0, 0, 0,  ..., 0, 0, 0],\n",
       "         ...,\n",
       "         [0, 0, 0,  ..., 0, 0, 1],\n",
       "         [0, 0, 0,  ..., 0, 0, 1],\n",
       "         [0, 0, 0,  ..., 0, 0, 1]],\n",
       "\n",
       "        [[0, 0, 0,  ..., 0, 0, 0],\n",
       "         [0, 0, 0,  ..., 0, 0, 0],\n",
       "         [0, 0, 0,  ..., 0, 0, 0],\n",
       "         ...,\n",
       "         [0, 0, 0,  ..., 0, 0, 1],\n",
       "         [0, 0, 0,  ..., 0, 0, 1],\n",
       "         [0, 0, 0,  ..., 0, 0, 1]]])"
      ]
     },
     "execution_count": 29,
     "metadata": {},
     "output_type": "execute_result"
    }
   ],
   "source": [
    "onehot_data_matrix = F.one_hot(data_matrix)\n",
    "onehot_data_matrix"
   ]
  },
  {
   "cell_type": "code",
   "execution_count": 30,
   "id": "e112458e-e157-44bb-899b-cea1f3090930",
   "metadata": {},
   "outputs": [
    {
     "data": {
      "text/plain": [
       "(50000, 276)"
      ]
     },
     "execution_count": 30,
     "metadata": {},
     "output_type": "execute_result"
    }
   ],
   "source": [
    "onehot_data_matrix = onehot_data_matrix.reshape(N_SAMPLES, -1).detach().numpy()\n",
    "onehot_data_matrix.shape"
   ]
  },
  {
   "cell_type": "code",
   "execution_count": 31,
   "id": "5af087a5-bb0d-4c7c-a8f0-3023adb7b445",
   "metadata": {},
   "outputs": [
    {
     "data": {
      "text/plain": [
       "12"
      ]
     },
     "execution_count": 31,
     "metadata": {},
     "output_type": "execute_result"
    }
   ],
   "source": [
    "onehot_data_matrix[0].sum()"
   ]
  },
  {
   "cell_type": "code",
   "execution_count": 32,
   "id": "65dfde33-b569-434e-8a4a-29b9c2c03edd",
   "metadata": {},
   "outputs": [
    {
     "data": {
      "application/vnd.jupyter.widget-view+json": {
       "model_id": "18c0557d41534a189db105537eaa1ec5",
       "version_major": 2,
       "version_minor": 0
      },
      "text/plain": [
       "0it [00:00, ?it/s]"
      ]
     },
     "metadata": {},
     "output_type": "display_data"
    },
    {
     "data": {
      "text/html": [
       "<div>\n",
       "<style scoped>\n",
       "    .dataframe tbody tr th:only-of-type {\n",
       "        vertical-align: middle;\n",
       "    }\n",
       "\n",
       "    .dataframe tbody tr th {\n",
       "        vertical-align: top;\n",
       "    }\n",
       "\n",
       "    .dataframe thead th {\n",
       "        text-align: right;\n",
       "    }\n",
       "</style>\n",
       "<table border=\"1\" class=\"dataframe\">\n",
       "  <thead>\n",
       "    <tr style=\"text-align: right;\">\n",
       "      <th></th>\n",
       "      <th>MCC</th>\n",
       "      <th>FPR</th>\n",
       "      <th>FNR</th>\n",
       "      <th>Specificity</th>\n",
       "      <th>NPV</th>\n",
       "      <th>FDR</th>\n",
       "      <th>Precision</th>\n",
       "      <th>Recall</th>\n",
       "      <th>F1</th>\n",
       "      <th>BalancedAccuracy</th>\n",
       "      <th>AUROC</th>\n",
       "      <th>AUPRC</th>\n",
       "    </tr>\n",
       "  </thead>\n",
       "  <tbody>\n",
       "    <tr>\n",
       "      <th>0</th>\n",
       "      <td>0.124116</td>\n",
       "      <td>0.4596</td>\n",
       "      <td>0.4164</td>\n",
       "      <td>0.5404</td>\n",
       "      <td>0.564799</td>\n",
       "      <td>0.440567</td>\n",
       "      <td>0.559433</td>\n",
       "      <td>0.5836</td>\n",
       "      <td>0.571261</td>\n",
       "      <td>0.5620</td>\n",
       "      <td>0.5620</td>\n",
       "      <td>0.534685</td>\n",
       "    </tr>\n",
       "    <tr>\n",
       "      <th>1</th>\n",
       "      <td>0.089651</td>\n",
       "      <td>0.4720</td>\n",
       "      <td>0.4384</td>\n",
       "      <td>0.5280</td>\n",
       "      <td>0.546358</td>\n",
       "      <td>0.456656</td>\n",
       "      <td>0.543344</td>\n",
       "      <td>0.5616</td>\n",
       "      <td>0.552321</td>\n",
       "      <td>0.5448</td>\n",
       "      <td>0.5448</td>\n",
       "      <td>0.524342</td>\n",
       "    </tr>\n",
       "    <tr>\n",
       "      <th>2</th>\n",
       "      <td>0.094167</td>\n",
       "      <td>0.4828</td>\n",
       "      <td>0.4232</td>\n",
       "      <td>0.5172</td>\n",
       "      <td>0.549979</td>\n",
       "      <td>0.455644</td>\n",
       "      <td>0.544356</td>\n",
       "      <td>0.5768</td>\n",
       "      <td>0.560109</td>\n",
       "      <td>0.5470</td>\n",
       "      <td>0.5470</td>\n",
       "      <td>0.525585</td>\n",
       "    </tr>\n",
       "    <tr>\n",
       "      <th>3</th>\n",
       "      <td>0.092080</td>\n",
       "      <td>0.4748</td>\n",
       "      <td>0.4332</td>\n",
       "      <td>0.5252</td>\n",
       "      <td>0.547997</td>\n",
       "      <td>0.455837</td>\n",
       "      <td>0.544163</td>\n",
       "      <td>0.5668</td>\n",
       "      <td>0.555251</td>\n",
       "      <td>0.5460</td>\n",
       "      <td>0.5460</td>\n",
       "      <td>0.525031</td>\n",
       "    </tr>\n",
       "    <tr>\n",
       "      <th>4</th>\n",
       "      <td>0.084538</td>\n",
       "      <td>0.4864</td>\n",
       "      <td>0.4292</td>\n",
       "      <td>0.5136</td>\n",
       "      <td>0.544760</td>\n",
       "      <td>0.460083</td>\n",
       "      <td>0.539917</td>\n",
       "      <td>0.5708</td>\n",
       "      <td>0.554929</td>\n",
       "      <td>0.5422</td>\n",
       "      <td>0.5422</td>\n",
       "      <td>0.522784</td>\n",
       "    </tr>\n",
       "    <tr>\n",
       "      <th>5</th>\n",
       "      <td>0.099717</td>\n",
       "      <td>0.4744</td>\n",
       "      <td>0.4260</td>\n",
       "      <td>0.5256</td>\n",
       "      <td>0.552333</td>\n",
       "      <td>0.452499</td>\n",
       "      <td>0.547501</td>\n",
       "      <td>0.5740</td>\n",
       "      <td>0.560437</td>\n",
       "      <td>0.5498</td>\n",
       "      <td>0.5498</td>\n",
       "      <td>0.527266</td>\n",
       "    </tr>\n",
       "    <tr>\n",
       "      <th>6</th>\n",
       "      <td>0.090900</td>\n",
       "      <td>0.4780</td>\n",
       "      <td>0.4312</td>\n",
       "      <td>0.5220</td>\n",
       "      <td>0.547629</td>\n",
       "      <td>0.456630</td>\n",
       "      <td>0.543370</td>\n",
       "      <td>0.5688</td>\n",
       "      <td>0.555794</td>\n",
       "      <td>0.5454</td>\n",
       "      <td>0.5454</td>\n",
       "      <td>0.524669</td>\n",
       "    </tr>\n",
       "    <tr>\n",
       "      <th>7</th>\n",
       "      <td>0.092027</td>\n",
       "      <td>0.4660</td>\n",
       "      <td>0.4420</td>\n",
       "      <td>0.5340</td>\n",
       "      <td>0.547131</td>\n",
       "      <td>0.455078</td>\n",
       "      <td>0.544922</td>\n",
       "      <td>0.5580</td>\n",
       "      <td>0.551383</td>\n",
       "      <td>0.5460</td>\n",
       "      <td>0.5460</td>\n",
       "      <td>0.525066</td>\n",
       "    </tr>\n",
       "    <tr>\n",
       "      <th>8</th>\n",
       "      <td>0.097273</td>\n",
       "      <td>0.4708</td>\n",
       "      <td>0.4320</td>\n",
       "      <td>0.5292</td>\n",
       "      <td>0.550562</td>\n",
       "      <td>0.453215</td>\n",
       "      <td>0.546785</td>\n",
       "      <td>0.5680</td>\n",
       "      <td>0.557191</td>\n",
       "      <td>0.5486</td>\n",
       "      <td>0.5486</td>\n",
       "      <td>0.526574</td>\n",
       "    </tr>\n",
       "    <tr>\n",
       "      <th>9</th>\n",
       "      <td>0.113653</td>\n",
       "      <td>0.4584</td>\n",
       "      <td>0.4280</td>\n",
       "      <td>0.5416</td>\n",
       "      <td>0.558581</td>\n",
       "      <td>0.444876</td>\n",
       "      <td>0.555124</td>\n",
       "      <td>0.5720</td>\n",
       "      <td>0.563436</td>\n",
       "      <td>0.5568</td>\n",
       "      <td>0.5568</td>\n",
       "      <td>0.531531</td>\n",
       "    </tr>\n",
       "  </tbody>\n",
       "</table>\n",
       "</div>"
      ],
      "text/plain": [
       "        MCC     FPR     FNR  Specificity       NPV       FDR  Precision  \\\n",
       "0  0.124116  0.4596  0.4164       0.5404  0.564799  0.440567   0.559433   \n",
       "1  0.089651  0.4720  0.4384       0.5280  0.546358  0.456656   0.543344   \n",
       "2  0.094167  0.4828  0.4232       0.5172  0.549979  0.455644   0.544356   \n",
       "3  0.092080  0.4748  0.4332       0.5252  0.547997  0.455837   0.544163   \n",
       "4  0.084538  0.4864  0.4292       0.5136  0.544760  0.460083   0.539917   \n",
       "5  0.099717  0.4744  0.4260       0.5256  0.552333  0.452499   0.547501   \n",
       "6  0.090900  0.4780  0.4312       0.5220  0.547629  0.456630   0.543370   \n",
       "7  0.092027  0.4660  0.4420       0.5340  0.547131  0.455078   0.544922   \n",
       "8  0.097273  0.4708  0.4320       0.5292  0.550562  0.453215   0.546785   \n",
       "9  0.113653  0.4584  0.4280       0.5416  0.558581  0.444876   0.555124   \n",
       "\n",
       "   Recall        F1  BalancedAccuracy   AUROC     AUPRC  \n",
       "0  0.5836  0.571261            0.5620  0.5620  0.534685  \n",
       "1  0.5616  0.552321            0.5448  0.5448  0.524342  \n",
       "2  0.5768  0.560109            0.5470  0.5470  0.525585  \n",
       "3  0.5668  0.555251            0.5460  0.5460  0.525031  \n",
       "4  0.5708  0.554929            0.5422  0.5422  0.522784  \n",
       "5  0.5740  0.560437            0.5498  0.5498  0.527266  \n",
       "6  0.5688  0.555794            0.5454  0.5454  0.524669  \n",
       "7  0.5580  0.551383            0.5460  0.5460  0.525066  \n",
       "8  0.5680  0.557191            0.5486  0.5486  0.526574  \n",
       "9  0.5720  0.563436            0.5568  0.5568  0.531531  "
      ]
     },
     "execution_count": 32,
     "metadata": {},
     "output_type": "execute_result"
    }
   ],
   "source": [
    "skf = StratifiedKFold(n_splits=10)\n",
    "\n",
    "\n",
    "results = []\n",
    "for i, (train_index, test_index) in tqdm(enumerate(skf.split(onehot_data_matrix, labels))):\n",
    "    X_train = onehot_data_matrix[train_index]\n",
    "    X_test = onehot_data_matrix[test_index]\n",
    "    y_train = labels[train_index]\n",
    "    y_test = labels[test_index]\n",
    "    clf = LogisticRegression()\n",
    "    clf.fit(X_train, y_train)\n",
    "    y_pred = clf.predict(X_test)\n",
    "    \n",
    "    metrics = eval_classification_metrics(y_test, y_pred, is_logit=False, threshold=0.5)\n",
    "    results.append(metrics)\n",
    "results = pd.DataFrame(results)\n",
    "results"
   ]
  },
  {
   "cell_type": "code",
   "execution_count": null,
   "id": "7a3fdb7e-8755-4dd3-abc0-bdf29cefafbd",
   "metadata": {},
   "outputs": [],
   "source": []
  }
 ],
 "metadata": {
  "kernelspec": {
   "display_name": "Python 3 (ipykernel)",
   "language": "python",
   "name": "python3"
  },
  "language_info": {
   "codemirror_mode": {
    "name": "ipython",
    "version": 3
   },
   "file_extension": ".py",
   "mimetype": "text/x-python",
   "name": "python",
   "nbconvert_exporter": "python",
   "pygments_lexer": "ipython3",
   "version": "3.10.0"
  }
 },
 "nbformat": 4,
 "nbformat_minor": 5
}
