{
 "cells": [
  {
   "cell_type": "code",
   "execution_count": 1,
   "id": "7ad33f23-e6dc-48eb-b8f1-3bf530e70b4e",
   "metadata": {},
   "outputs": [],
   "source": [
    "import json\n",
    "import torch\n",
    "import os\n",
    "import pandas as pd\n",
    "import numpy as np\n",
    "from selfpeptide.model.binding_affinity_classifier import Peptide_HLA_BindingClassifier"
   ]
  },
  {
   "cell_type": "code",
   "execution_count": 5,
   "id": "35368418-7bbd-4a66-8a0e-bcdf5dfcfe43",
   "metadata": {},
   "outputs": [],
   "source": [
    "def load_binding_model(folder, device=\"cpu\"):\n",
    "    with open(os.path.join(folder, \"config.json\"), \"r\") as f:\n",
    "        config = json.load(f)\n",
    "    config[\"pretrained_aa_embeddings\"] = \"none\"\n",
    "    model = Peptide_HLA_BindingClassifier(config, device)\n",
    "    checkpoint_path = os.path.join(folder, \"checkpoint.pt\")\n",
    "    model.load_state_dict(torch.load(checkpoint_path, map_location=device))\n",
    "    return model"
   ]
  },
  {
   "cell_type": "code",
   "execution_count": 6,
   "id": "42db2a0f-ce5d-4906-a0c4-5639706e02b5",
   "metadata": {},
   "outputs": [],
   "source": [
    "binding_model = load_binding_model(\"../trained_models/binding_model\")\n",
    "# binding_model"
   ]
  },
  {
   "cell_type": "code",
   "execution_count": 7,
   "id": "7a18ec3c-8372-448c-a020-280f1e24df02",
   "metadata": {},
   "outputs": [
    {
     "data": {
      "text/plain": [
       "Peptide_HLA_BindingClassifier(\n",
       "  (aa_sequence_embedder): PeptideEmbedder(\n",
       "    (tokenizer): AA_Tokenizer()\n",
       "    (aa_embs): Embedding(23, 512, padding_idx=22)\n",
       "    (transformer_encoder): TransformerEncoder(\n",
       "      (pos_encoding): PositionalEncoding(\n",
       "        (dropout): Dropout(p=0.05, inplace=False)\n",
       "      )\n",
       "      (dropout): Dropout(p=0.05, inplace=False)\n",
       "      (encoder_layers): ModuleList(\n",
       "        (0-1): 2 x TEncoderLayer(\n",
       "          (multihead_attention): MultiheadAttention(\n",
       "            (out_proj): NonDynamicallyQuantizableLinear(in_features=512, out_features=512, bias=True)\n",
       "          )\n",
       "          (dropout1): Dropout(p=0.05, inplace=False)\n",
       "          (res_norm1): ResNorm(\n",
       "            (norm): LayerNorm((512,), eps=1e-05, elementwise_affine=True)\n",
       "          )\n",
       "          (feed_forward): Sequential(\n",
       "            (0): Linear(in_features=512, out_features=512, bias=True)\n",
       "            (1): ReLU()\n",
       "            (2): Linear(in_features=512, out_features=512, bias=True)\n",
       "          )\n",
       "          (dropout2): Dropout(p=0.05, inplace=False)\n",
       "          (res_norm2): ResNorm(\n",
       "            (norm): LayerNorm((512,), eps=1e-05, elementwise_affine=True)\n",
       "          )\n",
       "        )\n",
       "      )\n",
       "    )\n",
       "    (pooling): PMA_MaskedAttention(\n",
       "      (mab): MAB_MaskedAttention(\n",
       "        (fc_q): Linear(in_features=512, out_features=512, bias=False)\n",
       "        (fc_k): Linear(in_features=512, out_features=512, bias=False)\n",
       "        (fc_v): Linear(in_features=512, out_features=512, bias=False)\n",
       "        (ln0): LayerNorm((512,), eps=1e-05, elementwise_affine=True)\n",
       "        (ln1): LayerNorm((512,), eps=1e-05, elementwise_affine=True)\n",
       "        (fc_o): Linear(in_features=512, out_features=512, bias=True)\n",
       "      )\n",
       "    )\n",
       "    (fn): Linear(in_features=512, out_features=512, bias=True)\n",
       "  )\n",
       "  (classifier_model): ResMLP_Network(\n",
       "    (projection_model): Sequential(\n",
       "      (0): Linear(in_features=1024, out_features=2048, bias=True)\n",
       "      (1): ResMLP(\n",
       "        (net): Sequential(\n",
       "          (0): ResBlock(\n",
       "            (block): Sequential(\n",
       "              (0): ReLU()\n",
       "              (1): Linear(in_features=2048, out_features=2048, bias=True)\n",
       "              (2): Dropout(p=0.2, inplace=False)\n",
       "            )\n",
       "            (layer_norm): LayerNorm((2048,), eps=1e-05, elementwise_affine=True)\n",
       "          )\n",
       "          (1): ResBlock(\n",
       "            (block): Sequential(\n",
       "              (0): ReLU()\n",
       "              (1): Linear(in_features=2048, out_features=2048, bias=True)\n",
       "              (2): Dropout(p=0.2, inplace=False)\n",
       "            )\n",
       "            (layer_norm): LayerNorm((2048,), eps=1e-05, elementwise_affine=True)\n",
       "          )\n",
       "          (2): Linear(in_features=2048, out_features=1, bias=True)\n",
       "        )\n",
       "      )\n",
       "    )\n",
       "  )\n",
       ")"
      ]
     },
     "execution_count": 7,
     "metadata": {},
     "output_type": "execute_result"
    }
   ],
   "source": [
    "binding_model"
   ]
  },
  {
   "cell_type": "code",
   "execution_count": null,
   "id": "1b18f0ec-cfe6-4cb4-a686-a87ffedd0b0e",
   "metadata": {},
   "outputs": [],
   "source": [
    "binding_model.aa_sequence_embedder.tokenizer.token2idx"
   ]
  },
  {
   "cell_type": "code",
   "execution_count": null,
   "id": "bad84721-b2e6-4943-8c0e-6d7f5df3be2a",
   "metadata": {},
   "outputs": [],
   "source": [
    "with open(os.path.join(\"../trained_models/binding_model\", \"config.json\"), \"r\") as f:\n",
    "    config = json.load(f)\n",
    "config[\"pretrained_aa_embeddings\"] = \"none\"\n",
    "config\n"
   ]
  },
  {
   "cell_type": "code",
   "execution_count": null,
   "id": "2dfd9603-be3b-4aff-a87a-2ede6eec3881",
   "metadata": {},
   "outputs": [],
   "source": [
    "model2 = Peptide_HLA_BindingClassifier(config)\n",
    "model2"
   ]
  },
  {
   "cell_type": "code",
   "execution_count": null,
   "id": "86e72e44-3ca2-4a91-9748-4a9b0e95dabd",
   "metadata": {},
   "outputs": [],
   "source": [
    "token2idx = binding_model.aa_sequence_embedder.tokenizer.token2idx\n",
    "idx2token = {v: k for k, v in token2idx.items()}\n",
    "tokens = [idx2token[i] for i in range(len(idx2token))]\n",
    "tokens"
   ]
  },
  {
   "cell_type": "code",
   "execution_count": null,
   "id": "f9f057e4-afb3-42d1-9f9b-08fd07a96191",
   "metadata": {},
   "outputs": [],
   "source": [
    "learned_aa_embeddings = binding_model.aa_sequence_embedder.aa_embs.weight.detach().numpy()"
   ]
  },
  {
   "cell_type": "code",
   "execution_count": null,
   "id": "d4f46b91-af99-47ce-99ce-111bbba3a030",
   "metadata": {},
   "outputs": [],
   "source": [
    "np.save(\"../processed_data/aa_embeddings/learned_BA_AA_embeddings.npy\", learned_aa_embeddings)"
   ]
  },
  {
   "cell_type": "code",
   "execution_count": null,
   "id": "20d1d0cc-b987-40d9-9520-beab6cbf59e3",
   "metadata": {},
   "outputs": [],
   "source": [
    "embeddings_df = pd.DataFrame(learned_aa_embeddings, index=tokens)\n",
    "embeddings_df"
   ]
  },
  {
   "cell_type": "code",
   "execution_count": null,
   "id": "3b354950-a32c-44a6-9c56-a85b75f39c30",
   "metadata": {},
   "outputs": [],
   "source": [
    "embeddings_df.to_csv(\"../processed_data/aa_embeddings/learned_BA_AA_embeddings.csv\")"
   ]
  },
  {
   "cell_type": "code",
   "execution_count": null,
   "id": "d0984953-ffee-4a12-96a3-8e3c558e527b",
   "metadata": {},
   "outputs": [],
   "source": []
  },
  {
   "cell_type": "code",
   "execution_count": null,
   "id": "9c4cedcf-903d-4aa3-95d3-236a7450ad71",
   "metadata": {},
   "outputs": [],
   "source": [
    "embeddings_df = pd.read_csv(\"../processed_data/aa_embeddings/learned_BA_AA_embeddings.csv\", index_col=0)\n",
    "embeddings_df"
   ]
  },
  {
   "cell_type": "code",
   "execution_count": null,
   "id": "870e5aa4-53d5-4492-bc78-36710f693d46",
   "metadata": {},
   "outputs": [],
   "source": [
    "embeddings_df.values/ np.linalg.norm(np.maximum(embeddings_df.values, 1e-10), axis=1)[:, np.newaxis]"
   ]
  },
  {
   "cell_type": "code",
   "execution_count": null,
   "id": "fd351118-bc0c-478c-aadf-c2b684a6ea3c",
   "metadata": {},
   "outputs": [],
   "source": [
    "norm_embeddings = embeddings_df.values/ np.linalg.norm(np.maximum(embeddings_df.values, 1e-10), axis=1)[:, np.newaxis]\n",
    "norm_embeddings"
   ]
  },
  {
   "cell_type": "code",
   "execution_count": null,
   "id": "8ae15eb5-4dc3-4975-a7a9-3a628076bcd4",
   "metadata": {},
   "outputs": [],
   "source": [
    "np.save(\"../processed_data/aa_embeddings/normalized_learned_BA_AA_embeddings.npy\", norm_embeddings)"
   ]
  },
  {
   "cell_type": "code",
   "execution_count": null,
   "id": "edbdaf1e-2053-4a8e-bcb8-2800ca23c010",
   "metadata": {},
   "outputs": [],
   "source": [
    "norm_embeddings_df = pd.DataFrame(norm_embeddings, index=embeddings_df.index)\n",
    "norm_embeddings_df"
   ]
  },
  {
   "cell_type": "code",
   "execution_count": null,
   "id": "7eef2894-0add-4ad3-a107-e1040cacc135",
   "metadata": {},
   "outputs": [],
   "source": [
    "norm_embeddings_df.to_csv(\"../processed_data/aa_embeddings/normalized_learned_BA_AA_embeddings.csv\")"
   ]
  },
  {
   "cell_type": "code",
   "execution_count": null,
   "id": "bf4d662c-54d4-40df-9425-b63a638b0e76",
   "metadata": {},
   "outputs": [],
   "source": [
    "embeddings_df = pd.read_csv(\"../processed_data/aa_embeddings/learned_BA_AA_embeddings.csv\", index_col=0)\n",
    "embeddings_df"
   ]
  },
  {
   "cell_type": "code",
   "execution_count": null,
   "id": "b66fc8d3-1cdf-43a7-adf7-9dcc77f395a1",
   "metadata": {},
   "outputs": [],
   "source": [
    "embeddings = embeddings_df.values"
   ]
  },
  {
   "cell_type": "code",
   "execution_count": null,
   "id": "16416b15-ac97-4eb1-ab09-662aa44e16fb",
   "metadata": {},
   "outputs": [],
   "source": [
    "np.linalg.norm(embeddings, axis=1)"
   ]
  },
  {
   "cell_type": "code",
   "execution_count": null,
   "id": "70129696-7b40-4dd5-84d6-b1aa56907d86",
   "metadata": {},
   "outputs": [],
   "source": []
  }
 ],
 "metadata": {
  "kernelspec": {
   "display_name": "Python 3 (ipykernel)",
   "language": "python",
   "name": "python3"
  },
  "language_info": {
   "codemirror_mode": {
    "name": "ipython",
    "version": 3
   },
   "file_extension": ".py",
   "mimetype": "text/x-python",
   "name": "python",
   "nbconvert_exporter": "python",
   "pygments_lexer": "ipython3",
   "version": "3.10.0"
  }
 },
 "nbformat": 4,
 "nbformat_minor": 5
}
