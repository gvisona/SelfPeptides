{
 "cells": [
  {
   "cell_type": "code",
   "execution_count": 18,
   "id": "c7a08d2c-2f96-4f95-a32c-146b3528b546",
   "metadata": {},
   "outputs": [],
   "source": [
    "import pandas as pd\n",
    "import os\n",
    "from tqdm.notebook import tqdm\n",
    "import json\n",
    "import numpy as np"
   ]
  },
  {
   "cell_type": "code",
   "execution_count": 7,
   "id": "dea1807a-3b9a-47db-8ca3-261ad4c95392",
   "metadata": {},
   "outputs": [
    {
     "data": {
      "application/vnd.jupyter.widget-view+json": {
       "model_id": "e2580823b70a46fe9e45d8eca85888d7",
       "version_major": 2,
       "version_minor": 0
      },
      "text/plain": [
       "0it [00:00, ?it/s]"
      ]
     },
     "metadata": {},
     "output_type": "display_data"
    },
    {
     "name": "stdout",
     "output_type": "stream",
     "text": [
      "20586\n"
     ]
    }
   ],
   "source": [
    "peptides = []\n",
    "fname = \"../data/UniProt/HumanProteome_UP000005640/UP000005640_9606.fasta\"\n",
    "\n",
    "\n",
    "proteome_ref = {}\n",
    "with open(fname, \"r\") as f:\n",
    "    label=None\n",
    "    prot_seq = \"\"\n",
    "    for line in tqdm(f):\n",
    "        if line.startswith(\">\"):\n",
    "            if label is not None:\n",
    "                proteome_ref[label] = prot_seq\n",
    "                prot_seq = \"\"\n",
    "            label = line.strip()\n",
    "            continue\n",
    "        else:\n",
    "            prot_seq += line.strip()\n",
    "            \n",
    "    proteome_ref[label] = prot_seq\n",
    "print(len(proteome_ref))"
   ]
  },
  {
   "cell_type": "code",
   "execution_count": 13,
   "id": "cbd10b68-9909-4eba-86f9-3996ace86f6c",
   "metadata": {},
   "outputs": [
    {
     "data": {
      "text/plain": [
       "'MVTMCGGHRPENFLHQVLTEFGEELAGEGKSEVGGGAPRSYLQVASAECWAAAPAVHVGEPVHAGGLHTERGADPVIGLYLVHRGGACQTPTVGNRQTPTLGIHARPRRRATTSLLTLLLAFGKNAVRCALIGPGSLTSRTRPLTEPLGEKERREVFFPPRPERVEHNVESSRWEPRRRGACGSRGGNFPSPRGGSGVASLERAESSSTEPAKAIKPIDRKSVHQICSGPVVPSLSTAVKELVENSLDAGATNIDLKLKDYGVDLIEVSGNGCGVEEENFEGLTLKHHTSKIQEFADLPQVETFGFRGEALSSLCALSDVTISTCHVSAKVGTRLVFDHYGKIIQKTPYPHPRGMTVSVKQLFSTLPVHHKEFQRNIKKKRACFPFAFCRDCQFPEASPAMLPVQPAELTPRSTPPHPCSLEDNVITVFSSVKNGPGSSR'"
      ]
     },
     "execution_count": 13,
     "metadata": {},
     "output_type": "execute_result"
    }
   ],
   "source": [
    "test_prot = proteome_ref[\">sp|A4D2B8|PM2P1_HUMAN Putative postmeiotic segregation increased 2-like protein 1 OS=Homo sapiens OX=9606 GN=PMS2P1 PE=5 SV=1\"]\n",
    "test_prot"
   ]
  },
  {
   "cell_type": "code",
   "execution_count": 14,
   "id": "62566b3d-1b48-4070-a722-ae2d73432727",
   "metadata": {},
   "outputs": [],
   "source": [
    "def extract_peptides_from_prot(protein_seq, l=9):\n",
    "    if len(protein_seq)<l:\n",
    "        return []\n",
    "    peptides = []\n",
    "    for i in range(len(protein_seq)-l+1):\n",
    "        peptides.append(protein_seq[i:i+l])\n",
    "    return peptides"
   ]
  },
  {
   "cell_type": "code",
   "execution_count": 17,
   "id": "228773af-fb7e-47fd-ae91-9026d021d81d",
   "metadata": {},
   "outputs": [
    {
     "data": {
      "application/vnd.jupyter.widget-view+json": {
       "model_id": "e764c18f0c4e4ea3a2a4cc7029ba8236",
       "version_major": 2,
       "version_minor": 0
      },
      "text/plain": [
       "  0%|          | 0/5 [00:00<?, ?it/s]"
      ]
     },
     "metadata": {},
     "output_type": "display_data"
    },
    {
     "data": {
      "application/vnd.jupyter.widget-view+json": {
       "model_id": "83411446159243d3bca68a900f03f379",
       "version_major": 2,
       "version_minor": 0
      },
      "text/plain": [
       "  0%|          | 0/20586 [00:00<?, ?it/s]"
      ]
     },
     "metadata": {},
     "output_type": "display_data"
    },
    {
     "data": {
      "application/vnd.jupyter.widget-view+json": {
       "model_id": "c44365f9afe8427bad9c0b9998b30153",
       "version_major": 2,
       "version_minor": 0
      },
      "text/plain": [
       "  0%|          | 0/20586 [00:00<?, ?it/s]"
      ]
     },
     "metadata": {},
     "output_type": "display_data"
    },
    {
     "data": {
      "application/vnd.jupyter.widget-view+json": {
       "model_id": "118b7c98b4684483bef24d55439d925a",
       "version_major": 2,
       "version_minor": 0
      },
      "text/plain": [
       "  0%|          | 0/20586 [00:00<?, ?it/s]"
      ]
     },
     "metadata": {},
     "output_type": "display_data"
    },
    {
     "data": {
      "application/vnd.jupyter.widget-view+json": {
       "model_id": "ba05e14f1b9746bdbbb230bcb65e1873",
       "version_major": 2,
       "version_minor": 0
      },
      "text/plain": [
       "  0%|          | 0/20586 [00:00<?, ?it/s]"
      ]
     },
     "metadata": {},
     "output_type": "display_data"
    },
    {
     "data": {
      "application/vnd.jupyter.widget-view+json": {
       "model_id": "b3091ab1ba5e450493cc4f37a6d824ec",
       "version_major": 2,
       "version_minor": 0
      },
      "text/plain": [
       "  0%|          | 0/20586 [00:00<?, ?it/s]"
      ]
     },
     "metadata": {},
     "output_type": "display_data"
    },
    {
     "data": {
      "text/plain": [
       "56072942"
      ]
     },
     "execution_count": 17,
     "metadata": {},
     "output_type": "execute_result"
    }
   ],
   "source": [
    "human_peptides = []\n",
    "for l in tqdm(range(8, 13)):\n",
    "    for prot_seq in tqdm(list(proteome_ref.values())):\n",
    "        peptides = extract_peptides_from_prot(prot_seq, l)\n",
    "        human_peptides.extend(peptides)\n",
    "len(human_peptides)"
   ]
  },
  {
   "cell_type": "code",
   "execution_count": 20,
   "id": "b9d0a1bb-e448-499b-9c66-a2c1f31f1f10",
   "metadata": {},
   "outputs": [
    {
     "data": {
      "text/plain": [
       "52208587"
      ]
     },
     "execution_count": 20,
     "metadata": {},
     "output_type": "execute_result"
    }
   ],
   "source": [
    "human_peptides_set = set(human_peptides)\n",
    "len(human_peptides_set)"
   ]
  },
  {
   "cell_type": "code",
   "execution_count": 21,
   "id": "008c387f-b30d-484e-8a94-ec45118a8588",
   "metadata": {},
   "outputs": [],
   "source": [
    "with open(\"../processed_data/UniProt/human_peptides.json\", \"w\") as f:\n",
    "    json.dump(list(human_peptides_set), f, indent=2)"
   ]
  },
  {
   "cell_type": "code",
   "execution_count": null,
   "id": "0b18845a-2c7f-4e57-8dfa-1dd4bd28f6af",
   "metadata": {},
   "outputs": [],
   "source": []
  }
 ],
 "metadata": {
  "kernelspec": {
   "display_name": "Python 3 (ipykernel)",
   "language": "python",
   "name": "python3"
  },
  "language_info": {
   "codemirror_mode": {
    "name": "ipython",
    "version": 3
   },
   "file_extension": ".py",
   "mimetype": "text/x-python",
   "name": "python",
   "nbconvert_exporter": "python",
   "pygments_lexer": "ipython3",
   "version": "3.9.0"
  }
 },
 "nbformat": 4,
 "nbformat_minor": 5
}
