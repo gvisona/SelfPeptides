{
 "cells": [
  {
   "cell_type": "code",
   "execution_count": 13,
   "id": "d79ef5cf-3fed-4d25-bcb3-828f1b3ae85c",
   "metadata": {},
   "outputs": [],
   "source": [
    "import pandas as pd\n",
    "import numpy as np\n",
    "import matplotlib.pyplot as plt\n",
    "import seaborn as sns\n",
    "from tqdm.notebook import tqdm\n",
    "from transformers import AutoTokenizer, AutoModel\n",
    "import torch"
   ]
  },
  {
   "cell_type": "code",
   "execution_count": 2,
   "id": "de529dfd-454a-4fb3-99e5-dd5930adaff1",
   "metadata": {},
   "outputs": [
    {
     "data": {
      "text/html": [
       "<div>\n",
       "<style scoped>\n",
       "    .dataframe tbody tr th:only-of-type {\n",
       "        vertical-align: middle;\n",
       "    }\n",
       "\n",
       "    .dataframe tbody tr th {\n",
       "        vertical-align: top;\n",
       "    }\n",
       "\n",
       "    .dataframe thead th {\n",
       "        text-align: right;\n",
       "    }\n",
       "</style>\n",
       "<table border=\"1\" class=\"dataframe\">\n",
       "  <thead>\n",
       "    <tr style=\"text-align: right;\">\n",
       "      <th></th>\n",
       "      <th>query</th>\n",
       "      <th>target</th>\n",
       "      <th>evalue</th>\n",
       "      <th>bitscore</th>\n",
       "      <th>query_length</th>\n",
       "      <th>frac_ident</th>\n",
       "      <th>taxid</th>\n",
       "      <th>taxname</th>\n",
       "    </tr>\n",
       "  </thead>\n",
       "  <tbody>\n",
       "    <tr>\n",
       "      <th>0</th>\n",
       "      <td>AFLTNVPYKRIEELL</td>\n",
       "      <td>Q9QR98</td>\n",
       "      <td>0.000162</td>\n",
       "      <td>37</td>\n",
       "      <td>15</td>\n",
       "      <td>1.000</td>\n",
       "      <td>11908</td>\n",
       "      <td>Human T-cell leukemia virus type I</td>\n",
       "    </tr>\n",
       "    <tr>\n",
       "      <th>1</th>\n",
       "      <td>AFLTNVPYKRIEELL</td>\n",
       "      <td>Q9DTK6</td>\n",
       "      <td>0.000162</td>\n",
       "      <td>37</td>\n",
       "      <td>15</td>\n",
       "      <td>1.000</td>\n",
       "      <td>194440</td>\n",
       "      <td>Primate T-lymphotropic virus 1</td>\n",
       "    </tr>\n",
       "    <tr>\n",
       "      <th>2</th>\n",
       "      <td>AFLTNVPYKRIEELL</td>\n",
       "      <td>A0A8F7GK75</td>\n",
       "      <td>0.000162</td>\n",
       "      <td>37</td>\n",
       "      <td>15</td>\n",
       "      <td>1.000</td>\n",
       "      <td>11908</td>\n",
       "      <td>Human T-cell leukemia virus type I</td>\n",
       "    </tr>\n",
       "    <tr>\n",
       "      <th>3</th>\n",
       "      <td>AFLTNVPYKRIEELL</td>\n",
       "      <td>Q85611</td>\n",
       "      <td>0.000162</td>\n",
       "      <td>37</td>\n",
       "      <td>15</td>\n",
       "      <td>1.000</td>\n",
       "      <td>11908</td>\n",
       "      <td>Human T-cell leukemia virus type I</td>\n",
       "    </tr>\n",
       "    <tr>\n",
       "      <th>4</th>\n",
       "      <td>AFLTNVPYKRIEELL</td>\n",
       "      <td>Q86737</td>\n",
       "      <td>0.000512</td>\n",
       "      <td>36</td>\n",
       "      <td>15</td>\n",
       "      <td>0.933</td>\n",
       "      <td>36369</td>\n",
       "      <td>Simian T-lymphotropic retrovirus type 1F</td>\n",
       "    </tr>\n",
       "    <tr>\n",
       "      <th>...</th>\n",
       "      <td>...</td>\n",
       "      <td>...</td>\n",
       "      <td>...</td>\n",
       "      <td>...</td>\n",
       "      <td>...</td>\n",
       "      <td>...</td>\n",
       "      <td>...</td>\n",
       "      <td>...</td>\n",
       "    </tr>\n",
       "    <tr>\n",
       "      <th>186485</th>\n",
       "      <td>YLTVFTVYL</td>\n",
       "      <td>Q9IR54</td>\n",
       "      <td>315.300000</td>\n",
       "      <td>19</td>\n",
       "      <td>9</td>\n",
       "      <td>0.875</td>\n",
       "      <td>129724</td>\n",
       "      <td>human papillomavirus 82</td>\n",
       "    </tr>\n",
       "    <tr>\n",
       "      <th>186486</th>\n",
       "      <td>YLTVFTVYL</td>\n",
       "      <td>A0A2Z6BEJ1</td>\n",
       "      <td>315.300000</td>\n",
       "      <td>19</td>\n",
       "      <td>9</td>\n",
       "      <td>0.666</td>\n",
       "      <td>2731619</td>\n",
       "      <td>Caudoviricetes</td>\n",
       "    </tr>\n",
       "    <tr>\n",
       "      <th>186487</th>\n",
       "      <td>YLTVFTVYL</td>\n",
       "      <td>W5S519</td>\n",
       "      <td>315.300000</td>\n",
       "      <td>19</td>\n",
       "      <td>9</td>\n",
       "      <td>0.875</td>\n",
       "      <td>1450746</td>\n",
       "      <td>Pithovirus sibericum</td>\n",
       "    </tr>\n",
       "    <tr>\n",
       "      <th>186488</th>\n",
       "      <td>YLTVFTVYL</td>\n",
       "      <td>A0A6G9RV59</td>\n",
       "      <td>315.300000</td>\n",
       "      <td>19</td>\n",
       "      <td>9</td>\n",
       "      <td>0.750</td>\n",
       "      <td>2719442</td>\n",
       "      <td>Plasmopara viticola lesion associated mitoviru...</td>\n",
       "    </tr>\n",
       "    <tr>\n",
       "      <th>186489</th>\n",
       "      <td>YLTVFTVYL</td>\n",
       "      <td>A0A5B8GP39</td>\n",
       "      <td>315.300000</td>\n",
       "      <td>19</td>\n",
       "      <td>9</td>\n",
       "      <td>0.750</td>\n",
       "      <td>2599893</td>\n",
       "      <td>Rhizoctonia solani mitovirus 35</td>\n",
       "    </tr>\n",
       "  </tbody>\n",
       "</table>\n",
       "<p>186490 rows × 8 columns</p>\n",
       "</div>"
      ],
      "text/plain": [
       "                  query      target      evalue  bitscore  query_length  \\\n",
       "0       AFLTNVPYKRIEELL      Q9QR98    0.000162        37            15   \n",
       "1       AFLTNVPYKRIEELL      Q9DTK6    0.000162        37            15   \n",
       "2       AFLTNVPYKRIEELL  A0A8F7GK75    0.000162        37            15   \n",
       "3       AFLTNVPYKRIEELL      Q85611    0.000162        37            15   \n",
       "4       AFLTNVPYKRIEELL      Q86737    0.000512        36            15   \n",
       "...                 ...         ...         ...       ...           ...   \n",
       "186485        YLTVFTVYL      Q9IR54  315.300000        19             9   \n",
       "186486        YLTVFTVYL  A0A2Z6BEJ1  315.300000        19             9   \n",
       "186487        YLTVFTVYL      W5S519  315.300000        19             9   \n",
       "186488        YLTVFTVYL  A0A6G9RV59  315.300000        19             9   \n",
       "186489        YLTVFTVYL  A0A5B8GP39  315.300000        19             9   \n",
       "\n",
       "        frac_ident    taxid                                            taxname  \n",
       "0            1.000    11908                 Human T-cell leukemia virus type I  \n",
       "1            1.000   194440                     Primate T-lymphotropic virus 1  \n",
       "2            1.000    11908                 Human T-cell leukemia virus type I  \n",
       "3            1.000    11908                 Human T-cell leukemia virus type I  \n",
       "4            0.933    36369           Simian T-lymphotropic retrovirus type 1F  \n",
       "...            ...      ...                                                ...  \n",
       "186485       0.875   129724                            human papillomavirus 82  \n",
       "186486       0.666  2731619                                     Caudoviricetes  \n",
       "186487       0.875  1450746                               Pithovirus sibericum  \n",
       "186488       0.750  2719442  Plasmopara viticola lesion associated mitoviru...  \n",
       "186489       0.750  2599893                    Rhizoctonia solani mitovirus 35  \n",
       "\n",
       "[186490 rows x 8 columns]"
      ]
     },
     "execution_count": 2,
     "metadata": {},
     "output_type": "execute_result"
    }
   ],
   "source": [
    "viral_df = pd.read_csv(\"../processed_data/mmseqs_searches/viral_proteins.csv\")\n",
    "viral_df"
   ]
  },
  {
   "cell_type": "code",
   "execution_count": 8,
   "id": "f91d0687-f80a-4cdf-a4db-a0adc597e8ae",
   "metadata": {},
   "outputs": [
    {
     "data": {
      "text/plain": [
       "15030"
      ]
     },
     "execution_count": 8,
     "metadata": {},
     "output_type": "execute_result"
    }
   ],
   "source": [
    "len(viral_df[\"taxname\"].unique())"
   ]
  },
  {
   "cell_type": "code",
   "execution_count": 10,
   "id": "1c0748bf-fed3-4b81-b16a-8e7255641657",
   "metadata": {},
   "outputs": [
    {
     "data": {
      "text/plain": [
       "['Human',\n",
       " 'Human T-cell leukemia virus type I',\n",
       " 'Primate T-lymphotropic virus 1',\n",
       " 'Human T-cell leukemia virus type I',\n",
       " 'Human T-cell leukemia virus type I',\n",
       " 'Simian T-lymphotropic retrovirus type 1F',\n",
       " 'Human T-cell leukemia virus type I',\n",
       " 'Primate T-lymphotropic virus 1',\n",
       " 'Primate T-lymphotropic virus 1',\n",
       " 'Simian T-lymphotropic virus 1']"
      ]
     },
     "execution_count": 10,
     "metadata": {},
     "output_type": "execute_result"
    }
   ],
   "source": [
    "species = [\"Human\"] + viral_df[\"taxname\"].tolist()\n",
    "species[:10]"
   ]
  },
  {
   "cell_type": "code",
   "execution_count": 15,
   "id": "86ed1e4a-39e2-4e07-9c32-d2d2d3737892",
   "metadata": {},
   "outputs": [
    {
     "data": {
      "application/vnd.jupyter.widget-view+json": {
       "model_id": "624e0b4198534eb8b354ef546ec06730",
       "version_major": 2,
       "version_minor": 0
      },
      "text/plain": [
       "  0%|          | 0/1865 [00:00<?, ?it/s]"
      ]
     },
     "metadata": {},
     "output_type": "display_data"
    },
    {
     "data": {
      "text/plain": [
       "(1100, 1024)"
      ]
     },
     "execution_count": 15,
     "metadata": {},
     "output_type": "execute_result"
    }
   ],
   "source": [
    "\n",
    "\n",
    "# Load model from HuggingFace Hub\n",
    "tokenizer = AutoTokenizer.from_pretrained('BAAI/bge-large-en-v1.5')\n",
    "model = AutoModel.from_pretrained('BAAI/bge-large-en-v1.5')\n",
    "model.eval()\n",
    "\n",
    "batch_size=100\n",
    "\n",
    "species_embeddings = []\n",
    "n_batch = 0\n",
    "for i in tqdm(range(0, len(species)+1, batch_size)):\n",
    "    # Tokenize sentences\n",
    "    sentences = species[i:i+batch_size]\n",
    "    encoded_input = tokenizer(sentences, padding=True, truncation=True, return_tensors='pt')\n",
    "    # for s2p(short query to long passage) retrieval task, add an instruction to query (not add instruction for passages)\n",
    "    # encoded_input = tokenizer([instruction + q for q in queries], padding=True, truncation=True, return_tensors='pt')\n",
    "\n",
    "    # Compute token embeddings\n",
    "    with torch.no_grad():\n",
    "        model_output = model(**encoded_input)\n",
    "        # Perform pooling. In this case, cls pooling.\n",
    "        sentence_embeddings = model_output[0][:, 0]\n",
    "    # normalize embeddings\n",
    "    sentence_embeddings = torch.nn.functional.normalize(sentence_embeddings, p=2, dim=1)\n",
    "    species_embeddings.append(sentence_embeddings.detach().numpy())\n",
    "    n_batch += 1\n",
    "    if n_batch>10:\n",
    "        break\n",
    "species_embeddings = np.vstack(species_embeddings)\n",
    "species_embeddings.shape"
   ]
  },
  {
   "cell_type": "code",
   "execution_count": 16,
   "id": "e7806566-4008-4ed8-a103-adffdc6249c6",
   "metadata": {},
   "outputs": [
    {
     "data": {
      "text/plain": [
       "array([[-0.00893707,  0.01463549, -0.01503582, ..., -0.00365642,\n",
       "        -0.01105865,  0.03650153],\n",
       "       [ 0.00932833, -0.00281666, -0.00633098, ...,  0.01600588,\n",
       "         0.02363179,  0.00398368],\n",
       "       [ 0.04365651, -0.01164525,  0.00177421, ...,  0.00711234,\n",
       "        -0.00194218, -0.01201918],\n",
       "       ...,\n",
       "       [-0.01454132, -0.00925605,  0.02806438, ..., -0.00969969,\n",
       "         0.00038337, -0.01689486],\n",
       "       [ 0.01630001,  0.00278575, -0.02125834, ...,  0.00816169,\n",
       "        -0.04910489, -0.00815587],\n",
       "       [ 0.00172649, -0.00214115,  0.01590906, ..., -0.01528718,\n",
       "         0.0212197 , -0.01269724]], dtype=float32)"
      ]
     },
     "execution_count": 16,
     "metadata": {},
     "output_type": "execute_result"
    }
   ],
   "source": [
    "species_embeddings"
   ]
  },
  {
   "cell_type": "code",
   "execution_count": 17,
   "id": "893f8f6c-a9da-47ab-9b8e-c767134ed24c",
   "metadata": {},
   "outputs": [
    {
     "data": {
      "text/plain": [
       "tensor([[ 0.0084,  0.0133, -0.0068,  ...,  0.0316, -0.0120,  0.0062],\n",
       "        [-0.0277, -0.0075, -0.0060,  ..., -0.0023, -0.0244, -0.0100],\n",
       "        [ 0.0067,  0.0078,  0.0362,  ..., -0.0147, -0.0327,  0.0094],\n",
       "        ...,\n",
       "        [-0.0145, -0.0093,  0.0281,  ..., -0.0097,  0.0004, -0.0169],\n",
       "        [ 0.0163,  0.0028, -0.0213,  ...,  0.0082, -0.0491, -0.0082],\n",
       "        [ 0.0017, -0.0021,  0.0159,  ..., -0.0153,  0.0212, -0.0127]])"
      ]
     },
     "execution_count": 17,
     "metadata": {},
     "output_type": "execute_result"
    }
   ],
   "source": [
    "sentence_embeddings"
   ]
  },
  {
   "cell_type": "code",
   "execution_count": 18,
   "id": "fda05e04-3307-48dd-a243-da104d0bed13",
   "metadata": {},
   "outputs": [],
   "source": [
    "import umap\n"
   ]
  },
  {
   "cell_type": "code",
   "execution_count": 19,
   "id": "4e51038e-68ac-4e41-b086-551cff9220a7",
   "metadata": {},
   "outputs": [
    {
     "name": "stderr",
     "output_type": "stream",
     "text": [
      "/home/gvisona/miniconda3/envs/proteinbert/lib/python3.10/site-packages/umap/umap_.py:1943: UserWarning: n_jobs value -1 overridden to 1 by setting random_state. Use no seed for parallelism.\n",
      "  warn(f\"n_jobs value {self.n_jobs} overridden to 1 by setting random_state. Use no seed for parallelism.\")\n"
     ]
    }
   ],
   "source": [
    "reducer = umap.UMAP(n_components=2, random_state=42)\n",
    "umap_embeddings = reducer.fit_transform(species_embeddings)\n"
   ]
  },
  {
   "cell_type": "code",
   "execution_count": 20,
   "id": "1be19cb9-0359-47ab-baaf-f434ca6bce94",
   "metadata": {},
   "outputs": [
    {
     "data": {
      "image/png": "[encoded data removed]",
      "text/plain": [
       "<Figure size 900x900 with 1 Axes>"
      ]
     },
     "metadata": {},
     "output_type": "display_data"
    }
   ],
   "source": [
    "fig, ax = plt.subplots(figsize=(9,9))\n",
    "\n",
    "ax.scatter(umap_embeddings[:,0], umap_embeddings[:,1], color=\"blue\")\n",
    "ax.scatter(umap_embeddings[:1,0], umap_embeddings[:1,1], color=\"orange\", s=100)\n",
    "plt.show()"
   ]
  },
  {
   "cell_type": "code",
   "execution_count": 25,
   "id": "482691de-8c99-4ad4-acae-75cf74c96379",
   "metadata": {},
   "outputs": [
    {
     "data": {
      "image/png": "[encoded data removed]",
      "text/plain": [
       "<Figure size 900x900 with 1 Axes>"
      ]
     },
     "metadata": {},
     "output_type": "display_data"
    }
   ],
   "source": [
    "similarities = np.dot(species_embeddings[0,:], species_embeddings[1:,:].T)\n",
    "fig, ax = plt.subplots(figsize=(9,9))\n",
    "ax.hist(similarities, bins=50)\n",
    "plt.show()"
   ]
  },
  {
   "cell_type": "code",
   "execution_count": 26,
   "id": "0763424c-9573-4e9a-8bbf-61a497400866",
   "metadata": {},
   "outputs": [
    {
     "data": {
      "image/png": "[encoded data removed]",
      "text/plain": [
       "<Figure size 900x900 with 1 Axes>"
      ]
     },
     "metadata": {},
     "output_type": "display_data"
    }
   ],
   "source": [
    "similarities = np.dot(species_embeddings[100,:], species_embeddings[1:,:].T)\n",
    "fig, ax = plt.subplots(figsize=(9,9))\n",
    "ax.hist(similarities, bins=50)\n",
    "plt.show()"
   ]
  },
  {
   "cell_type": "code",
   "execution_count": null,
   "id": "f25cd221-3470-469a-9eeb-4803e260cadd",
   "metadata": {},
   "outputs": [],
   "source": []
  }
 ],
 "metadata": {
  "kernelspec": {
   "display_name": "Python 3 (ipykernel)",
   "language": "python",
   "name": "python3"
  },
  "language_info": {
   "codemirror_mode": {
    "name": "ipython",
    "version": 3
   },
   "file_extension": ".py",
   "mimetype": "text/x-python",
   "name": "python",
   "nbconvert_exporter": "python",
   "pygments_lexer": "ipython3",
   "version": "3.10.0"
  }
 },
 "nbformat": 4,
 "nbformat_minor": 5
}
