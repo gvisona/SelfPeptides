{
 "cells": [
  {
   "cell_type": "code",
   "execution_count": 7,
   "id": "22b808fe-364d-45e8-8083-27e6c57e82a9",
   "metadata": {},
   "outputs": [],
   "source": [
    "import pandas as pd\n",
    "import numpy as np\n",
    "import h5py\n",
    "from tqdm.notebook import tqdm\n",
    "import os\n",
    "\n",
    "from torch.utils.data import Dataset, DataLoader"
   ]
  },
  {
   "cell_type": "code",
   "execution_count": 3,
   "id": "9c2288f6-86f3-452c-9ca7-e20302a0e475",
   "metadata": {},
   "outputs": [
    {
     "name": "stdout",
     "output_type": "stream",
     "text": [
      "<KeysViewHDF5 ['bacterial_peptides', 'human_cancer_peptides', 'reference_human_proteome', 'viral_peptides']>\n"
     ]
    }
   ],
   "source": [
    "with h5py.File('../processed_data/peptide_reference_dataset.hdf5', 'r') as f:\n",
    "    print(f.keys())"
   ]
  },
  {
   "cell_type": "code",
   "execution_count": 26,
   "id": "43c74eeb-b8b4-4941-937b-ec8ee091bcd3",
   "metadata": {},
   "outputs": [],
   "source": [
    "class PeptideTripletsDataset(Dataset):\n",
    "    def __init__(self, hdf5_dataset_fname):\n",
    "        self.hdf5_dataset_fname = hdf5_dataset_fname\n",
    "        self._get_n_peptides()\n",
    "        self._generate_triplets()\n",
    "        \n",
    "    def _get_n_peptides(self):\n",
    "        peptides_n_ref = {}\n",
    "        with h5py.File(self.hdf5_dataset_fname, 'r') as f:\n",
    "            for k in f.keys():\n",
    "                peptides_n_ref[k] = len(f[k])\n",
    "        self.peptides_n_ref = peptides_n_ref\n",
    "                    \n",
    "    def _generate_triplets(self, n_triplets=1000, random_state=None):\n",
    "        triplets = []\n",
    "        \n",
    "        if random_state is not None:\n",
    "            np.random.seed(random_state)\n",
    "        \n",
    "        pbar = tqdm(total=n_triplets)\n",
    "        with h5py.File(self.hdf5_dataset_fname, 'r') as f:\n",
    "            while len(triplets)<n_triplets:\n",
    "                idx_p1 = np.random.randint(0, self.peptides_n_ref['reference_human_proteome'])\n",
    "                idx_p2 = np.random.randint(0, self.peptides_n_ref['reference_human_proteome'])\n",
    "                p1 = f['reference_human_proteome'][idx_p1].decode()\n",
    "                p2 = f['reference_human_proteome'][idx_p2].decode()\n",
    "                \n",
    "                if p1==p2:\n",
    "                    continue\n",
    "                \n",
    "                cat = np.random.choice(['bacterial_peptides', 'human_cancer_peptides', 'viral_peptides'])\n",
    "                idx_neg = np.random.randint(0, self.peptides_n_ref[cat])\n",
    "                neg = f[cat][idx_neg].decode()\n",
    "                \n",
    "                triplets.append([p1, p2, neg])\n",
    "                pbar.update(1)\n",
    "        pbar.close()\n",
    "        self.triplets = triplets\n",
    "        \n",
    "    \n",
    "    def __len__(self):\n",
    "        return len(self.triplets)\n",
    "    \n",
    "    def __getitem__(self, idx):\n",
    "        return self.triplets[idx]"
   ]
  },
  {
   "cell_type": "code",
   "execution_count": 31,
   "id": "766806be-8e43-450a-9b19-7a35269f2098",
   "metadata": {},
   "outputs": [
    {
     "data": {
      "application/vnd.jupyter.widget-view+json": {
       "model_id": "956ee6aa6956458a92c4eef269205d60",
       "version_major": 2,
       "version_minor": 0
      },
      "text/plain": [
       "  0%|          | 0/1000 [00:00<?, ?it/s]"
      ]
     },
     "metadata": {},
     "output_type": "display_data"
    }
   ],
   "source": [
    "dset = PeptideTripletsDataset('../processed_data/peptide_reference_dataset.hdf5')"
   ]
  },
  {
   "cell_type": "code",
   "execution_count": 32,
   "id": "4c9166a8-6b8d-429b-9817-a2061887c543",
   "metadata": {},
   "outputs": [
    {
     "data": {
      "text/plain": [
       "['QPVVTLYH', 'EVGWMTSVKD', 'GVTPGHGM']"
      ]
     },
     "execution_count": 32,
     "metadata": {},
     "output_type": "execute_result"
    }
   ],
   "source": [
    "dset[0]"
   ]
  },
  {
   "cell_type": "code",
   "execution_count": 33,
   "id": "56c22585-7aed-4930-824d-b73923db87a0",
   "metadata": {},
   "outputs": [],
   "source": [
    "dloader = DataLoader(dset, batch_size=4)"
   ]
  },
  {
   "cell_type": "code",
   "execution_count": 34,
   "id": "fb5ad09f-b836-44d8-a6ec-8992f01de794",
   "metadata": {},
   "outputs": [
    {
     "data": {
      "text/plain": [
       "[('QPVVTLYH', 'HATVSRSL', 'LDLAYGDRVW', 'QQCGDFSGFDWS'),\n",
       " ('EVGWMTSVKD', 'PCCGTFPFCGCD', 'MDQSYHSAD', 'VECGPKYPEAP'),\n",
       " ('GVTPGHGM', 'YDVPKLRAS', 'PRVPRGPRE', 'EPQTIQPEVK')]"
      ]
     },
     "execution_count": 34,
     "metadata": {},
     "output_type": "execute_result"
    }
   ],
   "source": [
    "next(iter(dloader))"
   ]
  },
  {
   "cell_type": "code",
   "execution_count": 10,
   "id": "e7709b76-50c2-4280-8c8c-48afd7f76865",
   "metadata": {},
   "outputs": [],
   "source": [
    "class PeptideDataset_forMining(Dataset):\n",
    "    def __init__(self, hdf5_dataset_fname, gen_size=1000, init_random_state=None, hold_out_set=None):\n",
    "        self.hdf5_dataset_fname = hdf5_dataset_fname\n",
    "        self.gen_size =gen_size\n",
    "        self.hold_out_set = hold_out_set\n",
    "        \n",
    "        if not os.path.exists(self.hdf5_dataset_fname):\n",
    "            raise FileNotFoundError(\"Specify a valid HDF5 file for the dataset\")\n",
    "        self._get_n_peptides()\n",
    "        self._generate_peptides(n_peptides=gen_size, random_state=init_random_state)\n",
    "        \n",
    "    def _get_n_peptides(self):\n",
    "        peptides_n_ref = {}\n",
    "        with h5py.File(self.hdf5_dataset_fname, 'r') as f:\n",
    "            for k in f.keys():\n",
    "                peptides_n_ref[k] = len(f[k])\n",
    "        self.peptides_n_ref = peptides_n_ref\n",
    "        \n",
    "    def get_stored_peptides(self):\n",
    "        peptides_set = set()\n",
    "        for t in self.triplets:\n",
    "            peptides_set.update(t)\n",
    "        return peptides_set\n",
    "                    \n",
    "    def _generate_peptides(self, n_peptides=10000, random_state=None):\n",
    "        peptides = []\n",
    "        labels = []\n",
    "        \n",
    "        if random_state is not None:\n",
    "            np.random.seed(random_state)\n",
    "        \n",
    "        pbar = tqdm(total=n_peptides)\n",
    "        with h5py.File(self.hdf5_dataset_fname, 'r') as f:\n",
    "            while len(peptides)<n_peptides:\n",
    "                idx_pos = np.random.randint(0, self.peptides_n_ref['reference_human_proteome'])\n",
    "                pos = f['reference_human_proteome'][idx_pos].decode()\n",
    "\n",
    "                cat = np.random.choice(['bacterial_peptides', 'human_cancer_peptides', 'viral_peptides'])\n",
    "                idx_neg = np.random.randint(0, self.peptides_n_ref[cat])\n",
    "                neg = f[cat][idx_neg].decode()\n",
    "                \n",
    "                if self.hold_out_set is not None:\n",
    "                    if (pos in self.hold_out_set or\n",
    "                        neg in self.hold_out_set):\n",
    "                        continue\n",
    "                \n",
    "                peptides.append(pos)\n",
    "                labels.append(1)\n",
    "                peptides.append(neg)\n",
    "                labels.append(0)\n",
    "                pbar.update(2)\n",
    "                \n",
    "        pbar.close()\n",
    "        self.peptides = peptides\n",
    "        self.labels = labels\n",
    "        \n",
    "        \n",
    "    def refresh_peptides_data(self):\n",
    "        self._generate_peptides(n_peptides=self.gen_size)\n",
    "    \n",
    "    def __len__(self):\n",
    "        return len(self.peptides)\n",
    "    \n",
    "    def __getitem__(self, idx):\n",
    "        return self.peptides[idx], self.labels[idx]"
   ]
  },
  {
   "cell_type": "code",
   "execution_count": 11,
   "id": "44dcc462-b90c-4ea5-af6a-c283986f71db",
   "metadata": {},
   "outputs": [
    {
     "data": {
      "application/vnd.jupyter.widget-view+json": {
       "model_id": "7457446e3147426fa30c5dd5bf2aaf3f",
       "version_major": 2,
       "version_minor": 0
      },
      "text/plain": [
       "  0%|          | 0/1000 [00:00<?, ?it/s]"
      ]
     },
     "metadata": {},
     "output_type": "display_data"
    }
   ],
   "source": [
    "dset = PeptideDataset_forMining('../processed_data/peptide_reference_dataset.hdf5')"
   ]
  },
  {
   "cell_type": "code",
   "execution_count": 12,
   "id": "dd69e421-7eca-43fe-97e7-4fd41794d38e",
   "metadata": {},
   "outputs": [],
   "source": [
    "dloader = DataLoader(dset, batch_size=32)"
   ]
  },
  {
   "cell_type": "code",
   "execution_count": 13,
   "id": "e83129dd-6126-4127-93d3-07ef43a310bc",
   "metadata": {},
   "outputs": [
    {
     "data": {
      "text/plain": [
       "[('APPPTPRPE',\n",
       "  'CIGPASKE',\n",
       "  'NIDKLTECIKN',\n",
       "  'AVYRSKNTKK',\n",
       "  'EYEEVRKDQDSV',\n",
       "  'VVLMDDNVECTM',\n",
       "  'SWELIIDPNLK',\n",
       "  'RSVLPVLN',\n",
       "  'AVGTTEFALL',\n",
       "  'KTRYAQLA',\n",
       "  'YGHPCGLEYG',\n",
       "  'YDLPQLYELNR',\n",
       "  'DLRLPEGDLGKE',\n",
       "  'AKMILVIAGLIL',\n",
       "  'AMMCDIIYA',\n",
       "  'VEAKPVVVK',\n",
       "  'DVVGSVLDCF',\n",
       "  'LSPANVSN',\n",
       "  'LKASCQESA',\n",
       "  'YEAANENHYPFI',\n",
       "  'RIRKVYGDL',\n",
       "  'VVLLYKIISR',\n",
       "  'DFDPAVTE',\n",
       "  'SFLAACARSC',\n",
       "  'KSTASRERLKRS',\n",
       "  'EHYDTVDLD',\n",
       "  'SASSQSGG',\n",
       "  'NHAVTVVGWD',\n",
       "  'PEQPFDHNECEK',\n",
       "  'VIDQIIIGGN',\n",
       "  'KVTIQVSLEPLQ',\n",
       "  'VMRVVAEA'),\n",
       " tensor([1, 0, 1, 0, 1, 0, 1, 0, 1, 0, 1, 0, 1, 0, 1, 0, 1, 0, 1, 0, 1, 0, 1, 0,\n",
       "         1, 0, 1, 0, 1, 0, 1, 0])]"
      ]
     },
     "execution_count": 13,
     "metadata": {},
     "output_type": "execute_result"
    }
   ],
   "source": [
    "next(iter(dloader))"
   ]
  },
  {
   "cell_type": "code",
   "execution_count": null,
   "id": "bbb28775-d2e4-4539-98de-7d837a930446",
   "metadata": {},
   "outputs": [],
   "source": []
  }
 ],
 "metadata": {
  "kernelspec": {
   "display_name": "Python 3 (ipykernel)",
   "language": "python",
   "name": "python3"
  },
  "language_info": {
   "codemirror_mode": {
    "name": "ipython",
    "version": 3
   },
   "file_extension": ".py",
   "mimetype": "text/x-python",
   "name": "python",
   "nbconvert_exporter": "python",
   "pygments_lexer": "ipython3",
   "version": "3.9.0"
  }
 },
 "nbformat": 4,
 "nbformat_minor": 5
}
