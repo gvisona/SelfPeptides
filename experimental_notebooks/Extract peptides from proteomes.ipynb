{
 "cells": [
  {
   "cell_type": "code",
   "execution_count": 1,
   "id": "22a9e0f4-4f72-4559-80d1-1e8272fb3b97",
   "metadata": {},
   "outputs": [],
   "source": [
    "import pandas as pd\n",
    "import numpy as np\n",
    "import json\n",
    "import h5py\n",
    "import gzip\n",
    "import os\n",
    "from tqdm.notebook import tqdm"
   ]
  },
  {
   "cell_type": "code",
   "execution_count": 2,
   "id": "e3747ccd-c204-4b31-928f-449483bbc891",
   "metadata": {},
   "outputs": [],
   "source": [
    "from selfpeptide.utils.processing_utils import extract_peptides_from_protein_sequence\n",
    "from selfpeptide.utils.constants import *\n",
    "from selfpeptide.utils.trie import Trie"
   ]
  },
  {
   "cell_type": "code",
   "execution_count": 3,
   "id": "5d42ddf6-10bb-49e5-9135-4cbcb95c7a88",
   "metadata": {},
   "outputs": [],
   "source": [
    "hdf5_file = '../processed_data/peptide_reference_dataset.hdf5'"
   ]
  },
  {
   "cell_type": "markdown",
   "id": "ea4e10f8-4d95-4e07-8640-9434ab6d8e2a",
   "metadata": {},
   "source": [
    "# Create Dataset"
   ]
  },
  {
   "cell_type": "code",
   "execution_count": 4,
   "id": "7f92b441-06f5-492c-8e41-2fc32d2db893",
   "metadata": {},
   "outputs": [
    {
     "name": "stdout",
     "output_type": "stream",
     "text": [
      "<KeysViewHDF5 []>\n"
     ]
    }
   ],
   "source": [
    "with h5py.File(hdf5_file, 'w') as f:\n",
    "    print(f.keys())"
   ]
  },
  {
   "cell_type": "markdown",
   "id": "69322f9f-0437-42f9-b73a-46b9615405b3",
   "metadata": {},
   "source": [
    "## Save reference human proteome"
   ]
  },
  {
   "cell_type": "code",
   "execution_count": 5,
   "id": "04f7e052-4b19-4ec1-8b8c-303e2c99d66d",
   "metadata": {},
   "outputs": [
    {
     "data": {
      "text/plain": [
       "52208587"
      ]
     },
     "execution_count": 5,
     "metadata": {},
     "output_type": "execute_result"
    }
   ],
   "source": [
    "with open(\"../processed_data/UniProt/human_peptides.json\", \"r\") as f:\n",
    "    reference_human_peptides = json.load(f)\n",
    "reference_human_peptides = set(reference_human_peptides) \n",
    "len(reference_human_peptides)"
   ]
  },
  {
   "cell_type": "code",
   "execution_count": 6,
   "id": "2688403e-e6ca-4787-a000-d7a346411f19",
   "metadata": {},
   "outputs": [],
   "source": [
    "with h5py.File(hdf5_file, 'r+') as f:\n",
    "    hmn_grp = f.create_group(\"human_proteome\")\n",
    "    dset1 = hmn_grp.create_dataset('reference_human_proteome', data=list(reference_human_peptides), compression='gzip', chunks=True)"
   ]
  },
  {
   "cell_type": "code",
   "execution_count": 9,
   "id": "35aeeb6a-91be-481f-9827-69db615a230f",
   "metadata": {},
   "outputs": [
    {
     "name": "stdout",
     "output_type": "stream",
     "text": [
      "52208587\n",
      "[b'CYDPTLDVW' b'TNITLVLCDSCN' b'GICDFDKGDGSH' b'GRIRDPIL' b'SSSLHCASSICS'\n",
      " b'HTICYFTEFL' b'PPMLSRGLGH' b'SSLEGFQW' b'VDANLQKLTQ' b'LLAINQRFQ']\n"
     ]
    }
   ],
   "source": [
    "with h5py.File(hdf5_file, 'r+') as f:\n",
    "    print(len(f[\"human_proteome\"]['reference_human_proteome'])) \n",
    "    print(f[\"human_proteome\"]['reference_human_proteome'][:10])        "
   ]
  },
  {
   "cell_type": "markdown",
   "id": "c6bc1466-5864-4c34-9a9d-35dd98d93ef8",
   "metadata": {},
   "source": [
    "## Save cancer peptides"
   ]
  },
  {
   "cell_type": "code",
   "execution_count": 14,
   "id": "c4a08537-42da-447b-bd46-3e6f9b0a3acd",
   "metadata": {},
   "outputs": [],
   "source": [
    "n_other_peptides = 0"
   ]
  },
  {
   "cell_type": "code",
   "execution_count": 15,
   "id": "3da65ffb-dde7-4b77-81f4-b510464c444e",
   "metadata": {},
   "outputs": [
    {
     "data": {
      "text/plain": [
       "39702919"
      ]
     },
     "execution_count": 15,
     "metadata": {},
     "output_type": "execute_result"
    }
   ],
   "source": [
    "with open(\"../processed_data/XMAn_filtered_peptides.json\", \"r\") as f:\n",
    "    filtered_cancer_peptides_set = json.load(f)\n",
    "n_other_peptides += len(filtered_cancer_peptides_set)\n",
    "len(filtered_cancer_peptides_set)"
   ]
  },
  {
   "cell_type": "code",
   "execution_count": 11,
   "id": "434f6812-79ef-424a-8198-78a4d3c4039e",
   "metadata": {},
   "outputs": [],
   "source": [
    "with h5py.File(hdf5_file, 'r+') as f:\n",
    "    hmn_grp = f['human_proteome']\n",
    "    dset2 = hmn_grp.create_dataset('human_cancer_peptides', data=filtered_cancer_peptides_set, compression='gzip', chunks=True)"
   ]
  },
  {
   "cell_type": "markdown",
   "id": "0c0399a6-87a0-4895-9b19-b0ec163bdbcb",
   "metadata": {},
   "source": [
    "## Process bacterial proteomes"
   ]
  },
  {
   "cell_type": "code",
   "execution_count": null,
   "id": "2e7c09a5-99d1-41e2-b2a3-c2875592b71b",
   "metadata": {},
   "outputs": [],
   "source": [
    "# bacterial_peptides = set()\n",
    "# # collected_bacterial_peptides = set()\n",
    "\n",
    "\n",
    "# for fname in tqdm(os.listdir(\"../data/UniProt/bacterial_proteomes\")):\n",
    "#     if not fname.endswith(\"fasta.gz\"):\n",
    "#         continue\n",
    "        \n",
    "    \n",
    "#     with gzip.open(\"../data/UniProt/bacterial_proteomes/{}\".format(fname), \"r\") as f:\n",
    "#         bacterial_proteins = []\n",
    "#         prot_seq = \"\"\n",
    "#         # for line in tqdm(f):\n",
    "#         for line in f:\n",
    "#             ln = line.decode()\n",
    "#             if ln.startswith(\">\"):\n",
    "#                 if len(prot_seq)>0:\n",
    "#                     bacterial_proteins.append(prot_seq)\n",
    "#                     prot_seq = \"\"\n",
    "#                 continue\n",
    "#             else:\n",
    "#                 prot_seq += ln.strip()\n",
    "#         bacterial_proteins.append(prot_seq)\n",
    "        \n",
    "#         species_peptides = []\n",
    "#         for l in range(MIN_PEPTIDE_LEN, MAX_PEPTIDE_LEN+1):\n",
    "#             for prot_seq in bacterial_proteins:\n",
    "#                 peptides = extract_peptides_from_protein_sequence(prot_seq, l)\n",
    "#                 species_peptides.extend(peptides)\n",
    "#         species_peptides = [p for p in species_peptides if p not in reference_human_peptides]\n",
    "#         bacterial_peptides.update(species_peptides)\n",
    "#         # print(len(bacterial_peptides))\n",
    "#         if len(bacterial_peptides)>1e7:\n",
    "#             break\n",
    "# len(bacterial_peptides)"
   ]
  },
  {
   "cell_type": "code",
   "execution_count": null,
   "id": "6e71083e-4733-4562-98ba-c2aa62b83237",
   "metadata": {},
   "outputs": [],
   "source": [
    "# with open(hdf5_file, 'r+') as f:\n",
    "#     dset3 = f.create_dataset('bacterial_peptides', data=list(bacterial_peptides))"
   ]
  },
  {
   "cell_type": "code",
   "execution_count": 16,
   "id": "946a1712-7f1c-453c-a3cf-061d1d992e61",
   "metadata": {},
   "outputs": [
    {
     "data": {
      "application/vnd.jupyter.widget-view+json": {
       "model_id": "221827752ad44dacb42921e9aeb046e4",
       "version_major": 2,
       "version_minor": 0
      },
      "text/plain": [
       "  0%|          | 0/218 [00:00<?, ?it/s]"
      ]
     },
     "metadata": {},
     "output_type": "display_data"
    },
    {
     "name": "stdout",
     "output_type": "stream",
     "text": [
      "Proteome UP000295518, n.peptides = 1381524\n",
      "Proteome UP000032414, n.peptides = 4754652\n",
      "Proteome UP000199512, n.peptides = 2888875\n",
      "Proteome UP000502118, n.peptides = 1125634\n",
      "Proteome UP000054608, n.peptides = 4619014\n",
      "Proteome UP000500686, n.peptides = 1155611\n",
      "Proteome UP000069902, n.peptides = 4072763\n",
      "Proteome UP000500947, n.peptides = 739007\n",
      "Proteome UP000284892, n.peptides = 4409673\n",
      "Proteome UP000289440, n.peptides = 1344065\n",
      "Proteome UP000252477, n.peptides = 1078787\n",
      "Proteome UP000013568, n.peptides = 2485028\n",
      "Proteome UP000000586, n.peptides = 2791461\n",
      "Proteome UP000254634, n.peptides = 2641697\n",
      "Proteome UP000055035, n.peptides = 4475800\n",
      "Proteome UP000008205, n.peptides = 6774899\n",
      "Proteome UP000007841, n.peptides = 7895756\n",
      "Proteome UP000319776, n.peptides = 990965\n",
      "Proteome UP000000747, n.peptides = 7094689\n",
      "Proteome UP000201169, n.peptides = 2512824\n",
      "Proteome UP000187359, n.peptides = 8069952\n",
      "Proteome UP000054698, n.peptides = 4945170\n",
      "Proteome UP000001522, n.peptides = 2214115\n",
      "Proteome UP000054869, n.peptides = 4194216\n",
      "Proteome UP000000585, n.peptides = 2819743\n",
      "Proteome UP000000230, n.peptides = 6542548\n",
      "Proteome UP000003330, n.peptides = 2948944\n",
      "Proteome UP000190868, n.peptides = 2471967\n",
      "Proteome UP000000625, n.peptides = 6444681\n",
      "Proteome UP000000431, n.peptides = 1515930\n",
      "Proteome UP000254920, n.peptides = 2575169\n",
      "Proteome UP000007484, n.peptides = 1050155\n",
      "Proteome UP000054877, n.peptides = 4724299\n",
      "Proteome UP000032430, n.peptides = 6148175\n",
      "Proteome UP000001418, n.peptides = 1366599\n",
      "Proteome UP000001122, n.peptides = 6951799\n",
      "Proteome UP000502820, n.peptides = 2666613\n",
      "Proteome UP000275883, n.peptides = 950012\n",
      "Proteome UP000182508, n.peptides = 3319356\n",
      "Proteome UP000000584, n.peptides = 5547126\n",
      "Proteome UP000077623, n.peptides = 1284989\n",
      "Proteome UP000018838, n.peptides = 3857090\n",
      "Proteome UP000018745, n.peptides = 911650\n",
      "Proteome UP000019190, n.peptides = 5224503\n",
      "Proteome UP000003244, n.peptides = 2547103\n",
      "Proteome UP000264882, n.peptides = 1104542\n",
      "Proteome UP000004914, n.peptides = 2881392\n",
      "Proteome UP000035282, n.peptides = 1529629\n",
      "Proteome UP000289195, n.peptides = 3069482\n",
      "Proteome UP000509414, n.peptides = 2441202\n",
      "Proteome UP000054761, n.peptides = 4224633\n",
      "Proteome UP000000746, n.peptides = 7069523\n",
      "Proteome UP000016233, n.peptides = 2756206\n",
      "Proteome UP000049987, n.peptides = 648743\n",
      "Proteome UP000000260, n.peptides = 6434498\n",
      "Proteome UP000594749, n.peptides = 2472460\n",
      "Proteome UP000005709, n.peptides = 3185541\n",
      "Proteome UP000315201, n.peptides = 1030420\n",
      "Proteome UP000306069, n.peptides = 2689060\n",
      "Proteome UP000000756, n.peptides = 6644264\n",
      "Proteome UP000000579, n.peptides = 2539409\n",
      "Proteome UP000018117, n.peptides = 2033959\n",
      "Proteome UP000019229, n.peptides = 1121315\n",
      "Proteome UP000001889, n.peptides = 7141361\n",
      "Proteome UP000006464, n.peptides = 4958393\n",
      "Proteome UP000000549, n.peptides = 1094815\n",
      "Proteome UP000002512, n.peptides = 2783035\n",
      "Proteome UP000288012, n.peptides = 3615858\n",
      "Proteome UP000009399, n.peptides = 1178253\n",
      "Proteome UP000004150, n.peptides = 1845907\n",
      "Proteome UP000287796, n.peptides = 4664825\n",
      "Proteome UP000031641, n.peptides = 938633\n",
      "Proteome UP000005723, n.peptides = 7209813\n",
      "Proteome UP000552683, n.peptides = 3078509\n",
      "Proteome UP000476338, n.peptides = 2370095\n",
      "Proteome UP000001491, n.peptides = 1210317\n",
      "Proteome UP000216021, n.peptides = 6701385\n",
      "Proteome UP000014539, n.peptides = 2460665\n",
      "Proteome UP000000528, n.peptides = 1375128\n",
      "Proteome UP000002196, n.peptides = 3134244\n",
      "Proteome UP000077317, n.peptides = 2878968\n",
      "Proteome UP000335940, n.peptides = 2578882\n",
      "Proteome UP000017119, n.peptides = 797722\n",
      "Proteome UP000063836, n.peptides = 947154\n",
      "Proteome UP000002032, n.peptides = 6237514\n",
      "Proteome UP000019203, n.peptides = 5413339\n",
      "Proteome UP000010466, n.peptides = 1397955\n",
      "Proteome UP000008812, n.peptides = 1144190\n",
      "Proteome UP000503264, n.peptides = 2665138\n",
      "Proteome UP000196763, n.peptides = 1743308\n",
      "Proteome UP000201728, n.peptides = 4637981\n",
      "Proteome UP000008614, n.peptides = 6888406\n",
      "Proteome UP000000609, n.peptides = 4802929\n",
      "Proteome UP000008216, n.peptides = 7540306\n",
      "Proteome UP000509179, n.peptides = 3473141\n",
      "Proteome UP000509375, n.peptides = 1394149\n",
      "Proteome UP000001006, n.peptides = 5660163\n",
      "Proteome UP000005460, n.peptides = 2696464\n",
      "Proteome UP000254924, n.peptides = 3143793\n",
      "Proteome UP000000449, n.peptides = 2587327\n",
      "Proteome UP000238956, n.peptides = 2775589\n",
      "Proteome UP000002407, n.peptides = 2299894\n",
      "Proteome UP000254640, n.peptides = 6155924\n",
      "Proteome UP000018280, n.peptides = 2019126\n",
      "Proteome UP000298191, n.peptides = 2309978\n",
      "Proteome UP000269148, n.peptides = 3202934\n",
      "Proteome UP000001410, n.peptides = 7388569\n",
      "Proteome UP000018261, n.peptides = 2633151\n",
      "Proteome UP000254702, n.peptides = 7061310\n",
      "Proteome UP000006380, n.peptides = 2836781\n",
      "Proteome UP000018174, n.peptides = 1837614\n",
      "Proteome UP000281771, n.peptides = 2764195\n",
      "Proteome UP000044071, n.peptides = 6077334\n",
      "Proteome UP000000529, n.peptides = 2968284\n",
      "Proteome UP000259606, n.peptides = 798884\n",
      "Proteome UP000244888, n.peptides = 10314929\n",
      "Proteome UP000054693, n.peptides = 4710756\n",
      "Proteome UP000001016, n.peptides = 1364869\n",
      "Proteome UP000000558, n.peptides = 7251148\n",
      "Proteome UP000215185, n.peptides = 3171959\n",
      "Proteome UP000002522, n.peptides = 1859141\n",
      "Proteome UP000001415, n.peptides = 4520035\n",
      "Proteome UP000279194, n.peptides = 2868427\n",
      "Proteome UP000255382, n.peptides = 6826077\n",
      "Proteome UP000012984, n.peptides = 1136127\n",
      "Proteome UP000002631, n.peptides = 942045\n",
      "Proteome UP000294192, n.peptides = 1613258\n",
      "Proteome UP000001030, n.peptides = 5308597\n",
      "Proteome UP000000429, n.peptides = 2358320\n",
      "Proteome UP000054785, n.peptides = 3732501\n",
      "Proteome UP000054600, n.peptides = 4828673\n",
      "Proteome UP000318879, n.peptides = 1743276\n",
      "Proteome UP000430783, n.peptides = 1673529\n",
      "Proteome UP000054859, n.peptides = 3474726\n",
      "Proteome UP000001123, n.peptides = 6347484\n",
      "Proteome UP000008816, n.peptides = 3802981\n",
      "Proteome UP000291494, n.peptides = 1975749\n",
      "Proteome UP000072050, n.peptides = 2703079\n",
      "Proteome UP000031129, n.peptides = 1069010\n",
      "Proteome UP000000808, n.peptides = 1115044\n",
      "Proteome UP000267246, n.peptides = 948481\n",
      "Proteome UP000000821, n.peptides = 2963623\n",
      "Proteome UP000069632, n.peptides = 2827431\n",
      "Proteome UP000254968, n.peptides = 4822760\n",
      "Proteome UP000001452, n.peptides = 2727943\n",
      "Proteome UP000017810, n.peptides = 6230713\n",
      "Proteome UP000009072, n.peptides = 1107317\n",
      "Proteome UP000011002, n.peptides = 6707600\n",
      "Proteome UP000000799, n.peptides = 2439552\n",
      "Proteome UP000261764, n.peptides = 1296964\n",
      "Proteome UP000054618, n.peptides = 5164644\n",
      "Proteome UP000054662, n.peptides = 4311738\n",
      "Proteome UP000017700, n.peptides = 6744230\n",
      "Proteome UP000198604, n.peptides = 3308541\n",
      "Proteome UP000196784, n.peptides = 1480964\n",
      "Proteome UP000008148, n.peptides = 6914576\n",
      "Proteome UP000002770, n.peptides = 5492498\n",
      "Proteome UP000005388, n.peptides = 3009571\n",
      "Proteome UP000515910, n.peptides = 1190172\n",
      "Proteome UP000007065, n.peptides = 1206419\n",
      "Proteome UP000054729, n.peptides = 5096994\n",
      "Proteome UP000194309, n.peptides = 2268994\n",
      "Proteome UP000006872, n.peptides = 6839562\n",
      "Proteome UP000000939, n.peptides = 4724837\n",
      "Proteome UP000502894, n.peptides = 4456739\n",
      "Proteome UP000094023, n.peptides = 4878151\n",
      "Proteome UP000018408, n.peptides = 1782197\n",
      "Proteome UP000242762, n.peptides = 2321905\n",
      "Proteome UP000498820, n.peptides = 3678432\n",
      "Proteome UP000018049, n.peptides = 1282138\n",
      "Proteome UP000253769, n.peptides = 5915841\n",
      "Proteome UP000034699, n.peptides = 7957897\n",
      "Proteome UP000254082, n.peptides = 2859305\n",
      "Proteome UP000186437, n.peptides = 2820283\n",
      "Proteome UP000249762, n.peptides = 833950\n",
      "Proteome UP000196862, n.peptides = 1338232\n",
      "Proteome UP000003291, n.peptides = 2259789\n",
      "Proteome UP000014827, n.peptides = 1290002\n",
      "Proteome UP000009077, n.peptides = 2850233\n",
      "Proteome UP000009005, n.peptides = 873779\n",
      "Proteome UP000001170, n.peptides = 2198941\n",
      "Proteome UP000584719, n.peptides = 6483921\n",
      "Proteome UP000192569, n.peptides = 4646537\n",
      "Proteome UP000070638, n.peptides = 2381530\n",
      "Proteome UP000237543, n.peptides = 6361416\n",
      "Proteome UP000000760, n.peptides = 2546535\n",
      "Proteome UP000007946, n.peptides = 2747293\n",
      "Proteome UP000000750, n.peptides = 2476624\n",
      "Proteome UP000001319, n.peptides = 2871098\n",
      "Proteome UP000000495, n.peptides = 4357053\n",
      "Proteome UP000242425, n.peptides = 723938\n",
      "Proteome UP000289692, n.peptides = 1072784\n",
      "Proteome UP000001845, n.peptides = 1233457\n",
      "Proteome UP000291072, n.peptides = 1400928\n",
      "Proteome UP000006502, n.peptides = 1017687\n",
      "Proteome UP000290482, n.peptides = 1050196\n",
      "Proteome UP000001131, n.peptides = 3067471\n",
      "Proteome UP000253816, n.peptides = 1126194\n",
      "Proteome UP000000425, n.peptides = 2740569\n",
      "Proteome UP000249865, n.peptides = 974023\n",
      "Proteome UP000009135, n.peptides = 1334055\n",
      "Proteome UP000002642, n.peptides = 2705549\n",
      "Proteome UP000240535, n.peptides = 2676660\n",
      "Proteome UP000070387, n.peptides = 2329582\n",
      "Proteome UP000002716, n.peptides = 4992719\n",
      "Proteome UP000002148, n.peptides = 3359451\n",
      "Proteome UP000036622, n.peptides = 6205543\n",
      "Proteome UP000036196, n.peptides = 7637490\n",
      "Proteome UP000006810, n.peptides = 1410844\n",
      "Proteome UP000002529, n.peptides = 5872284\n",
      "Proteome UP000001014, n.peptides = 6822104\n",
      "Proteome UP000054997, n.peptides = 3498932\n",
      "Proteome UP000199190, n.peptides = 3213054\n",
      "Proteome UP000000807, n.peptides = 859469\n",
      "Proteome UP000501060, n.peptides = 986192\n",
      "Proteome UP000002438, n.peptides = 8918954\n",
      "Proteome UP000522720, n.peptides = 3243251\n",
      "Proteome UP000249495, n.peptides = 2672341\n"
     ]
    }
   ],
   "source": [
    "# bacterial_peptides = set()\n",
    "# collected_bacterial_peptides = set()\n",
    "\n",
    "with h5py.File(hdf5_file, 'r+') as f:\n",
    "    # bact_grp = f.create_group(\"bacterial_proteomes\")\n",
    "    for fname in tqdm(os.listdir(\"../data/UniProt/bacterial_proteomes\")):\n",
    "        if not fname.endswith(\"fasta.gz\"):\n",
    "            continue\n",
    "        proteome_id = fname.split(\".\")[0]\n",
    "        \n",
    "        with gzip.open(\"../data/UniProt/bacterial_proteomes/{}\".format(fname), \"r\") as f:\n",
    "            bacterial_proteins = []\n",
    "            prot_seq = \"\"\n",
    "            # for line in tqdm(f):\n",
    "            for line in f:\n",
    "                ln = line.decode()\n",
    "                if ln.startswith(\">\"):\n",
    "                    if len(prot_seq)>0:\n",
    "                        bacterial_proteins.append(prot_seq)\n",
    "                        prot_seq = \"\"\n",
    "                    continue\n",
    "                else:\n",
    "                    prot_seq += ln.strip()\n",
    "            bacterial_proteins.append(prot_seq)\n",
    "\n",
    "        species_peptides = []\n",
    "        for l in range(MIN_PEPTIDE_LEN, MAX_PEPTIDE_LEN+1):\n",
    "            for prot_seq in bacterial_proteins:\n",
    "                peptides = extract_peptides_from_protein_sequence(prot_seq, l)\n",
    "                species_peptides.extend(peptides)\n",
    "        species_peptides = [p for p in species_peptides if p not in reference_human_peptides]\n",
    "        species_peptides = list(set(species_peptides))\n",
    "        # dset = bact_grp.create_dataset(proteome_id, data=species_peptides, chunks=True)\n",
    "        print(\"Proteome {}, n.peptides = {}\".format(proteome_id, len(species_peptides)))\n",
    "        n_other_peptides += len(species_peptides)"
   ]
  },
  {
   "cell_type": "code",
   "execution_count": 15,
   "id": "87762eb4-6627-4422-b967-043472631fff",
   "metadata": {},
   "outputs": [
    {
     "data": {
      "text/plain": [
       "'UP000295518.fasta.gz'"
      ]
     },
     "execution_count": 15,
     "metadata": {},
     "output_type": "execute_result"
    }
   ],
   "source": [
    "fname"
   ]
  },
  {
   "cell_type": "markdown",
   "id": "0cb6da32-9128-45a7-b65b-9efd8ee7f716",
   "metadata": {},
   "source": [
    "## Process viral proteomes"
   ]
  },
  {
   "cell_type": "code",
   "execution_count": 5,
   "id": "6468dcd6-b33e-4a85-99e4-788a6b1428d5",
   "metadata": {},
   "outputs": [
    {
     "data": {
      "application/vnd.jupyter.widget-view+json": {
       "model_id": "0b492d3400214851aa58f701bb419bea",
       "version_major": 2,
       "version_minor": 0
      },
      "text/plain": [
       "  0%|          | 0/195 [00:00<?, ?it/s]"
      ]
     },
     "metadata": {},
     "output_type": "display_data"
    },
    {
     "data": {
      "text/plain": [
       "10104498"
      ]
     },
     "execution_count": 5,
     "metadata": {},
     "output_type": "execute_result"
    }
   ],
   "source": [
    "# viral_peptides = set()\n",
    "# # collected_bacterial_peptides = set()\n",
    "\n",
    "\n",
    "# for fname in tqdm(os.listdir(\"../data/UniProt/viral_proteomes\")):\n",
    "#     if not fname.endswith(\"fasta.gz\"):\n",
    "#         continue\n",
    "        \n",
    "    \n",
    "#     with gzip.open(\"../data/UniProt/viral_proteomes/{}\".format(fname), \"r\") as f:\n",
    "#         viral_proteins = []\n",
    "#         prot_seq = \"\"\n",
    "#         # for line in tqdm(f):\n",
    "#         for line in f:\n",
    "#             ln = line.decode()\n",
    "#             if ln.startswith(\">\"):\n",
    "#                 if len(prot_seq)>0:\n",
    "#                     viral_proteins.append(prot_seq)\n",
    "#                     prot_seq = \"\"\n",
    "#                 continue\n",
    "#             else:\n",
    "#                 prot_seq += ln.strip()\n",
    "#         viral_proteins.append(prot_seq)\n",
    "        \n",
    "#         species_peptides = []\n",
    "#         for l in range(MIN_PEPTIDE_LEN, MAX_PEPTIDE_LEN+1):\n",
    "#             for prot_seq in viral_proteins:\n",
    "#                 peptides = extract_peptides_from_protein_sequence(prot_seq, l)\n",
    "#                 species_peptides.extend(peptides)\n",
    "#         species_peptides = [p for p in species_peptides if p not in reference_human_peptides]\n",
    "#         viral_peptides.update(species_peptides)\n",
    "#         # print(len(bacterial_peptides))\n",
    "#         if len(viral_peptides)>1e7:\n",
    "#             break\n",
    "# len(viral_peptides)"
   ]
  },
  {
   "cell_type": "code",
   "execution_count": 6,
   "id": "f4013e55-786f-4134-be38-5fe7e1a8999a",
   "metadata": {},
   "outputs": [],
   "source": [
    "# with open(hdf5_file, 'r+') as f:\n",
    "#     dset4 = f.create_dataset('viral_peptides', data=list(viral_peptides))"
   ]
  },
  {
   "cell_type": "code",
   "execution_count": 17,
   "id": "cfdc037f-bf71-4c35-9562-d29581d4eaad",
   "metadata": {},
   "outputs": [
    {
     "data": {
      "application/vnd.jupyter.widget-view+json": {
       "model_id": "f706b988827d4f10a1bea39846e0530a",
       "version_major": 2,
       "version_minor": 0
      },
      "text/plain": [
       "  0%|          | 0/195 [00:00<?, ?it/s]"
      ]
     },
     "metadata": {},
     "output_type": "display_data"
    },
    {
     "name": "stdout",
     "output_type": "stream",
     "text": [
      "Proteome UP000127637, n.peptides = 270680\n",
      "Proteome UP000297044, n.peptides = 10706\n",
      "Proteome UP000113968, n.peptides = 272450\n",
      "Proteome UP000007667, n.peptides = 11477\n",
      "Proteome UP000007083, n.peptides = 181622\n",
      "Proteome UP000171868, n.peptides = 49247\n",
      "Proteome UP000214863, n.peptides = 172739\n",
      "Proteome UP000130331, n.peptides = 10491\n",
      "Proteome UP000002474, n.peptides = 16592\n",
      "Proteome UP000002473, n.peptides = 16691\n",
      "Proteome UP000244836, n.peptides = 11086\n",
      "Proteome UP000000941, n.peptides = 168130\n",
      "Proteome UP000009294, n.peptides = 187965\n",
      "Proteome UP000153518, n.peptides = 10964\n",
      "Proteome UP000297076, n.peptides = 10384\n",
      "Proteome UP000464024, n.peptides = 49440\n",
      "Proteome UP000102742, n.peptides = 15026\n",
      "Proteome UP000009115, n.peptides = 11502\n",
      "Proteome UP000163734, n.peptides = 12865\n",
      "Proteome UP000159358, n.peptides = 170917\n",
      "Proteome UP000677407, n.peptides = 163230\n",
      "Proteome UP000149016, n.peptides = 183099\n",
      "Proteome UP000009122, n.peptides = 12042\n",
      "Proteome UP000103899, n.peptides = 307462\n",
      "Proteome UP000135812, n.peptides = 197033\n",
      "Proteome UP000145193, n.peptides = 11559\n",
      "Proteome UP000007232, n.peptides = 23323\n",
      "Proteome UP000105550, n.peptides = 11904\n",
      "Proteome UP000137095, n.peptides = 281192\n",
      "Proteome UP000204142, n.peptides = 20081\n",
      "Proteome UP000140463, n.peptides = 12032\n",
      "Proteome UP000099188, n.peptides = 314149\n",
      "Proteome UP000679767, n.peptides = 157579\n",
      "Proteome UP000247014, n.peptides = 11901\n",
      "Proteome UP000173965, n.peptides = 177543\n",
      "Proteome UP000128680, n.peptides = 11471\n",
      "Proteome UP000029777, n.peptides = 274596\n",
      "Proteome UP000121539, n.peptides = 169486\n",
      "Proteome UP000180448, n.peptides = 24033\n",
      "Proteome UP000289628, n.peptides = 11533\n",
      "Proteome UP000136351, n.peptides = 11997\n",
      "Proteome UP000170085, n.peptides = 177492\n",
      "Proteome UP000169752, n.peptides = 407124\n",
      "Proteome UP000123282, n.peptides = 12976\n",
      "Proteome UP000008286, n.peptides = 20711\n",
      "Proteome UP000099649, n.peptides = 170230\n",
      "Proteome UP000011238, n.peptides = 292873\n",
      "Proteome UP000009246, n.peptides = 198316\n",
      "Proteome UP000133475, n.peptides = 12379\n",
      "Proteome UP000134372, n.peptides = 180795\n",
      "Proteome UP000150070, n.peptides = 12197\n",
      "Proteome UP000140596, n.peptides = 10859\n",
      "Proteome UP000140763, n.peptides = 10955\n",
      "Proteome UP000152314, n.peptides = 170953\n",
      "Proteome UP000009111, n.peptides = 12336\n",
      "Proteome UP000120748, n.peptides = 17148\n",
      "Proteome UP000140289, n.peptides = 183145\n",
      "Proteome UP000006372, n.peptides = 11666\n",
      "Proteome UP000143489, n.peptides = 229798\n",
      "Proteome UP000102297, n.peptides = 11451\n",
      "Proteome UP000154030, n.peptides = 163220\n",
      "Proteome UP000134420, n.peptides = 11005\n",
      "Proteome UP000101375, n.peptides = 11906\n",
      "Proteome UP000243553, n.peptides = 183672\n",
      "Proteome UP000008158, n.peptides = 23078\n",
      "Proteome UP000096247, n.peptides = 20909\n",
      "Proteome UP000168289, n.peptides = 11651\n",
      "Proteome UP000169932, n.peptides = 11015\n",
      "Proteome UP000002602, n.peptides = 174903\n",
      "Proteome UP000270953, n.peptides = 189978\n",
      "Proteome UP000103806, n.peptides = 11797\n",
      "Proteome UP000127069, n.peptides = 186712\n",
      "Proteome UP000134313, n.peptides = 174535\n",
      "Proteome UP000125839, n.peptides = 11837\n",
      "Proteome UP000099010, n.peptides = 10993\n",
      "Proteome UP000000354, n.peptides = 49331\n",
      "Proteome UP000202345, n.peptides = 232896\n",
      "Proteome UP000133604, n.peptides = 22736\n",
      "Proteome UP000000938, n.peptides = 304996\n",
      "Proteome UP000169848, n.peptides = 182737\n",
      "Proteome UP000127867, n.peptides = 12424\n",
      "Proteome UP000118579, n.peptides = 44647\n",
      "Proteome UP000325841, n.peptides = 177686\n",
      "Proteome UP000009104, n.peptides = 11426\n",
      "Proteome UP000171862, n.peptides = 11787\n",
      "Proteome UP000006930, n.peptides = 212862\n",
      "Proteome UP000002500, n.peptides = 16911\n",
      "Proteome UP000118929, n.peptides = 11893\n",
      "Proteome UP000128556, n.peptides = 11642\n",
      "Proteome UP000109002, n.peptides = 10991\n",
      "Proteome UP000096661, n.peptides = 11910\n",
      "Proteome UP000009166, n.peptides = 12229\n",
      "Proteome UP000242696, n.peptides = 175383\n",
      "Proteome UP000001874, n.peptides = 189625\n",
      "Proteome UP000152762, n.peptides = 169178\n",
      "Proteome UP000154097, n.peptides = 10830\n",
      "Proteome UP000118426, n.peptides = 318997\n",
      "Proteome UP000289286, n.peptides = 250236\n",
      "Proteome UP000117015, n.peptides = 11729\n",
      "Proteome UP000009109, n.peptides = 12067\n",
      "Proteome UP000242799, n.peptides = 35330\n",
      "Proteome UP000121690, n.peptides = 11809\n",
      "Proteome UP000142218, n.peptides = 11410\n",
      "Proteome UP000000472, n.peptides = 23517\n",
      "Proteome UP000103468, n.peptides = 23769\n",
      "Proteome UP000202809, n.peptides = 170185\n",
      "Proteome UP000172799, n.peptides = 193235\n",
      "Proteome UP000122533, n.peptides = 319115\n",
      "Proteome UP000167073, n.peptides = 178751\n",
      "Proteome UP000297205, n.peptides = 192164\n",
      "Proteome UP000158064, n.peptides = 12498\n",
      "Proteome UP000326033, n.peptides = 180516\n",
      "Proteome UP000007209, n.peptides = 24196\n",
      "Proteome UP000126788, n.peptides = 364363\n",
      "Proteome UP000120576, n.peptides = 315152\n",
      "Proteome UP000007670, n.peptides = 11385\n",
      "Proteome UP000011239, n.peptides = 346199\n",
      "Proteome UP000102041, n.peptides = 227788\n",
      "Proteome UP000138111, n.peptides = 172227\n",
      "Proteome UP000140696, n.peptides = 14561\n",
      "Proteome UP000009253, n.peptides = 11728\n",
      "Proteome UP000103855, n.peptides = 11870\n",
      "Proteome UP000000942, n.peptides = 185941\n",
      "Proteome UP000131152, n.peptides = 22648\n",
      "Proteome UP000101154, n.peptides = 305578\n",
      "Proteome UP000170379, n.peptides = 11113\n",
      "Proteome UP000103885, n.peptides = 11518\n",
      "Proteome UP000158501, n.peptides = 169938\n",
      "Proteome UP000008072, n.peptides = 206034\n",
      "Proteome UP000006367, n.peptides = 13317\n",
      "Proteome UP000007021, n.peptides = 249699\n",
      "Proteome UP000153748, n.peptides = 11091\n",
      "Proteome UP000000587, n.peptides = 160638\n",
      "Proteome UP000161261, n.peptides = 11161\n",
      "Proteome UP000108008, n.peptides = 11920\n",
      "Proteome UP000246263, n.peptides = 10836\n",
      "Proteome UP000247041, n.peptides = 11148\n",
      "Proteome UP000131008, n.peptides = 11862\n",
      "Proteome UP000113556, n.peptides = 11701\n",
      "Proteome UP000156843, n.peptides = 11692\n",
      "Proteome UP000139997, n.peptides = 48727\n",
      "Proteome UP000007674, n.peptides = 11778\n",
      "Proteome UP000009295, n.peptides = 210685\n",
      "Proteome UP000009251, n.peptides = 11813\n",
      "Proteome UP000109731, n.peptides = 158079\n",
      "Proteome UP000148647, n.peptides = 11719\n",
      "Proteome UP000120507, n.peptides = 12142\n",
      "Proteome UP000115734, n.peptides = 6735\n",
      "Proteome UP000108288, n.peptides = 11216\n",
      "Proteome UP000113513, n.peptides = 12040\n",
      "Proteome UP000008767, n.peptides = 31101\n",
      "Proteome UP000009165, n.peptides = 13283\n",
      "Proteome UP000110586, n.peptides = 187654\n",
      "Proteome UP000108982, n.peptides = 12195\n",
      "Proteome UP000008992, n.peptides = 285222\n",
      "Proteome UP000006840, n.peptides = 196476\n",
      "Proteome UP000054557, n.peptides = 17046\n",
      "Proteome UP000242290, n.peptides = 5465\n",
      "Proteome UP000143211, n.peptides = 11078\n",
      "Proteome UP000289908, n.peptides = 177939\n",
      "Proteome UP000110594, n.peptides = 185687\n",
      "Proteome UP000203499, n.peptides = 11653\n",
      "Proteome UP000112710, n.peptides = 11537\n",
      "Proteome UP000001189, n.peptides = 195225\n",
      "Proteome UP000129991, n.peptides = 21644\n",
      "Proteome UP000009107, n.peptides = 11822\n",
      "Proteome UP000289424, n.peptides = 11598\n",
      "Proteome UP000008232, n.peptides = 10996\n",
      "Proteome UP000007639, n.peptides = 190864\n",
      "Proteome UP000161618, n.peptides = 272281\n",
      "Proteome UP000106096, n.peptides = 23836\n",
      "Proteome UP000144590, n.peptides = 178808\n",
      "Proteome UP000007643, n.peptides = 164467\n",
      "Proteome UP000153055, n.peptides = 22202\n",
      "Proteome UP000008774, n.peptides = 51179\n",
      "Proteome UP000117386, n.peptides = 9175\n",
      "Proteome UP000152474, n.peptides = 234286\n",
      "Proteome UP000008222, n.peptides = 12010\n",
      "Proteome UP000131287, n.peptides = 11494\n",
      "Proteome UP000009116, n.peptides = 11703\n",
      "Proteome UP000009252, n.peptides = 13782\n",
      "Proteome UP000110538, n.peptides = 12850\n",
      "Proteome UP000007711, n.peptides = 10843\n",
      "Proteome UP000110985, n.peptides = 11545\n",
      "Proteome UP000002477, n.peptides = 18945\n",
      "Proteome UP000290797, n.peptides = 206279\n",
      "Proteome UP000007666, n.peptides = 7601\n",
      "Proteome UP000203507, n.peptides = 326514\n",
      "Proteome UP000157603, n.peptides = 237651\n",
      "Proteome UP000136985, n.peptides = 23744\n",
      "Proteome UP000141459, n.peptides = 11022\n",
      "Proteome UP000009255, n.peptides = 22545\n",
      "Proteome UP000097892, n.peptides = 255586\n",
      "Proteome UP000153037, n.peptides = 196841\n",
      "Proteome UP000175168, n.peptides = 198775\n"
     ]
    }
   ],
   "source": [
    "# bacterial_peptides = set()\n",
    "# collected_bacterial_peptides = set()\n",
    "\n",
    "with h5py.File(hdf5_file, 'r+') as f:\n",
    "    # vir_grp = f.create_group(\"viral_proteomes\")\n",
    "    for fname in tqdm(os.listdir(\"../data/UniProt/viral_proteomes\")):\n",
    "        if not fname.endswith(\"fasta.gz\"):\n",
    "            continue\n",
    "        proteome_id = fname.split(\".\")[0]\n",
    "        \n",
    "        with gzip.open(\"../data/UniProt/viral_proteomes/{}\".format(fname), \"r\") as f:\n",
    "            viral_proteins = []\n",
    "            prot_seq = \"\"\n",
    "            # for line in tqdm(f):\n",
    "            for line in f:\n",
    "                ln = line.decode()\n",
    "                if ln.startswith(\">\"):\n",
    "                    if len(prot_seq)>0:\n",
    "                        viral_proteins.append(prot_seq)\n",
    "                        prot_seq = \"\"\n",
    "                    continue\n",
    "                else:\n",
    "                    prot_seq += ln.strip()\n",
    "            viral_proteins.append(prot_seq)\n",
    "\n",
    "        species_peptides = []\n",
    "        for l in range(MIN_PEPTIDE_LEN, MAX_PEPTIDE_LEN+1):\n",
    "            for prot_seq in viral_proteins:\n",
    "                peptides = extract_peptides_from_protein_sequence(prot_seq, l)\n",
    "                species_peptides.extend(peptides)\n",
    "        species_peptides = [p for p in species_peptides if p not in reference_human_peptides]\n",
    "        species_peptides = list(set(species_peptides))\n",
    "        # dset = vir_grp.create_dataset(proteome_id, data=species_peptides, chunks=True)\n",
    "        print(\"Proteome {}, n.peptides = {}\".format(proteome_id, len(species_peptides)))\n",
    "        n_other_peptides += len(species_peptides)"
   ]
  },
  {
   "cell_type": "code",
   "execution_count": 18,
   "id": "82ace420-d648-453d-9b1b-b94f1b80a34b",
   "metadata": {},
   "outputs": [
    {
     "data": {
      "text/plain": [
       "790551832"
      ]
     },
     "execution_count": 18,
     "metadata": {},
     "output_type": "execute_result"
    }
   ],
   "source": [
    "n_other_peptides"
   ]
  },
  {
   "cell_type": "code",
   "execution_count": null,
   "id": "6aaa1e4c-7bef-4ad3-a178-3311ac1dcd9b",
   "metadata": {},
   "outputs": [],
   "source": []
  }
 ],
 "metadata": {
  "kernelspec": {
   "display_name": "Python 3 (ipykernel)",
   "language": "python",
   "name": "python3"
  },
  "language_info": {
   "codemirror_mode": {
    "name": "ipython",
    "version": 3
   },
   "file_extension": ".py",
   "mimetype": "text/x-python",
   "name": "python",
   "nbconvert_exporter": "python",
   "pygments_lexer": "ipython3",
   "version": "3.10.0"
  }
 },
 "nbformat": 4,
 "nbformat_minor": 5
}
