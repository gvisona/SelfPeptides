{
 "cells": [
  {
   "cell_type": "code",
   "execution_count": 1,
   "id": "69babacd-3ea5-487d-a6a2-cf5a3f319d6a",
   "metadata": {},
   "outputs": [
    {
     "name": "stderr",
     "output_type": "stream",
     "text": [
      "2024-01-23 16:09:19.784763: I tensorflow/core/platform/cpu_feature_guard.cc:193] This TensorFlow binary is optimized with oneAPI Deep Neural Network Library (oneDNN) to use the following CPU instructions in performance-critical operations:  AVX2 AVX_VNNI FMA\n",
      "To enable them in other operations, rebuild TensorFlow with the appropriate compiler flags.\n",
      "2024-01-23 16:09:19.965732: I tensorflow/core/util/port.cc:104] oneDNN custom operations are on. You may see slightly different numerical results due to floating-point round-off errors from different computation orders. To turn them off, set the environment variable `TF_ENABLE_ONEDNN_OPTS=0`.\n",
      "2024-01-23 16:09:19.999743: W tensorflow/compiler/xla/stream_executor/platform/default/dso_loader.cc:64] Could not load dynamic library 'libcudart.so.11.0'; dlerror: libcudart.so.11.0: cannot open shared object file: No such file or directory\n",
      "2024-01-23 16:09:19.999760: I tensorflow/compiler/xla/stream_executor/cuda/cudart_stub.cc:29] Ignore above cudart dlerror if you do not have a GPU set up on your machine.\n",
      "2024-01-23 16:09:20.683685: W tensorflow/compiler/xla/stream_executor/platform/default/dso_loader.cc:64] Could not load dynamic library 'libnvinfer.so.7'; dlerror: libnvinfer.so.7: cannot open shared object file: No such file or directory\n",
      "2024-01-23 16:09:20.683725: W tensorflow/compiler/xla/stream_executor/platform/default/dso_loader.cc:64] Could not load dynamic library 'libnvinfer_plugin.so.7'; dlerror: libnvinfer_plugin.so.7: cannot open shared object file: No such file or directory\n",
      "2024-01-23 16:09:20.683728: W tensorflow/compiler/tf2tensorrt/utils/py_utils.cc:38] TF-TRT Warning: Cannot dlopen some TensorRT libraries. If you would like to use Nvidia GPU with TensorRT, please make sure the missing libraries mentioned above are installed properly.\n"
     ]
    }
   ],
   "source": [
    "import pandas as pd\n",
    "import numpy as np\n",
    "import matplotlib.pyplot as plt\n",
    "from tqdm.notebook import tqdm\n",
    "\n",
    "\n",
    "from transformers import T5Tokenizer, T5EncoderModel\n",
    "import torch\n",
    "import pandas as pd\n",
    "import numpy as np\n",
    "import re\n",
    "import json\n",
    "from tqdm.notebook import tqdm\n",
    "\n",
    "import h5py"
   ]
  },
  {
   "cell_type": "code",
   "execution_count": 2,
   "id": "ebacaf42-6dd3-457d-84aa-54b006b9037b",
   "metadata": {},
   "outputs": [],
   "source": [
    "device = torch.device('cuda:0' if torch.cuda.is_available() else 'cpu')\n",
    "\n",
    "# Load the tokenizer\n",
    "tokenizer = T5Tokenizer.from_pretrained('Rostlab/prot_t5_xl_half_uniref50-enc', do_lower_case=False)\n",
    "\n",
    "# Load the model\n",
    "model = T5EncoderModel.from_pretrained(\"Rostlab/prot_t5_xl_half_uniref50-enc\").to(device)\n"
   ]
  },
  {
   "cell_type": "code",
   "execution_count": 3,
   "id": "b04b362e-2707-4621-b3e5-bf9328dcba7f",
   "metadata": {},
   "outputs": [
    {
     "data": {
      "text/html": [
       "<div>\n",
       "<style scoped>\n",
       "    .dataframe tbody tr th:only-of-type {\n",
       "        vertical-align: middle;\n",
       "    }\n",
       "\n",
       "    .dataframe tbody tr th {\n",
       "        vertical-align: top;\n",
       "    }\n",
       "\n",
       "    .dataframe thead th {\n",
       "        text-align: right;\n",
       "    }\n",
       "</style>\n",
       "<table border=\"1\" class=\"dataframe\">\n",
       "  <thead>\n",
       "    <tr style=\"text-align: right;\">\n",
       "      <th></th>\n",
       "      <th>UniProt_ID</th>\n",
       "      <th>Protein_Sequence</th>\n",
       "    </tr>\n",
       "  </thead>\n",
       "  <tbody>\n",
       "    <tr>\n",
       "      <th>0</th>\n",
       "      <td>A0A023HQ21</td>\n",
       "      <td>MEVLYSLSKTLKDARDKIVEGTLYSNVSDLIQQFNQMIVTMNGNDF...</td>\n",
       "    </tr>\n",
       "    <tr>\n",
       "      <th>1</th>\n",
       "      <td>A0A023IRJ5</td>\n",
       "      <td>MLLTEIPNVYQRALALERRIRVRELFPEGLVPYLKRQEHAGSIASP...</td>\n",
       "    </tr>\n",
       "    <tr>\n",
       "      <th>2</th>\n",
       "      <td>A0A023IRJ9</td>\n",
       "      <td>MASIIENLTTTFASSMLGTAEDAVGSLMDAAVRPVEAPNVIISDQS...</td>\n",
       "    </tr>\n",
       "    <tr>\n",
       "      <th>3</th>\n",
       "      <td>A0A023IT01</td>\n",
       "      <td>MASQGTKRSYEQMETGGERQDATEIRASVGRMIGGIGRFYIQMCTE...</td>\n",
       "    </tr>\n",
       "    <tr>\n",
       "      <th>4</th>\n",
       "      <td>A0A023IYH5</td>\n",
       "      <td>DYSKWDSTLHPDVIRLAIDTLSHFITLDDLAVGVNNVLSSRPSGLV...</td>\n",
       "    </tr>\n",
       "    <tr>\n",
       "      <th>...</th>\n",
       "      <td>...</td>\n",
       "      <td>...</td>\n",
       "    </tr>\n",
       "    <tr>\n",
       "      <th>128839</th>\n",
       "      <td>X6RLT1</td>\n",
       "      <td>XEGMAGAVPGAIMDEDYYGSAAEWGDEADGGQQEDDSGEGEDDAEV...</td>\n",
       "    </tr>\n",
       "    <tr>\n",
       "      <th>128840</th>\n",
       "      <td>X6RLV5</td>\n",
       "      <td>MSGYSSDRDRGRDRGFGAPRFGGSRAGPLSGKKFGNPGEKLVKKKW...</td>\n",
       "    </tr>\n",
       "    <tr>\n",
       "      <th>128841</th>\n",
       "      <td>X6RLX0</td>\n",
       "      <td>MYGSARSVGKVEPSSQSPGRSPRLPRSPRLGHRRTNSTGGSSGSSV...</td>\n",
       "    </tr>\n",
       "    <tr>\n",
       "      <th>128842</th>\n",
       "      <td>X6RM00</td>\n",
       "      <td>MYGSARSVGKVEPSSQSPGRSPRLPRSPRLGHRRTNSTGGSSGSSV...</td>\n",
       "    </tr>\n",
       "    <tr>\n",
       "      <th>128843</th>\n",
       "      <td>X6RM59</td>\n",
       "      <td>MDRAAVARVGAVASASVCALVAGVVLAQYIFTLKRKTGRKTKIIEM...</td>\n",
       "    </tr>\n",
       "  </tbody>\n",
       "</table>\n",
       "<p>128844 rows × 2 columns</p>\n",
       "</div>"
      ],
      "text/plain": [
       "        UniProt_ID                                   Protein_Sequence\n",
       "0       A0A023HQ21  MEVLYSLSKTLKDARDKIVEGTLYSNVSDLIQQFNQMIVTMNGNDF...\n",
       "1       A0A023IRJ5  MLLTEIPNVYQRALALERRIRVRELFPEGLVPYLKRQEHAGSIASP...\n",
       "2       A0A023IRJ9  MASIIENLTTTFASSMLGTAEDAVGSLMDAAVRPVEAPNVIISDQS...\n",
       "3       A0A023IT01  MASQGTKRSYEQMETGGERQDATEIRASVGRMIGGIGRFYIQMCTE...\n",
       "4       A0A023IYH5  DYSKWDSTLHPDVIRLAIDTLSHFITLDDLAVGVNNVLSSRPSGLV...\n",
       "...            ...                                                ...\n",
       "128839      X6RLT1  XEGMAGAVPGAIMDEDYYGSAAEWGDEADGGQQEDDSGEGEDDAEV...\n",
       "128840      X6RLV5  MSGYSSDRDRGRDRGFGAPRFGGSRAGPLSGKKFGNPGEKLVKKKW...\n",
       "128841      X6RLX0  MYGSARSVGKVEPSSQSPGRSPRLPRSPRLGHRRTNSTGGSSGSSV...\n",
       "128842      X6RM00  MYGSARSVGKVEPSSQSPGRSPRLPRSPRLGHRRTNSTGGSSGSSV...\n",
       "128843      X6RM59  MDRAAVARVGAVASASVCALVAGVVLAQYIFTLKRKTGRKTKIIEM...\n",
       "\n",
       "[128844 rows x 2 columns]"
      ]
     },
     "execution_count": 3,
     "metadata": {},
     "output_type": "execute_result"
    }
   ],
   "source": [
    "protein_ref = pd.read_csv(\"../processed_data/mmseqs_searches/protein_sequences.csv\")\n",
    "protein_ref"
   ]
  },
  {
   "cell_type": "code",
   "execution_count": null,
   "id": "8738e8dc-a879-48f2-82ca-68e058f555f7",
   "metadata": {},
   "outputs": [
    {
     "data": {
      "application/vnd.jupyter.widget-view+json": {
       "model_id": "c8f96d9694bb4957a07f2baed56ae042",
       "version_major": 2,
       "version_minor": 0
      },
      "text/plain": [
       "  0%|          | 0/12884 [00:00<?, ?it/s]"
      ]
     },
     "metadata": {},
     "output_type": "display_data"
    }
   ],
   "source": [
    "prot_embeddings = []\n",
    "for batch in tqdm(np.array_split(protein_ref[\"Protein_Sequence\"].values, 12884)):\n",
    "    lengths = [len(p) for p in batch]\n",
    "    tok_batch = [\" \".join(list(re.sub(r\"[UZOB]\", \"X\", sequence))) for sequence in batch]\n",
    "    ids = tokenizer.batch_encode_plus(tok_batch, add_special_tokens=True, padding=\"longest\")\n",
    "\n",
    "    input_ids = torch.tensor(ids['input_ids']).to(device)\n",
    "    attention_mask = torch.tensor(ids['attention_mask']).to(device)\n",
    "\n",
    "    # generate embeddings\n",
    "    with torch.no_grad():\n",
    "        embedding_repr = model(input_ids=input_ids,attention_mask=attention_mask)\n",
    "\n",
    "    for i, l in enumerate(lengths):\n",
    "        seq_emb = embedding_repr.last_hidden_state[i,:l].mean(dim=0)\n",
    "        # idx += 1\n",
    "        prot_embeddings.append(seq_emb.numpy())\n",
    "        # dset[idx,:]=seq_emb.numpy()\n",
    "    break"
   ]
  },
  {
   "cell_type": "code",
   "execution_count": 5,
   "id": "c817e5ac-416a-452f-a6b4-a916d3aacd13",
   "metadata": {},
   "outputs": [
    {
     "data": {
      "text/plain": [
       "50"
      ]
     },
     "execution_count": 5,
     "metadata": {},
     "output_type": "execute_result"
    }
   ],
   "source": [
    "prot_embeddings = np.vstack(prot_embeddings)"
   ]
  },
  {
   "cell_type": "code",
   "execution_count": null,
   "id": "15ce2c20-f3be-404a-9b7f-5c117b4e888b",
   "metadata": {},
   "outputs": [],
   "source": [
    "np.save(\"../processed_data/mmseqs_searches/prot_embeddings.npy\", prot_embeddings)"
   ]
  },
  {
   "cell_type": "code",
   "execution_count": 6,
   "id": "35c3c980-bbbc-4fa1-ad66-c4a7765cec92",
   "metadata": {},
   "outputs": [],
   "source": [
    "# import numpy as np\n",
    "# a = np.random.rand(128844, 2048)"
   ]
  },
  {
   "cell_type": "code",
   "execution_count": null,
   "id": "9a3eed61-f152-413b-a69e-d80d33ff4057",
   "metadata": {},
   "outputs": [],
   "source": []
  },
  {
   "cell_type": "code",
   "execution_count": null,
   "id": "bdd7779d-50b1-4ca7-ac3a-06c09ea8d783",
   "metadata": {},
   "outputs": [],
   "source": []
  }
 ],
 "metadata": {
  "kernelspec": {
   "display_name": "Python 3 (ipykernel)",
   "language": "python",
   "name": "python3"
  },
  "language_info": {
   "codemirror_mode": {
    "name": "ipython",
    "version": 3
   },
   "file_extension": ".py",
   "mimetype": "text/x-python",
   "name": "python",
   "nbconvert_exporter": "python",
   "pygments_lexer": "ipython3",
   "version": "3.10.0"
  }
 },
 "nbformat": 4,
 "nbformat_minor": 5
}
