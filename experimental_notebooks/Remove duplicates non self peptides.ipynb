{
 "cells": [
  {
   "cell_type": "code",
   "execution_count": 1,
   "id": "1f186395-e656-4cd4-92af-9289f441ec03",
   "metadata": {},
   "outputs": [],
   "source": [
    "import pandas as pd\n",
    "import numpy as np\n",
    "import h5py\n",
    "import torch\n",
    "from torch.utils.data import Dataset, DataLoader\n",
    "from tqdm.notebook import tqdm\n",
    "from sklearn.model_selection import train_test_split\n",
    "from selfpeptide.utils.constants import *"
   ]
  },
  {
   "cell_type": "code",
   "execution_count": 2,
   "id": "cbdee01f-e865-448b-bbde-87c372151bd4",
   "metadata": {},
   "outputs": [],
   "source": [
    "data_file = \"../processed_data/Self_nonSelf/pre_tokenized_peptides_dataset_noDup.hdf5\""
   ]
  },
  {
   "cell_type": "code",
   "execution_count": 3,
   "id": "7ab5854c-d82c-4d55-ad00-a5bdecbd01cb",
   "metadata": {},
   "outputs": [
    {
     "name": "stdout",
     "output_type": "stream",
     "text": [
      "<KeysViewHDF5 ['nonself_peptides', 'reference_human_peptides']>\n",
      "(52208587, 12)\n",
      "uint8\n",
      "<HDF5 dataset \"reference_human_peptides\": shape (52208587, 12), type \"|u1\">\n",
      "<HDF5 dataset \"nonself_peptides\": shape (539512268, 12), type \"|u1\">\n",
      "(539512268, 12)\n",
      "uint8\n",
      "{'*': 22, '-': 21, 'A': 0, 'C': 1, 'D': 2, 'E': 3, 'F': 4, 'G': 5, 'H': 6, 'I': 7, 'K': 8, 'L': 9, 'M': 10, 'N': 11, 'P': 12, 'Q': 13, 'R': 14, 'S': 15, 'T': 16, 'V': 17, 'W': 18, 'X': 19, 'Y': 20}\n"
     ]
    }
   ],
   "source": [
    "with h5py.File(data_file, \"r\") as f:\n",
    "    print(f.keys())\n",
    "    print(f['reference_human_peptides'].shape)\n",
    "    print(f['reference_human_peptides'].dtype)\n",
    "    print(f['reference_human_peptides'])\n",
    "    print(f['nonself_peptides'])\n",
    "    print(f['nonself_peptides'].shape)\n",
    "    print(f['nonself_peptides'].dtype)\n",
    "    attrs_dict = dict(f.attrs)\n",
    "    print(dict(f.attrs))\n",
    "    self_peptides = f['reference_human_peptides'][:]\n",
    "    nonself_peptides = f['nonself_peptides'][:]"
   ]
  },
  {
   "cell_type": "code",
   "execution_count": 4,
   "id": "a0eb5d51-c46c-40c8-a2a9-c2e97639da30",
   "metadata": {},
   "outputs": [
    {
     "data": {
      "text/plain": [
       "(6, 4, 15, 5, 5, 16, 15, 7, 22, 22, 22, 22)"
      ]
     },
     "execution_count": 4,
     "metadata": {},
     "output_type": "execute_result"
    }
   ],
   "source": [
    "tuple(nonself_peptides[0])"
   ]
  },
  {
   "cell_type": "code",
   "execution_count": 5,
   "id": "cd6b4898-9505-475e-a4c7-c6d9905a23c4",
   "metadata": {},
   "outputs": [
    {
     "data": {
      "text/plain": [
       "539512268"
      ]
     },
     "execution_count": 5,
     "metadata": {},
     "output_type": "execute_result"
    }
   ],
   "source": [
    "len(nonself_peptides)"
   ]
  },
  {
   "cell_type": "code",
   "execution_count": null,
   "id": "97c1eed4-9eb3-4dce-bc43-23c9bd671fcc",
   "metadata": {},
   "outputs": [
    {
     "data": {
      "application/vnd.jupyter.widget-view+json": {
       "model_id": "5fca3985187a4b409fe652133e366479",
       "version_major": 2,
       "version_minor": 0
      },
      "text/plain": [
       "  0%|          | 0/790551832 [00:00<?, ?it/s]"
      ]
     },
     "metadata": {},
     "output_type": "display_data"
    }
   ],
   "source": [
    "nonself_peptides_set = set()\n",
    "for i in tqdm(range(len(nonself_peptides))):\n",
    "    nonself_peptides_set.add(tuple(nonself_peptides[i]))"
   ]
  },
  {
   "cell_type": "code",
   "execution_count": 4,
   "id": "10f7b440-90d0-4527-b866-35b5496168f3",
   "metadata": {},
   "outputs": [],
   "source": [
    "unique_nonself_peptides = np.unique(nonself_peptides, axis=0)"
   ]
  },
  {
   "cell_type": "code",
   "execution_count": 6,
   "id": "fea88ba4-eee4-4629-acab-25cc84a2e6c9",
   "metadata": {},
   "outputs": [
    {
     "data": {
      "text/plain": [
       "52208587"
      ]
     },
     "execution_count": 6,
     "metadata": {},
     "output_type": "execute_result"
    }
   ],
   "source": [
    "len(self_peptides)"
   ]
  },
  {
   "cell_type": "code",
   "execution_count": null,
   "id": "d7600fda-0771-4b03-b990-6a5545b3ff0a",
   "metadata": {},
   "outputs": [],
   "source": [
    "fout.create_dataset(\"nonself_peptides\", (N_OTHER_PEPTIDES, MAX_PEPTIDE_LEN), dtype=\"u1\", compression='gzip', chunks=True)"
   ]
  },
  {
   "cell_type": "code",
   "execution_count": 8,
   "id": "de887f41-b3a7-480d-914b-371b5683ecb3",
   "metadata": {},
   "outputs": [
    {
     "data": {
      "text/plain": [
       "0.3175497846420777"
      ]
     },
     "execution_count": 8,
     "metadata": {},
     "output_type": "execute_result"
    }
   ],
   "source": [
    "(len(nonself_peptides) - len(unique_nonself_peptides))/(len(nonself_peptides))"
   ]
  },
  {
   "cell_type": "code",
   "execution_count": 9,
   "id": "c4707ac3-f64b-41dc-bb0b-de4f5ce0aa37",
   "metadata": {},
   "outputs": [],
   "source": [
    "np.random.seed(42)\n",
    "np.random.shuffle(unique_nonself_peptides)"
   ]
  },
  {
   "cell_type": "code",
   "execution_count": 10,
   "id": "3ffe07a5-4915-4b31-b4d7-bd29e4ec6999",
   "metadata": {},
   "outputs": [
    {
     "data": {
      "text/plain": [
       "array([[ 6,  4, 15, ..., 22, 22, 22],\n",
       "       [ 7, 20, 11, ...,  0, 22, 22],\n",
       "       [ 4,  8, 14, ..., 22, 22, 22],\n",
       "       ...,\n",
       "       [ 4, 13,  3, ...,  9, 22, 22],\n",
       "       [ 7,  9, 15, ..., 13, 10, 22],\n",
       "       [20, 14,  9, ...,  9, 13, 22]], dtype=uint8)"
      ]
     },
     "execution_count": 10,
     "metadata": {},
     "output_type": "execute_result"
    }
   ],
   "source": [
    "unique_nonself_peptides"
   ]
  },
  {
   "cell_type": "code",
   "execution_count": 16,
   "id": "6a450887-9fa4-4c53-8a1d-e2a01959a1e2",
   "metadata": {},
   "outputs": [
    {
     "name": "stdout",
     "output_type": "stream",
     "text": [
      "<KeysViewHDF5 ['reference_human_peptides']>\n"
     ]
    }
   ],
   "source": [
    "with h5py.File(data_file, \"a\") as f:\n",
    "    del f['nonself_peptides']\n",
    "    print(f.keys())"
   ]
  },
  {
   "cell_type": "code",
   "execution_count": 17,
   "id": "2481cf91-1842-48f9-8ef3-a6a3842e0923",
   "metadata": {},
   "outputs": [],
   "source": [
    "\n",
    "with h5py.File(data_file, \"r+\") as f:\n",
    "    dset = f.create_dataset(\"nonself_peptides\", (len(nonself_peptides), MAX_PEPTIDE_LEN), dtype=\"u1\", compression='gzip', chunks=True)\n",
    "    dset[:] = nonself_peptides_u1"
   ]
  },
  {
   "cell_type": "code",
   "execution_count": 16,
   "id": "644257ed-8132-406f-83ba-76244689a6bf",
   "metadata": {},
   "outputs": [
    {
     "data": {
      "text/plain": [
       "array([[ 1, 20,  2, 12, 16,  9,  2, 17, 18, 22, 22, 22],\n",
       "       [16, 11,  7, 16,  9, 17,  9,  1,  2, 15,  1, 11],\n",
       "       [ 5,  7,  1,  2,  4,  2,  8,  5,  2,  5, 15,  6],\n",
       "       [ 5, 14,  7, 14,  2, 12,  7,  9, 22, 22, 22, 22],\n",
       "       [15, 15, 15,  9,  6,  1,  0, 15, 15,  7,  1, 15],\n",
       "       [ 6, 16,  7,  1, 20,  4, 16,  3,  4,  9, 22, 22],\n",
       "       [12, 12, 10,  9, 15, 14,  5,  9,  5,  6, 22, 22],\n",
       "       [15, 15,  9,  3,  5,  4, 13, 18, 22, 22, 22, 22],\n",
       "       [17,  2,  0, 11,  9, 13,  8,  9, 16, 13, 22, 22],\n",
       "       [ 9,  9,  0,  7, 11, 13, 14,  4, 13, 22, 22, 22],\n",
       "       [10,  2, 20, 17, 17,  5,  0, 14, 16,  4, 22, 22],\n",
       "       [12, 15, 12, 14, 17,  7,  7,  6, 11, 14,  1, 12],\n",
       "       [ 2, 20,  5,  8, 13,  6,  4, 11,  2, 17, 22, 22],\n",
       "       [ 3, 10,  7,  9, 17,  1,  2,  0, 20, 14,  8, 22],\n",
       "       [ 5,  0, 14,  0, 13,  9,  9,  8, 15,  9, 14,  3],\n",
       "       [ 5, 13,  9,  9,  5, 16,  0, 14,  3, 12, 11, 12],\n",
       "       [12,  0,  3,  3, 13,  2, 12, 15, 12,  3, 22, 22],\n",
       "       [17,  3, 13, 12,  8,  5,  3,  3,  9, 22, 22, 22],\n",
       "       [15,  9,  5, 15, 16, 16,  4, 18,  3,  5,  4, 22],\n",
       "       [ 8,  4,  9, 17,  7,  5, 15,  0,  5, 22, 22, 22]], dtype=uint8)"
      ]
     },
     "execution_count": 16,
     "metadata": {},
     "output_type": "execute_result"
    }
   ],
   "source": [
    "self_peptides"
   ]
  },
  {
   "cell_type": "code",
   "execution_count": 19,
   "id": "6ff283e7-eb80-43f4-8e71-2ee745877789",
   "metadata": {},
   "outputs": [],
   "source": [
    "from torch.utils.data import Dataset, DataLoader, TensorDataset"
   ]
  },
  {
   "cell_type": "code",
   "execution_count": 21,
   "id": "9080bf3a-87d1-45ad-ae79-5b74bddf929a",
   "metadata": {},
   "outputs": [
    {
     "data": {
      "text/plain": [
       "(tensor([ 1, 20,  2, 12, 16,  9,  2, 17, 18, 22, 22, 22], dtype=torch.uint8),)"
      ]
     },
     "execution_count": 21,
     "metadata": {},
     "output_type": "execute_result"
    }
   ],
   "source": [
    "dset = TensorDataset(torch.tensor(self_peptides))\n",
    "dset[0]"
   ]
  },
  {
   "cell_type": "code",
   "execution_count": 7,
   "id": "c8e7b76c-d85a-468d-b820-173fb9394449",
   "metadata": {},
   "outputs": [],
   "source": [
    "nonself_peptides_u1 = nonself_peptides.astype(\"u1\")"
   ]
  },
  {
   "cell_type": "code",
   "execution_count": 8,
   "id": "69c89240-3cd7-49ec-85de-3fd2c4f975ad",
   "metadata": {},
   "outputs": [
    {
     "data": {
      "text/plain": [
       "array([[ 6,  4, 15, ..., 22, 22, 22],\n",
       "       [ 7, 20, 11, ...,  0, 22, 22],\n",
       "       [ 4,  8, 14, ..., 22, 22, 22],\n",
       "       ...,\n",
       "       [ 4, 13,  3, ...,  9, 22, 22],\n",
       "       [ 7,  9, 15, ..., 13, 10, 22],\n",
       "       [20, 14,  9, ...,  9, 13, 22]], dtype=uint8)"
      ]
     },
     "execution_count": 8,
     "metadata": {},
     "output_type": "execute_result"
    }
   ],
   "source": [
    "nonself_peptides_u1"
   ]
  },
  {
   "cell_type": "code",
   "execution_count": 9,
   "id": "c2fe6e9d-b7f7-4201-934f-feb4b8c55dec",
   "metadata": {},
   "outputs": [
    {
     "data": {
      "text/plain": [
       "array([ 6,  4, 15,  5,  5, 16, 15,  7, 22, 22, 22, 22], dtype=uint8)"
      ]
     },
     "execution_count": 9,
     "metadata": {},
     "output_type": "execute_result"
    }
   ],
   "source": [
    "nonself_peptides_u1[0]"
   ]
  },
  {
   "cell_type": "code",
   "execution_count": 10,
   "id": "2a60a172-a6c9-4742-8395-305f751e2671",
   "metadata": {},
   "outputs": [
    {
     "data": {
      "text/plain": [
       "array([[ 6,  4, 15, ..., 22, 22, 22],\n",
       "       [ 7, 20, 11, ...,  0, 22, 22],\n",
       "       [ 4,  8, 14, ..., 22, 22, 22],\n",
       "       ...,\n",
       "       [ 4, 13,  3, ...,  9, 22, 22],\n",
       "       [ 7,  9, 15, ..., 13, 10, 22],\n",
       "       [20, 14,  9, ...,  9, 13, 22]], dtype=uint8)"
      ]
     },
     "execution_count": 10,
     "metadata": {},
     "output_type": "execute_result"
    }
   ],
   "source": [
    "nonself_peptides"
   ]
  },
  {
   "cell_type": "code",
   "execution_count": 24,
   "id": "8363f97c-56a5-4912-810f-30d691b070bf",
   "metadata": {},
   "outputs": [],
   "source": [
    "with h5py.File(\"../processed_data/Self_nonSelf/pre_tokenized_peptides_dataset_noDup.hdf5\", \"w\") as f:\n",
    "    dset1 = f.create_dataset(\"reference_human_peptides\", (len(self_peptides), MAX_PEPTIDE_LEN), dtype=\"u1\", compression='gzip', chunks=True)\n",
    "    dset1[:] = self_peptides\n",
    "    dset2 = f.create_dataset(\"nonself_peptides\", (len(nonself_peptides), MAX_PEPTIDE_LEN), dtype=\"u1\", compression='gzip', chunks=True)\n",
    "    dset2[:] = nonself_peptides\n",
    "    f.attrs.update(attrs_dict)\n",
    "    \n",
    "    "
   ]
  },
  {
   "cell_type": "code",
   "execution_count": null,
   "id": "3eac46a6-0b87-4986-90ca-943ae83b07b6",
   "metadata": {},
   "outputs": [],
   "source": []
  }
 ],
 "metadata": {
  "kernelspec": {
   "display_name": "Python 3 (ipykernel)",
   "language": "python",
   "name": "python3"
  },
  "language_info": {
   "codemirror_mode": {
    "name": "ipython",
    "version": 3
   },
   "file_extension": ".py",
   "mimetype": "text/x-python",
   "name": "python",
   "nbconvert_exporter": "python",
   "pygments_lexer": "ipython3",
   "version": "3.10.0"
  }
 },
 "nbformat": 4,
 "nbformat_minor": 5
}
