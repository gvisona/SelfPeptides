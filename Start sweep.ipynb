{
 "cells": [
  {
   "cell_type": "code",
   "execution_count": 1,
   "id": "48b36007-f70d-477e-8c4e-1bf61cd1ea6c",
   "metadata": {},
   "outputs": [],
   "source": [
    "import yaml\n",
    "import wandb\n",
    "\n",
    "from argparse import ArgumentParser"
   ]
  },
  {
   "cell_type": "code",
   "execution_count": 2,
   "id": "fe8bf1d6-5b5f-4cf5-a097-946baedaf49d",
   "metadata": {},
   "outputs": [
    {
     "data": {
      "text/plain": [
       "{'method': 'random',\n",
       " 'metric': {'goal': 'minimize', 'name': 'train/loss'},\n",
       " 'parameters': {'accumulate_batches': {'value': 1},\n",
       "  'batch_size': {'values': [32, 64]},\n",
       "  'cool_down': {'value': 0.8},\n",
       "  'experiment_group': {'value': 'FinetuneESM2'},\n",
       "  'experiment_name': {'value': 'ESM_sweep_2'},\n",
       "  'lr': {'distribution': 'log_uniform_values', 'max': 1e-06, 'min': '1e-10'},\n",
       "  'momentum': {'values': [0.9, 0.99]},\n",
       "  'nesterov_momentum': {'value': True},\n",
       "  'max_updates': {'value': 100000},\n",
       "  'min_frac': {'value': 0.1},\n",
       "  'project_folder': {'value': '/fast/gvisona/SelfPeptides'},\n",
       "  'data_folder': {'value': '/home/gvisona/SelfPeptides'},\n",
       "  'ramp_up': {'value': 0.1},\n",
       "  'seed': {'value': 0},\n",
       "  'val_size': {'value': 0.1},\n",
       "  'test_size': {'value': 0.15},\n",
       "  'validate_every_n_updates': {'value': 10},\n",
       "  'weight_decay': {'values': [0.0, '1e-5', '1e-4']},\n",
       "  'early_stopping': {'value': False},\n",
       "  'patience': {'value': 10000},\n",
       "  'test_run': {'value': False},\n",
       "  'wandb_sweep': {'value': True},\n",
       "  'pretrained_model': {'value': 'facebook/esm2_t12_35M_UR50D'},\n",
       "  'mlm_fraction': {'value': 0.15},\n",
       "  'peptides_dataframes': {'value': ['processed_data/Immunogenicity/Processed_TCell_IEDB_beta_summed.csv',\n",
       "    'processed_data/Immunogenicity/DHLAP_immunogenicity_data.csv',\n",
       "    'processed_data/Binding_Affinity/DHLAP_binding_affinity_data.csv',\n",
       "    'processed_data/Binding_Affinity/HLA_Ligand_Atlas_processed.csv']}}}"
      ]
     },
     "execution_count": 2,
     "metadata": {},
     "output_type": "execute_result"
    }
   ],
   "source": [
    "# with open(\"hyperparameter_sweeps/Classifier_config.yml\", \"r\") as f:\n",
    "# with open(\"hyperparameter_sweeps/Immunogenicity_config.yml\", \"r\") as f:\n",
    "with open(\"hyperparameter_sweeps/Finetune_ESM2_config.yml\", \"r\") as f:\n",
    "# with open(\"hyperparameter_sweeps/BindingAffinity_config.yml\", \"r\") as f:\n",
    "# with open(\"hyperparameter_sweeps/BindingAffinity_config.yml\", \"r\") as f:\n",
    "    sweep_config = yaml.load(f, Loader=yaml.FullLoader)\n",
    "sweep_config"
   ]
  },
  {
   "cell_type": "code",
   "execution_count": 3,
   "id": "a4f74e3c-8a69-4e1d-aac0-5c1e9d2a7832",
   "metadata": {},
   "outputs": [
    {
     "data": {
      "text/plain": [
       "'ESM_sweep_2'"
      ]
     },
     "execution_count": 3,
     "metadata": {},
     "output_type": "execute_result"
    }
   ],
   "source": [
    "sweep_config[\"parameters\"][\"experiment_name\"][\"value\"]"
   ]
  },
  {
   "cell_type": "code",
   "execution_count": 4,
   "id": "b0cb350c-1f07-4e03-a45a-2e5fdd6136ae",
   "metadata": {},
   "outputs": [
    {
     "name": "stdout",
     "output_type": "stream",
     "text": [
      "Create sweep with ID: lsuemltl\n",
      "Sweep URL: https://wandb.ai/gvisona/ESM_sweep_2/sweeps/lsuemltl\n"
     ]
    },
    {
     "data": {
      "text/plain": [
       "'lsuemltl'"
      ]
     },
     "execution_count": 4,
     "metadata": {},
     "output_type": "execute_result"
    }
   ],
   "source": [
    "sweep_id = wandb.sweep(sweep_config, entity=\"gvisona\", project=sweep_config[\"parameters\"][\"experiment_name\"][\"value\"])\n",
    "sweep_id"
   ]
  },
  {
   "cell_type": "code",
   "execution_count": null,
   "id": "855eefe8-910a-47e9-8a81-8cf0c5efa532",
   "metadata": {},
   "outputs": [],
   "source": []
  },
  {
   "cell_type": "code",
   "execution_count": 5,
   "id": "06426ec6-d9b7-4427-8223-6d3bd6de8f9a",
   "metadata": {},
   "outputs": [],
   "source": [
    "a = 32"
   ]
  },
  {
   "cell_type": "code",
   "execution_count": null,
   "id": "b1984308-1496-4598-b7f5-fc49055d04bf",
   "metadata": {},
   "outputs": [],
   "source": [
    "\"{:3d}\".format(a)"
   ]
  },
  {
   "cell_type": "code",
   "execution_count": null,
   "id": "4cd4949a-f61d-48a7-b5cc-51ca9d217e8e",
   "metadata": {},
   "outputs": [],
   "source": [
    "str(a).zfill(3)"
   ]
  },
  {
   "cell_type": "code",
   "execution_count": null,
   "id": "1c4bf02c-b745-45a9-a7f8-0a00f36b490c",
   "metadata": {},
   "outputs": [],
   "source": [
    "32*64"
   ]
  },
  {
   "cell_type": "code",
   "execution_count": null,
   "id": "6ee941e6-e4ac-4be9-9b20-22d1ba5deff7",
   "metadata": {},
   "outputs": [],
   "source": [
    "0.00003*64"
   ]
  },
  {
   "cell_type": "code",
   "execution_count": 14,
   "id": "b3845f43-24b2-469d-8315-5ac41442d090",
   "metadata": {},
   "outputs": [
    {
     "data": {
      "text/plain": [
       "6"
      ]
     },
     "execution_count": 14,
     "metadata": {},
     "output_type": "execute_result"
    }
   ],
   "source": [
    "max(3, 6)"
   ]
  },
  {
   "cell_type": "code",
   "execution_count": null,
   "id": "65869905-f469-4db5-9da5-e589f11fb4f6",
   "metadata": {},
   "outputs": [],
   "source": []
  }
 ],
 "metadata": {
  "kernelspec": {
   "display_name": "Python 3 (ipykernel)",
   "language": "python",
   "name": "python3"
  },
  "language_info": {
   "codemirror_mode": {
    "name": "ipython",
    "version": 3
   },
   "file_extension": ".py",
   "mimetype": "text/x-python",
   "name": "python",
   "nbconvert_exporter": "python",
   "pygments_lexer": "ipython3",
   "version": "3.10.0"
  }
 },
 "nbformat": 4,
 "nbformat_minor": 5
}
