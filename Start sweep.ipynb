{
 "cells": [
  {
   "cell_type": "code",
   "execution_count": 1,
   "id": "48b36007-f70d-477e-8c4e-1bf61cd1ea6c",
   "metadata": {},
   "outputs": [],
   "source": [
    "import yaml\n",
    "import wandb\n",
    "\n",
    "from argparse import ArgumentParser"
   ]
  },
  {
   "cell_type": "code",
   "execution_count": 5,
   "id": "fe8bf1d6-5b5f-4cf5-a097-946baedaf49d",
   "metadata": {},
   "outputs": [
    {
     "data": {
      "text/plain": [
       "{'method': 'random',\n",
       " 'metric': {'goal': 'minimize', 'name': 'train/loss'},\n",
       " 'parameters': {'embedding_dim': {'value': 512},\n",
       "  'projection_hidden_dim': {'value': 2048},\n",
       "  'projection_dim': {'value': 32},\n",
       "  'PMA_num_heads': {'value': 1},\n",
       "  'PMA_ln': {'value': True},\n",
       "  'num_heads': {'value': 1},\n",
       "  'transf_hidden_dim': {'value': 2048},\n",
       "  'n_attention_layers': {'value': 2},\n",
       "  'accumulate_batches': {'value': 1},\n",
       "  'batch_size': {'value': 32},\n",
       "  'cool_down': {'value': 0.6},\n",
       "  'experiment_group': {'value': 'SP_Embedder'},\n",
       "  'experiment_name': {'value': 'Embeddings_CMT_allPairs_schedule'},\n",
       "  'lr': {'distribution': 'log_uniform_values', 'max': 0.0001, 'min': '1e-7'},\n",
       "  'momentum': {'values': [0.9, 0.8]},\n",
       "  'nesterov_momentum': {'value': True},\n",
       "  'max_updates': {'values': [100000, 1000000]},\n",
       "  'min_frac': {'value': 0.1},\n",
       "  'dropout_p': {'value': 0.0},\n",
       "  'project_folder': {'value': '/fast/gvisona/SelfPeptides'},\n",
       "  'ramp_up': {'value': 0.3},\n",
       "  'seed': {'value': 0},\n",
       "  'val_size': {'value': 5000},\n",
       "  'ref_size': {'value': 10000},\n",
       "  'gen_size': {'value': 1000000},\n",
       "  'validate_every_n_updates': {'value': 100},\n",
       "  'weight_decay': {'value': 1e-06},\n",
       "  'early_stopping': {'value': True},\n",
       "  'patience': {'value': 500},\n",
       "  'hdf5_dataset': {'value': '/home/gvisona/SelfPeptides/processed_data/Self_nonSelf/pre_tokenized_peptides_dataset.hdf5'},\n",
       "  'test_run': {'value': False},\n",
       "  'reg_weight': {'value': '1e-4'},\n",
       "  'margin': {'value': 0.8},\n",
       "  'loss_s': {'values': [1.0, 5.0]}}}"
      ]
     },
     "execution_count": 5,
     "metadata": {},
     "output_type": "execute_result"
    }
   ],
   "source": [
    "# with open(\"hyperparameter_sweeps/Classifier_config.yml\", \"r\") as f:\n",
    "with open(\"hyperparameter_sweeps/Embedder_config.yml\", \"r\") as f:\n",
    "# with open(\"hyperparameter_sweeps/BindingAffinity_config.yml\", \"r\") as f:\n",
    "    sweep_config = yaml.load(f, Loader=yaml.FullLoader)\n",
    "sweep_config"
   ]
  },
  {
   "cell_type": "code",
   "execution_count": 6,
   "id": "a4f74e3c-8a69-4e1d-aac0-5c1e9d2a7832",
   "metadata": {},
   "outputs": [
    {
     "data": {
      "text/plain": [
       "'Embeddings_CMT_allPairs_schedule'"
      ]
     },
     "execution_count": 6,
     "metadata": {},
     "output_type": "execute_result"
    }
   ],
   "source": [
    "sweep_config[\"parameters\"][\"experiment_name\"][\"value\"]"
   ]
  },
  {
   "cell_type": "code",
   "execution_count": 7,
   "id": "b0cb350c-1f07-4e03-a45a-2e5fdd6136ae",
   "metadata": {},
   "outputs": [
    {
     "name": "stdout",
     "output_type": "stream",
     "text": [
      "Create sweep with ID: 3u5lcyq1\n",
      "Sweep URL: https://wandb.ai/gvisona/Embeddings_CMT_allPairs_schedule/sweeps/3u5lcyq1\n"
     ]
    },
    {
     "data": {
      "text/plain": [
       "'3u5lcyq1'"
      ]
     },
     "execution_count": 7,
     "metadata": {},
     "output_type": "execute_result"
    }
   ],
   "source": [
    "sweep_id = wandb.sweep(sweep_config, entity=\"gvisona\", project=sweep_config[\"parameters\"][\"experiment_name\"][\"value\"])\n",
    "sweep_id"
   ]
  },
  {
   "cell_type": "code",
   "execution_count": null,
   "id": "855eefe8-910a-47e9-8a81-8cf0c5efa532",
   "metadata": {},
   "outputs": [],
   "source": []
  }
 ],
 "metadata": {
  "kernelspec": {
   "display_name": "Python 3 (ipykernel)",
   "language": "python",
   "name": "python3"
  },
  "language_info": {
   "codemirror_mode": {
    "name": "ipython",
    "version": 3
   },
   "file_extension": ".py",
   "mimetype": "text/x-python",
   "name": "python",
   "nbconvert_exporter": "python",
   "pygments_lexer": "ipython3",
   "version": "3.9.0"
  }
 },
 "nbformat": 4,
 "nbformat_minor": 5
}
