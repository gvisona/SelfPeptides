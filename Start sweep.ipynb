{
 "cells": [
  {
   "cell_type": "code",
   "execution_count": 9,
   "id": "48b36007-f70d-477e-8c4e-1bf61cd1ea6c",
   "metadata": {},
   "outputs": [],
   "source": [
    "import yaml\n",
    "import wandb\n",
    "\n",
    "from argparse import ArgumentParser"
   ]
  },
  {
   "cell_type": "code",
   "execution_count": 10,
   "id": "fe8bf1d6-5b5f-4cf5-a097-946baedaf49d",
   "metadata": {},
   "outputs": [
    {
     "data": {
      "text/plain": [
       "{'method': 'random',\n",
       " 'metric': {'goal': 'minimize', 'name': 'best_val_loss'},\n",
       " 'parameters': {'embedding_dim': {'value': 512},\n",
       "  'PMA_num_heads': {'value': 4},\n",
       "  'PMA_ln': {'value': True},\n",
       "  'num_heads': {'value': 4},\n",
       "  'transf_hidden_dim': {'value': 512},\n",
       "  'n_attention_layers': {'value': 2},\n",
       "  'accumulate_batches': {'value': 64},\n",
       "  'batch_size': {'value': 16},\n",
       "  'binding_affinity_df': {'value': '/home/gvisona/SelfPeptides/processed_data/Binding_Affinity/DHLAP_binding_affinity_data.csv'},\n",
       "  'cool_down': {'value': 0.8},\n",
       "  'experiment_group': {'value': 'DHLAP_binding_affinity_training'},\n",
       "  'experiment_name': {'value': 'BA_model_training_init'},\n",
       "  'lr': {'distribution': 'log_uniform_values', 'max': 0.0005, 'min': '5e-5'},\n",
       "  'momentum': {'value': 0.9},\n",
       "  'nesterov_momentum': {'value': True},\n",
       "  'max_updates': {'value': 5000},\n",
       "  'min_frac': {'value': 0.1},\n",
       "  'dropout_p': {'value': 0.05},\n",
       "  'mlp_num_layers': {'value': 2},\n",
       "  'mlp_hidden_dim': {'value': 2048},\n",
       "  'output_dim': {'value': 1},\n",
       "  'postprocessing_hidden_dim': {'value': 32},\n",
       "  'project_folder': {'value': '/fast/gvisona/SelfPeptides'},\n",
       "  'pseudo_seq_file': {'value': '/home/gvisona/SelfPeptides/data/NetMHCpan_pseudoseq/MHC_pseudo.dat'},\n",
       "  'ramp_up': {'value': 0.1},\n",
       "  'seed': {'distribution': 'int_uniform', 'min': 0, 'max': 100000},\n",
       "  'test_size': {'value': 0.15},\n",
       "  'val_size': {'value': 0.1},\n",
       "  'validate_every_n_updates': {'value': 32},\n",
       "  'weight_decay': {'value': 0.0001},\n",
       "  'early_stopping': {'value': True},\n",
       "  'patience': {'value': 200},\n",
       "  'pretrained_aa_embeddings': {'value': '/home/gvisona/SelfPeptides/processed_data/aa_embeddings/learned_BA_AA_embeddings.npy'},\n",
       "  'hla_repr': {'value': 'Allele Pseudo-sequence'}}}"
      ]
     },
     "execution_count": 10,
     "metadata": {},
     "output_type": "execute_result"
    }
   ],
   "source": [
    "# with open(\"hyperparameter_sweeps/Classifier_config.yml\", \"r\") as f:\n",
    "# with open(\"hyperparameter_sweeps/Embedder_config.yml\", \"r\") as f:\n",
    "with open(\"hyperparameter_sweeps/BindingAffinity_config.yml\", \"r\") as f:\n",
    "    sweep_config = yaml.load(f, Loader=yaml.FullLoader)\n",
    "sweep_config"
   ]
  },
  {
   "cell_type": "code",
   "execution_count": 11,
   "id": "a4f74e3c-8a69-4e1d-aac0-5c1e9d2a7832",
   "metadata": {},
   "outputs": [
    {
     "data": {
      "text/plain": [
       "'BA_model_training_init'"
      ]
     },
     "execution_count": 11,
     "metadata": {},
     "output_type": "execute_result"
    }
   ],
   "source": [
    "sweep_config[\"parameters\"][\"experiment_name\"][\"value\"]"
   ]
  },
  {
   "cell_type": "code",
   "execution_count": 12,
   "id": "b0cb350c-1f07-4e03-a45a-2e5fdd6136ae",
   "metadata": {},
   "outputs": [
    {
     "name": "stdout",
     "output_type": "stream",
     "text": [
      "Create sweep with ID: 1wsi4tjj\n",
      "Sweep URL: https://wandb.ai/gvisona/BA_model_training_init/sweeps/1wsi4tjj\n"
     ]
    },
    {
     "data": {
      "text/plain": [
       "'1wsi4tjj'"
      ]
     },
     "execution_count": 12,
     "metadata": {},
     "output_type": "execute_result"
    }
   ],
   "source": [
    "sweep_id = wandb.sweep(sweep_config, entity=\"gvisona\", project=sweep_config[\"parameters\"][\"experiment_name\"][\"value\"])\n",
    "sweep_id"
   ]
  },
  {
   "cell_type": "code",
   "execution_count": null,
   "id": "855eefe8-910a-47e9-8a81-8cf0c5efa532",
   "metadata": {},
   "outputs": [],
   "source": []
  }
 ],
 "metadata": {
  "kernelspec": {
   "display_name": "Python 3 (ipykernel)",
   "language": "python",
   "name": "python3"
  },
  "language_info": {
   "codemirror_mode": {
    "name": "ipython",
    "version": 3
   },
   "file_extension": ".py",
   "mimetype": "text/x-python",
   "name": "python",
   "nbconvert_exporter": "python",
   "pygments_lexer": "ipython3",
   "version": "3.10.0"
  }
 },
 "nbformat": 4,
 "nbformat_minor": 5
}
