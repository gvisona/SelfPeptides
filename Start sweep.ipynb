{
 "cells": [
  {
   "cell_type": "code",
   "execution_count": 1,
   "id": "48b36007-f70d-477e-8c4e-1bf61cd1ea6c",
   "metadata": {},
   "outputs": [],
   "source": [
    "import yaml\n",
    "import wandb\n",
    "\n",
    "from argparse import ArgumentParser"
   ]
  },
  {
   "cell_type": "code",
   "execution_count": 2,
   "id": "fe8bf1d6-5b5f-4cf5-a097-946baedaf49d",
   "metadata": {},
   "outputs": [
    {
     "data": {
      "text/plain": [
       "{'method': 'random',\n",
       " 'metric': {'goal': 'minimize', 'name': 'val/loss'},\n",
       " 'parameters': {'accumulate_batches': {'value': 8},\n",
       "  'batch_size': {'value': 16},\n",
       "  'cool_down': {'value': 0.8},\n",
       "  'experiment_group': {'value': 'IEDB_BetaRegression_Regr'},\n",
       "  'experiment_name': {'value': 'Beta_ProtSeqs_Regr_post'},\n",
       "  'immunogenicity_df': {'value': '/home/gvisona/SelfPeptides/processed_data/Immunogenicity/Processed_TCell_IEDB_beta_summed.csv'},\n",
       "  'dhlap_df': {'value': '/home/gvisona/SelfPeptides/processed_data/Immunogenicity/DHLAP_immunogenicity_data.csv'},\n",
       "  'pseudo_seq_file': {'value': '/home/gvisona/SelfPeptides/processed_data/HLA_embeddings/HLA_pseudoseqs_T5/hla_pseudoseq_mapping.csv'},\n",
       "  'hla_prot_seq_file': {'value': '/home/gvisona/SelfPeptides/processed_data/HLA_embeddings/HLA_proteins_T5/hla_proteins_mapping.csv'},\n",
       "  'lr': {'distribution': 'log_uniform_values', 'min': '1e-8', 'max': '5e-6'},\n",
       "  'momentum': {'value': 0.99},\n",
       "  'nesterov_momentum': {'value': True},\n",
       "  'max_updates': {'value': 20000},\n",
       "  'min_frac': {'value': 0.1},\n",
       "  'project_folder': {'value': '/fast/gvisona/Immunology'},\n",
       "  'ramp_up': {'value': 0.1},\n",
       "  'seed': {'value': 10384},\n",
       "  'test_size': {'value': 0.15},\n",
       "  'val_size': {'value': 0.1},\n",
       "  'validate_every_n_updates': {'value': 16},\n",
       "  'weight_decay': {'value': 1e-05},\n",
       "  'early_stopping': {'value': True},\n",
       "  'patience': {'value': 200},\n",
       "  'dropout_p': {'value': 0.05},\n",
       "  'embedding_dim': {'value': 512},\n",
       "  'mlp_input_dim': {'value': 1025},\n",
       "  'mlp_hidden_dim': {'value': 2048},\n",
       "  'mlp_num_layers': {'values': [2, 3, 4]},\n",
       "  'output_dim': {'value': 2},\n",
       "  'min_subjects_tested': {'value': 1},\n",
       "  'pretrained_aa_embeddings': {'value': '/home/gvisona/SelfPeptides/processed_data/aa_embeddings/learned_BA_AA_embeddings.npy'},\n",
       "  'binding_model_config': {'value': '/home/gvisona/SelfPeptides/trained_models/BindingModels/solar-sweep-1/config.json'},\n",
       "  'binding_model_checkpoint': {'value': '/home/gvisona/SelfPeptides/trained_models/BindingModels/solar-sweep-1/checkpoints/001_checkpoint.pt'},\n",
       "  'wandb_sweep': {'value': True},\n",
       "  'use_posterior_mean': {'values': [True, False]}}}"
      ]
     },
     "execution_count": 2,
     "metadata": {},
     "output_type": "execute_result"
    }
   ],
   "source": [
    "# with open(\"hyperparameter_sweeps/Classifier_config.yml\", \"r\") as f:\n",
    "with open(\"hyperparameter_sweeps/Immunogenicity_config.yml\", \"r\") as f:\n",
    "# with open(\"hyperparameter_sweeps/BindingAffinity_config.yml\", \"r\") as f:\n",
    "# with open(\"hyperparameter_sweeps/BindingAffinity_config.yml\", \"r\") as f:\n",
    "    sweep_config = yaml.load(f, Loader=yaml.FullLoader)\n",
    "sweep_config"
   ]
  },
  {
   "cell_type": "code",
   "execution_count": 3,
   "id": "a4f74e3c-8a69-4e1d-aac0-5c1e9d2a7832",
   "metadata": {},
   "outputs": [
    {
     "data": {
      "text/plain": [
       "'Beta_ProtSeqs_Regr_post'"
      ]
     },
     "execution_count": 3,
     "metadata": {},
     "output_type": "execute_result"
    }
   ],
   "source": [
    "sweep_config[\"parameters\"][\"experiment_name\"][\"value\"]"
   ]
  },
  {
   "cell_type": "code",
   "execution_count": 4,
   "id": "b0cb350c-1f07-4e03-a45a-2e5fdd6136ae",
   "metadata": {},
   "outputs": [
    {
     "name": "stdout",
     "output_type": "stream",
     "text": [
      "Create sweep with ID: r6dwarqs\n",
      "Sweep URL: https://wandb.ai/gvisona/Beta_ProtSeqs_Regr_post/sweeps/r6dwarqs\n"
     ]
    },
    {
     "data": {
      "text/plain": [
       "'r6dwarqs'"
      ]
     },
     "execution_count": 4,
     "metadata": {},
     "output_type": "execute_result"
    }
   ],
   "source": [
    "sweep_id = wandb.sweep(sweep_config, entity=\"gvisona\", project=sweep_config[\"parameters\"][\"experiment_name\"][\"value\"])\n",
    "sweep_id"
   ]
  },
  {
   "cell_type": "code",
   "execution_count": null,
   "id": "855eefe8-910a-47e9-8a81-8cf0c5efa532",
   "metadata": {},
   "outputs": [],
   "source": []
  },
  {
   "cell_type": "code",
   "execution_count": 5,
   "id": "06426ec6-d9b7-4427-8223-6d3bd6de8f9a",
   "metadata": {},
   "outputs": [],
   "source": [
    "a = 32"
   ]
  },
  {
   "cell_type": "code",
   "execution_count": null,
   "id": "b1984308-1496-4598-b7f5-fc49055d04bf",
   "metadata": {},
   "outputs": [],
   "source": [
    "\"{:3d}\".format(a)"
   ]
  },
  {
   "cell_type": "code",
   "execution_count": null,
   "id": "4cd4949a-f61d-48a7-b5cc-51ca9d217e8e",
   "metadata": {},
   "outputs": [],
   "source": [
    "str(a).zfill(3)"
   ]
  },
  {
   "cell_type": "code",
   "execution_count": null,
   "id": "1c4bf02c-b745-45a9-a7f8-0a00f36b490c",
   "metadata": {},
   "outputs": [],
   "source": [
    "32*64"
   ]
  },
  {
   "cell_type": "code",
   "execution_count": null,
   "id": "6ee941e6-e4ac-4be9-9b20-22d1ba5deff7",
   "metadata": {},
   "outputs": [],
   "source": [
    "0.00003*64"
   ]
  },
  {
   "cell_type": "code",
   "execution_count": null,
   "id": "b3845f43-24b2-469d-8315-5ac41442d090",
   "metadata": {},
   "outputs": [],
   "source": []
  }
 ],
 "metadata": {
  "kernelspec": {
   "display_name": "Python 3 (ipykernel)",
   "language": "python",
   "name": "python3"
  },
  "language_info": {
   "codemirror_mode": {
    "name": "ipython",
    "version": 3
   },
   "file_extension": ".py",
   "mimetype": "text/x-python",
   "name": "python",
   "nbconvert_exporter": "python",
   "pygments_lexer": "ipython3",
   "version": "3.10.0"
  }
 },
 "nbformat": 4,
 "nbformat_minor": 5
}
