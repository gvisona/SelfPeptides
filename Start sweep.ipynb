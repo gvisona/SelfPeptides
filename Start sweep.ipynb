{
 "cells": [
  {
   "cell_type": "code",
   "execution_count": 15,
   "id": "48b36007-f70d-477e-8c4e-1bf61cd1ea6c",
   "metadata": {},
   "outputs": [],
   "source": [
    "import yaml\n",
    "import wandb\n",
    "\n",
    "from argparse import ArgumentParser"
   ]
  },
  {
   "cell_type": "code",
   "execution_count": 19,
   "id": "fe8bf1d6-5b5f-4cf5-a097-946baedaf49d",
   "metadata": {},
   "outputs": [
    {
     "data": {
      "text/plain": [
       "{'method': 'random',\n",
       " 'metric': {'goal': 'minimize', 'name': 'train/hinge_loss'},\n",
       " 'parameters': {'embedding_dim': {'value': 512},\n",
       "  'PMA_num_heads': {'values': [1, 2]},\n",
       "  'PMA_ln': {'value': True},\n",
       "  'num_heads': {'values': [4, 8]},\n",
       "  'transf_hidden_dim': {'value': 1024},\n",
       "  'n_attention_layers': {'values': [2, 4, 8]},\n",
       "  'accumulate_batches': {'value': 32},\n",
       "  'batch_size': {'value': 16},\n",
       "  'cool_down': {'value': 0.8},\n",
       "  'experiment_group': {'value': 'SP_Embedder'},\n",
       "  'experiment_name': {'value': 'Embeddings_hinge_loss_overfit'},\n",
       "  'lr': {'distribution': 'log_uniform_values', 'max': 0.005, 'min': '1e-5'},\n",
       "  'momentum': {'values': [0.9, 0.99]},\n",
       "  'nesterov_momentum': {'value': True},\n",
       "  'max_updates': {'value': 100000},\n",
       "  'min_frac': {'value': 0.1},\n",
       "  'dropout_p': {'value': 0.0},\n",
       "  'project_folder': {'value': '/fast/gvisona/SelfPeptides'},\n",
       "  'ramp_up': {'value': 0.1},\n",
       "  'seed': {'value': 0},\n",
       "  'val_size': {'value': 1000},\n",
       "  'gen_size': {'value': 10000},\n",
       "  'validate_every_n_updates': {'value': 100},\n",
       "  'weight_decay': {'value': 0.0},\n",
       "  'early_stopping': {'value': False},\n",
       "  'patience': {'value': 10000},\n",
       "  'hdf5_dataset': {'value': '/home/gvisona/SelfPeptides/processed_data/pre_tokenized_peptides_dataset.hdf5'},\n",
       "  'test_run': {'value': True}}}"
      ]
     },
     "execution_count": 19,
     "metadata": {},
     "output_type": "execute_result"
    }
   ],
   "source": [
    "# with open(\"hyperparameter_sweeps/Classifier_config.yml\", \"r\") as f:\n",
    "with open(\"hyperparameter_sweeps/Embedder_config.yml\", \"r\") as f:\n",
    "    sweep_config = yaml.load(f, Loader=yaml.FullLoader)\n",
    "sweep_config"
   ]
  },
  {
   "cell_type": "code",
   "execution_count": 20,
   "id": "a4f74e3c-8a69-4e1d-aac0-5c1e9d2a7832",
   "metadata": {},
   "outputs": [
    {
     "data": {
      "text/plain": [
       "'Embeddings_hinge_loss_overfit'"
      ]
     },
     "execution_count": 20,
     "metadata": {},
     "output_type": "execute_result"
    }
   ],
   "source": [
    "sweep_config[\"parameters\"][\"experiment_name\"][\"value\"]"
   ]
  },
  {
   "cell_type": "code",
   "execution_count": 21,
   "id": "b0cb350c-1f07-4e03-a45a-2e5fdd6136ae",
   "metadata": {},
   "outputs": [
    {
     "name": "stdout",
     "output_type": "stream",
     "text": [
      "Create sweep with ID: xla67tg6\n",
      "Sweep URL: https://wandb.ai/gvisona/Embeddings_hinge_loss_overfit/sweeps/xla67tg6\n"
     ]
    },
    {
     "data": {
      "text/plain": [
       "'xla67tg6'"
      ]
     },
     "execution_count": 21,
     "metadata": {},
     "output_type": "execute_result"
    }
   ],
   "source": [
    "sweep_id = wandb.sweep(sweep_config, entity=\"gvisona\", project=sweep_config[\"parameters\"][\"experiment_name\"][\"value\"])\n",
    "sweep_id"
   ]
  },
  {
   "cell_type": "markdown",
   "id": "8b64f3b5-9ba3-4ae7-a71b-8a8234caecef",
   "metadata": {},
   "source": [
    "# ResMLP"
   ]
  },
  {
   "cell_type": "code",
   "execution_count": 11,
   "id": "947b658e-585e-4d31-ac37-03ed9e1a95b4",
   "metadata": {},
   "outputs": [
    {
     "data": {
      "text/plain": [
       "{'method': 'random',\n",
       " 'metric': {'goal': 'minimize', 'name': 'best_val_loss'},\n",
       " 'parameters': {'accumulate_batches': {'value': 16},\n",
       "  'batch_size': {'value': 8},\n",
       "  'binding_affinity_df': {'value': '/home/gvisona/Immunology/processed_data/DHLAP_binding_affinity_data.csv'},\n",
       "  'calib_size': {'value': 0.1},\n",
       "  'cool_down': {'distribution': 'uniform', 'max': 0.4, 'min': 0.1},\n",
       "  'experiment_group': {'value': 'IEDB_CLIP_T5_Sweeps'},\n",
       "  'experiment_name': {'value': 'MLP_sweep'},\n",
       "  'immunogenicity_df': {'value': '/home/gvisona/Immunology/processed_data/DHLAP_immunogenicity_data.csv'},\n",
       "  'lr': {'distribution': 'log_uniform_values', 'max': 0.1, 'min': 1e-06},\n",
       "  'max_iter': {'value': 8000},\n",
       "  'min_frac': {'values': [0.1, 0.01, 0.001]},\n",
       "  'mlp_dropout_p': {'values': [0.0, 0.1, 0.2, 0.3, 0.4]},\n",
       "  'mlp_input_dim': {'value': 2048},\n",
       "  'mlp_num_layers': {'values': [1, 2, 3, 4, 5]},\n",
       "  'mlp_hidden_dim': {'values': [128, 512, 1024, 2048]},\n",
       "  'project_folder': {'value': '/fast/gvisona/Immunology'},\n",
       "  'pseudo_seq_file': {'value': '/home/gvisona/Immunology/data/NetMHCpan_pseudoseq/MHC_pseudo.dat'},\n",
       "  'ramp_up': {'distribution': 'uniform', 'max': 0.5, 'min': 0.2},\n",
       "  'seed': {'value': 0},\n",
       "  'test_size': {'value': 0.15},\n",
       "  'transformer_model': {'value': 'Rostlab/prot_t5_xl_half_uniref50-enc'},\n",
       "  'val_size': {'value': 0.1},\n",
       "  'validate_every': {'value': 64},\n",
       "  'weight_decay': {'values': [0.0, 1e-06, 1e-05, 0.0001]}}}"
      ]
     },
     "execution_count": 11,
     "metadata": {},
     "output_type": "execute_result"
    }
   ],
   "source": [
    "with open(\"hyperparameter_sweeps/ResMLP_T5_config.yml\", \"r\") as f:\n",
    "    sweep_config = yaml.load(f, Loader=yaml.FullLoader)\n",
    "sweep_config"
   ]
  },
  {
   "cell_type": "code",
   "execution_count": 12,
   "id": "3a923a5c-bb6a-4d96-8704-af95a00748c7",
   "metadata": {},
   "outputs": [
    {
     "data": {
      "text/plain": [
       "'MLP_sweep'"
      ]
     },
     "execution_count": 12,
     "metadata": {},
     "output_type": "execute_result"
    }
   ],
   "source": [
    "sweep_config[\"parameters\"][\"experiment_name\"][\"value\"]"
   ]
  },
  {
   "cell_type": "code",
   "execution_count": 13,
   "id": "997e2a62-3e04-414a-b7bd-832eef090ede",
   "metadata": {},
   "outputs": [
    {
     "name": "stdout",
     "output_type": "stream",
     "text": [
      "Create sweep with ID: q1ig5kpz\n",
      "Sweep URL: https://wandb.ai/gvisona/MLP_sweep/sweeps/q1ig5kpz\n"
     ]
    },
    {
     "data": {
      "text/plain": [
       "'q1ig5kpz'"
      ]
     },
     "execution_count": 13,
     "metadata": {},
     "output_type": "execute_result"
    }
   ],
   "source": [
    "sweep_id = wandb.sweep(sweep_config, entity=\"gvisona\", project=sweep_config[\"parameters\"][\"experiment_name\"][\"value\"])\n",
    "sweep_id"
   ]
  },
  {
   "cell_type": "markdown",
   "id": "8a5fb64c-aebd-4802-83c8-7a02ecd9921f",
   "metadata": {},
   "source": [
    "# CrossAttn"
   ]
  },
  {
   "cell_type": "code",
   "execution_count": 11,
   "id": "5b3a0d4d-4b83-407e-a9e5-fb107585114e",
   "metadata": {},
   "outputs": [
    {
     "data": {
      "text/plain": [
       "{'method': 'random',\n",
       " 'metric': {'goal': 'minimize', 'name': 'best_val_loss'},\n",
       " 'parameters': {'accumulate_batches': {'value': 16},\n",
       "  'batch_size': {'value': 8},\n",
       "  'binding_affinity_df': {'value': '/home/gvisona/Immunology/processed_data/DHLAP_binding_affinity_data.csv'},\n",
       "  'calib_size': {'value': 0.1},\n",
       "  'cool_down': {'distribution': 'uniform', 'max': 0.4, 'min': 0.1},\n",
       "  'experiment_group': {'value': 'IEDB_CrossAttn_T5_Sweeps'},\n",
       "  'experiment_name': {'value': 'CrossAttn_sweep'},\n",
       "  'immunogenicity_df': {'value': '/home/gvisona/Immunology/processed_data/DHLAP_immunogenicity_data.csv'},\n",
       "  'lr': {'distribution': 'log_uniform_values', 'max': 0.1, 'min': 1e-06},\n",
       "  'max_iter': {'value': 8000},\n",
       "  'min_frac': {'values': [0.1, 0.01, 0.001]},\n",
       "  'embed_dim': {'value': 1024},\n",
       "  'output_size': {'value': 2},\n",
       "  'num_heads': {'values': [1, 2, 4]},\n",
       "  'project_folder': {'value': '/fast/gvisona/Immunology'},\n",
       "  'pseudo_seq_file': {'value': '/home/gvisona/Immunology/data/NetMHCpan_pseudoseq/MHC_pseudo.dat'},\n",
       "  'ramp_up': {'distribution': 'uniform', 'max': 0.5, 'min': 0.2},\n",
       "  'seed': {'value': 0},\n",
       "  'test_size': {'value': 0.15},\n",
       "  'transformer_model': {'value': 'Rostlab/prot_t5_xl_half_uniref50-enc'},\n",
       "  'val_size': {'value': 0.1},\n",
       "  'validate_every': {'value': 64},\n",
       "  'weight_decay': {'values': [0.0, 1e-06, 1e-05, 0.0001]},\n",
       "  't5_lr': {'distribution': 'log_uniform_values',\n",
       "   'max': '5e-3',\n",
       "   'min': '5e-7'},\n",
       "  't5_weight_decay': {'values': [0.0, 1e-06, 1e-05, 0.0001]},\n",
       "  't5_min_frac': {'values': [0.1, 0.01, 0.001]},\n",
       "  't5_delay': {'distribution': 'uniform', 'max': 0.4, 'min': 0.01},\n",
       "  't5_ramp_up': {'distribution': 'uniform', 'max': 0.4, 'min': 0.1},\n",
       "  't5_cool_down': {'value': 0.2},\n",
       "  'patience': {'value': 500}}}"
      ]
     },
     "execution_count": 11,
     "metadata": {},
     "output_type": "execute_result"
    }
   ],
   "source": [
    "with open(\"hyperparameter_sweeps/CrossAttn_T5_config.yml\", \"r\") as f:\n",
    "    sweep_config = yaml.load(f, Loader=yaml.FullLoader)\n",
    "sweep_config"
   ]
  },
  {
   "cell_type": "code",
   "execution_count": 12,
   "id": "26f9d206-7ed7-4eb6-8ca6-14f4fb954f7d",
   "metadata": {},
   "outputs": [
    {
     "data": {
      "text/plain": [
       "'CrossAttn_sweep'"
      ]
     },
     "execution_count": 12,
     "metadata": {},
     "output_type": "execute_result"
    }
   ],
   "source": [
    "sweep_config[\"parameters\"][\"experiment_name\"][\"value\"]"
   ]
  },
  {
   "cell_type": "code",
   "execution_count": 13,
   "id": "a8b18352-537a-42e2-b7b6-698076457932",
   "metadata": {},
   "outputs": [
    {
     "name": "stdout",
     "output_type": "stream",
     "text": [
      "Create sweep with ID: op6lmass\n",
      "Sweep URL: https://wandb.ai/gvisona/CrossAttn_sweep/sweeps/op6lmass\n"
     ]
    },
    {
     "data": {
      "text/plain": [
       "'op6lmass'"
      ]
     },
     "execution_count": 13,
     "metadata": {},
     "output_type": "execute_result"
    }
   ],
   "source": [
    "sweep_id = wandb.sweep(sweep_config, entity=\"gvisona\", project=sweep_config[\"parameters\"][\"experiment_name\"][\"value\"])\n",
    "sweep_id"
   ]
  },
  {
   "cell_type": "code",
   "execution_count": null,
   "id": "855eefe8-910a-47e9-8a81-8cf0c5efa532",
   "metadata": {},
   "outputs": [],
   "source": []
  }
 ],
 "metadata": {
  "kernelspec": {
   "display_name": "Python 3 (ipykernel)",
   "language": "python",
   "name": "python3"
  },
  "language_info": {
   "codemirror_mode": {
    "name": "ipython",
    "version": 3
   },
   "file_extension": ".py",
   "mimetype": "text/x-python",
   "name": "python",
   "nbconvert_exporter": "python",
   "pygments_lexer": "ipython3",
   "version": "3.10.0"
  }
 },
 "nbformat": 4,
 "nbformat_minor": 5
}
